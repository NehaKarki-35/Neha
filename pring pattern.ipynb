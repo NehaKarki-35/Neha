{
 "cells": [
  {
   "cell_type": "markdown",
   "id": "7c187303-c377-4440-bf1a-c5be60fb8123",
   "metadata": {},
   "source": [
    "# Using Scape Sequences(\\n AND \\t)"
   ]
  },
  {
   "cell_type": "markdown",
   "id": "237697cc-232d-4e4a-80d6-fa77eed64344",
   "metadata": {},
   "source": [
    "# Make a circle and tarngle and circle using scape sequences"
   ]
  },
  {
   "cell_type": "code",
   "execution_count": 1,
   "id": "4ea6a773-0aad-4084-a2c2-c75f0c8d3a17",
   "metadata": {},
   "outputs": [
    {
     "name": "stdout",
     "output_type": "stream",
     "text": [
      "\t\t*\t\t\n",
      "\t    *       *\n",
      "\t*\t*\t*\n"
     ]
    }
   ],
   "source": [
    "print(\"\\t\\t*\\t\\t\")\n",
    "print(\"\\t    *       *\")\n",
    "print(\"\\t*\\t*\\t*\")\n"
   ]
  },
  {
   "cell_type": "code",
   "execution_count": 2,
   "id": "e51220f2-33d9-45ef-b1ce-75dbe65bb033",
   "metadata": {},
   "outputs": [
    {
     "name": "stdout",
     "output_type": "stream",
     "text": [
      "\t\t      *\t\t\n",
      "\t         *          *\n",
      "\t     *                  *\n",
      "\t *                          *\n",
      "\t*                              *\n",
      "\t    *                     *\n",
      "\t        *            *\n",
      "\t\t      *\t\t\n"
     ]
    }
   ],
   "source": [
    "print(\"\\t\\t      *\\t\\t\")\n",
    "print(\"\\t         *          *\")\n",
    "print(\"\\t     *                  *\")\n",
    "print(\"\\t *                          *\")\n",
    "#print(\"\\t   *          *\")\n",
    "#print(\"\\t\\t*\\t\\t\n",
    "print(\"\\t*                              *\")\n",
    "print(\"\\t    *                     *\")\n",
    "print(\"\\t        *            *\")\n",
    "print(\"\\t\\t      *\\t\\t\")\n",
    "\n",
    "\n"
   ]
  },
  {
   "cell_type": "code",
   "execution_count": 3,
   "id": "e1525a86-4abb-4e78-ad4c-02858b0b67c0",
   "metadata": {},
   "outputs": [
    {
     "name": "stdout",
     "output_type": "stream",
     "text": [
      "\t\t             *\t\t\n",
      "\t                 *        *\n",
      "\t              *                *\n",
      "\t          *                          *\n",
      "\t       *                                  *\n",
      "          *          *          *          *          *\n"
     ]
    }
   ],
   "source": [
    "print(\"\\t\\t             *\\t\\t\")\n",
    "print(\"\\t                 *        *\")\n",
    "print(\"\\t              *                *\")\n",
    "print(\"\\t          *                          *\")\n",
    "print(\"\\t       *                                  *\")\n",
    "print(\"          *\" *5)\n"
   ]
  },
  {
   "cell_type": "code",
   "execution_count": 2,
   "id": "dca03234-0ddd-43ee-a8a8-188f9ca230a2",
   "metadata": {},
   "outputs": [
    {
     "name": "stdout",
     "output_type": "stream",
     "text": [
      "          *          *          *          *          *\n",
      "\t       *                                  *\n",
      "\t          *                          *\n",
      "\t              *                *\n",
      "\t                 *        *\n",
      "\t\t              *\t\t\n"
     ]
    }
   ],
   "source": [
    "print(\"          *\" *5)\n",
    "print(\"\\t       *                                  *\")\n",
    "print(\"\\t          *                          *\")\n",
    "print(\"\\t              *                *\")\n",
    "print(\"\\t                 *        *\")\n",
    "print(\"\\t\\t              *\\t\\t\")\n",
    "\n"
   ]
  },
  {
   "cell_type": "code",
   "execution_count": 5,
   "id": "98374a8b-0765-44b1-9c79-6bd627f89d12",
   "metadata": {},
   "outputs": [
    {
     "name": "stdout",
     "output_type": "stream",
     "text": [
      "\t*\t*\t*\n",
      "\t    *       *\n",
      "\t\t*\t\t\n"
     ]
    }
   ],
   "source": [
    "print(\"\\t*\\t*\\t*\")\n",
    "print(\"\\t    *       *\")\n",
    "print(\"\\t\\t*\\t\\t\")\n",
    "\n",
    "\n"
   ]
  },
  {
   "cell_type": "code",
   "execution_count": 6,
   "id": "af5ee95b-c74a-4e0b-9d4a-943787ca266f",
   "metadata": {},
   "outputs": [
    {
     "name": "stdout",
     "output_type": "stream",
     "text": [
      "\t\t      *\t\t\n",
      "\t         *          *\n",
      "\t     *                  *\n",
      "\t *                          *\n",
      "\t*                              *\n",
      "\t    *                     *\n",
      "\t        *            *\n",
      "\t\t      *\t\t\n"
     ]
    }
   ],
   "source": [
    "print(\"\\t\\t      *\\t\\t\")\n",
    "print(\"\\t         *          *\")\n",
    "print(\"\\t     *                  *\")\n",
    "print(\"\\t *                          *\")\n",
    "#print(\"\\t   *          *\")\n",
    "#print(\"\\t\\t*\\t\\t\n",
    "print(\"\\t*                              *\")\n",
    "print(\"\\t    *                     *\")\n",
    "print(\"\\t        *            *\")\n",
    "print(\"\\t\\t      *\\t\\t\")\n",
    "\n",
    "\n"
   ]
  },
  {
   "cell_type": "markdown",
   "id": "31afc219-d175-4337-a736-78534d898545",
   "metadata": {},
   "source": [
    "# PRINTING STAR "
   ]
  },
  {
   "cell_type": "code",
   "execution_count": 76,
   "id": "ca7d453a-bf28-4285-8a9e-a9f59cdba0a0",
   "metadata": {},
   "outputs": [
    {
     "name": "stdout",
     "output_type": "stream",
     "text": [
      "\t\t                                                                *\n",
      "\t                                                                      *    *\n",
      "\t                                                                    *         *\n",
      "\t                                                                  *              *\n",
      "\t                                                                *                   *\n",
      "\t                                                             *                           *\n",
      "\t                                                        *                                     *\n",
      "\t                                                    *                                              *\n",
      "\t                                                *                                                       *\n",
      "\t                                            *                                                                *\n",
      "\t                                               *                                                          *\n",
      "\t                                                  *                                                    *\n",
      "\t                                                     *                                               *\n",
      "\t                                                        *                                         *\n",
      "\t                                                           *                                    *\n",
      "\t                                                                *                             *\n",
      "\t                                                                    *                      *\n",
      "\t                                                                        *               *\n",
      "\t\t                                                                         *\n"
     ]
    }
   ],
   "source": [
    "print(\"\\t\\t                                                                *\")\n",
    "print(\"\\t                                                                      *    *\")\n",
    "print(\"\\t                                                                    *         *\")\n",
    "print(\"\\t                                                                  *              *\")\n",
    "print(\"\\t                                                                *                   *\")\n",
    "print(\"\\t                                                             *                           *\")\n",
    "print(\"\\t                                                        *                                     *\")\n",
    "print(\"\\t                                                    *                                              *\")\n",
    "print(\"\\t                                                *                                                       *\")\n",
    "print(\"\\t                                            *                                                                *\")\n",
    "print(\"\\t                                               *                                                          *\")\n",
    "print(\"\\t                                                  *                                                    *\")\n",
    "print(\"\\t                                                     *                                               *\")\n",
    "print(\"\\t                                                        *                                         *\")\n",
    "print(\"\\t                                                           *                                    *\")\n",
    "print(\"\\t                                                                *                             *\")\n",
    "print(\"\\t                                                                    *                      *\")\n",
    "print(\"\\t                                                                        *               *\")\n",
    "print(\"\\t\\t                                                                         *\")\n",
    "\n",
    "\n",
    "\n",
    "\n",
    "\n"
   ]
  },
  {
   "cell_type": "markdown",
   "id": "a2552d6a-4466-44e1-b371-5604cb8d0a64",
   "metadata": {},
   "source": [
    "# Printing Square"
   ]
  },
  {
   "cell_type": "code",
   "execution_count": 136,
   "id": "c9df332d-2f30-43b1-a581-913ad7e1cbfc",
   "metadata": {},
   "outputs": [
    {
     "name": "stdout",
     "output_type": "stream",
     "text": [
      "        *        *        *        *        *\n",
      "\n",
      "\t*                                   *\n",
      "\n",
      "\t*                                   *\n",
      "\n",
      "\t*                                   *\n",
      "\n",
      "\t*                                   *\n",
      "\t*        *        *         *       *\n"
     ]
    }
   ],
   "source": [
    "print(\"        *\" * 5)\n",
    "print(\"\\n\\t*                                   *\" )\n",
    "print(\"\\n\\t*                                   *\" )\n",
    "print(\"\\n\\t*                                   *\" )\n",
    "print(\"\\n\\t*                                   *\" )\n",
    "print(\"\\t*        *        *         *       *\")\n",
    "\n",
    "\n",
    "\n",
    "\n"
   ]
  },
  {
   "cell_type": "markdown",
   "id": "fe928fe5-72a2-46f7-b88d-cb29c3a8997e",
   "metadata": {},
   "source": [
    " # Pring pizza shape"
   ]
  },
  {
   "cell_type": "code",
   "execution_count": 160,
   "id": "a2a6eb70-0743-4be2-9c9b-80cdf464374d",
   "metadata": {},
   "outputs": [
    {
     "name": "stdout",
     "output_type": "stream",
     "text": [
      "\t\t                                                                *\n",
      "\t                                                                      *    *\n",
      "\t                                                                    *         *\n",
      "\t                                                                  *             *\n",
      "\t                                                                *        0          *\n",
      "\t                                                                *                  *\n",
      "\t                                                                 *                *\n",
      "\t                                                                    *           *\n",
      "\t                                                                         *  *\n"
     ]
    }
   ],
   "source": [
    "print(\"\\t\\t                                                                *\")\n",
    "print(\"\\t                                                                      *    *\")\n",
    "print(\"\\t                                                                    *         *\")\n",
    "print(\"\\t                                                                  *             *\")\n",
    "print(\"\\t                                                                *        0          *\")\n",
    "print(\"\\t                                                                *                  *\")\n",
    "print(\"\\t                                                                 *                *\")\n",
    "print(\"\\t                                                                    *           *\")\n",
    "print(\"\\t                                                                         *  *\")\n",
    "\n",
    "\n",
    "\n",
    "\n",
    "                                                                \n",
    "\n",
    "\n"
   ]
  },
  {
   "cell_type": "code",
   "execution_count": null,
   "id": "925172bf-3e78-42c3-9f5f-6db20066ed3e",
   "metadata": {},
   "outputs": [],
   "source": [
    "\n",
    "                                                                "
   ]
  },
  {
   "cell_type": "markdown",
   "id": "860ce525-4aea-4ac9-88e5-45da7ce1fe17",
   "metadata": {},
   "source": [
    "# Print circle"
   ]
  },
  {
   "cell_type": "code",
   "execution_count": 176,
   "id": "18b70cff-5012-4bde-88d5-3204314eef5e",
   "metadata": {},
   "outputs": [
    {
     "name": "stdout",
     "output_type": "stream",
     "text": [
      "\t                                                                        *  *\n",
      "\t                                                                    *           *\n",
      "\t                                                                  *               *\n",
      "\t                                                                *                  *\n",
      "\t                                                                *                   *\n",
      "\t                                                                *                  *\n",
      "\t                                                                 *                *\n",
      "\t                                                                    *           *\n",
      "\t                                                                         *  *\n"
     ]
    }
   ],
   "source": [
    "\n",
    "\n",
    "print(\"\\t                                                                        *  *\")\n",
    "print(\"\\t                                                                    *           *\")\n",
    "print(\"\\t                                                                  *               *\")\n",
    "print(\"\\t                                                                *                  *\")\n",
    "print(\"\\t                                                                *                   *\")\n",
    "print(\"\\t                                                                *                  *\")\n",
    "print(\"\\t                                                                 *                *\")\n",
    "print(\"\\t                                                                    *           *\")\n",
    "print(\"\\t                                                                         *  *\")\n",
    "\n",
    "\n",
    "\n"
   ]
  },
  {
   "cell_type": "code",
   "execution_count": null,
   "id": "06e2da7b-11bf-4ac4-a912-4263b9fb0a02",
   "metadata": {},
   "outputs": [],
   "source": []
  },
  {
   "cell_type": "code",
   "execution_count": null,
   "id": "8b9fa9f6-7b6d-4845-9aab-03d11dc1e83c",
   "metadata": {},
   "outputs": [],
   "source": []
  },
  {
   "cell_type": "code",
   "execution_count": null,
   "id": "3fd76141-7598-4577-9228-83ae3a4dedf0",
   "metadata": {},
   "outputs": [],
   "source": []
  },
  {
   "cell_type": "code",
   "execution_count": null,
   "id": "de792279-5659-46b6-ad85-3cca250c8243",
   "metadata": {},
   "outputs": [],
   "source": []
  }
 ],
 "metadata": {
  "kernelspec": {
   "display_name": "Python 3 (ipykernel)",
   "language": "python",
   "name": "python3"
  },
  "language_info": {
   "codemirror_mode": {
    "name": "ipython",
    "version": 3
   },
   "file_extension": ".py",
   "mimetype": "text/x-python",
   "name": "python",
   "nbconvert_exporter": "python",
   "pygments_lexer": "ipython3",
   "version": "3.13.5"
  }
 },
 "nbformat": 4,
 "nbformat_minor": 5
}
