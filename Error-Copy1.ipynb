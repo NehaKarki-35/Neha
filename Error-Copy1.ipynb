{
 "cells": [
  {
   "cell_type": "markdown",
   "id": "6ee30007-97cc-4a31-9ea6-2ea73bba2fcf",
   "metadata": {},
   "source": [
    "NameError: name 'tuple1' is not defined\n"
   ]
  },
  {
   "cell_type": "markdown",
   "id": "62efc874-1817-42bb-8450-70dfd8c21372",
   "metadata": {},
   "source": [
    "SyntaxError: invalid syntax. Perhaps you forgot a comma?\n"
   ]
  },
  {
   "cell_type": "markdown",
   "id": "3f198645-b1ab-411b-88f8-0b69f6c7fafa",
   "metadata": {},
   "source": [
    "NameError: name 'ch' is not defined\n"
   ]
  },
  {
   "cell_type": "markdown",
   "id": "07b4ec9f-02c0-4c11-96ca-33df899c6115",
   "metadata": {},
   "source": [
    "NameError: name 'tuple1' is not defined\n"
   ]
  },
  {
   "cell_type": "markdown",
   "id": "09cae751-46af-49d4-b745-199ef66f784e",
   "metadata": {},
   "source": [
    "TypeError: can't multiply sequence by non-int of type 'list'\n"
   ]
  },
  {
   "cell_type": "markdown",
   "id": "3cc4368f-56df-451f-9b11-5d002788246f",
   "metadata": {},
   "source": [
    "AttributeError: 'list' object attribute 'extend' is read-only\n"
   ]
  },
  {
   "cell_type": "markdown",
   "id": "25318f26-17f7-4743-8074-ea6a25e9ec59",
   "metadata": {},
   "source": [
    "SyntaxError: unterminated string literal (detected at line 1)"
   ]
  },
  {
   "cell_type": "markdown",
   "id": "0ca32424-1c04-4a72-abca-724d2d6991bf",
   "metadata": {},
   "source": [
    "NameError: name 'str_data_set' is not defined\n"
   ]
  },
  {
   "cell_type": "markdown",
   "id": "db202db1-20e2-45aa-bfc5-4ebf9d5027f8",
   "metadata": {},
   "source": [
    "AttributeError: 'set' object has no attribute 'append'\n"
   ]
  },
  {
   "cell_type": "markdown",
   "id": "76dc68df-d0e2-415c-bdcd-54752b1a5e73",
   "metadata": {},
   "source": [
    "IndentationError: expected an indented block after 'for' statement on line 8"
   ]
  },
  {
   "cell_type": "markdown",
   "id": "0d0be718-0989-4497-8d8b-9c5ea0d82105",
   "metadata": {},
   "source": [
    "TypeError: bad operand type for unary -: 'str'\n",
    "\n",
    "Click to add a cell."
   ]
  },
  {
   "cell_type": "markdown",
   "id": "462246e8-17f9-4a20-94b7-cc41078e1538",
   "metadata": {},
   "source": [
    "SyntaxError: invalid syntax. Perhaps you forgot a comma?\n"
   ]
  },
  {
   "cell_type": "markdown",
   "id": "46d610c7-e5e2-4276-ae18-00cdbb6a84e4",
   "metadata": {},
   "source": [
    "TypeError: 'builtin_function_or_method' object is not subscriptable\n"
   ]
  },
  {
   "cell_type": "markdown",
   "id": "4d2aba1a-c4c1-4c40-9492-20af0c6011c5",
   "metadata": {},
   "source": [
    "typeError: 'int' object is not subscriptable"
   ]
  },
  {
   "cell_type": "markdown",
   "id": "ea3d77b2-8a17-4a5d-b518-ffc94e7b7a45",
   "metadata": {},
   "source": [
    "IndentationError: expected an indented block after 'for' statement on line 6\n"
   ]
  },
  {
   "cell_type": "markdown",
   "id": "310b444b-469c-4edc-87cd-a5442e7495b5",
   "metadata": {},
   "source": [
    "TypeError: cannot set 'name' attribute of immutable type 'str'\n"
   ]
  },
  {
   "cell_type": "code",
   "execution_count": null,
   "id": "05909452-2ff0-4659-983d-5fbc9183d8ae",
   "metadata": {},
   "outputs": [],
   "source": []
  },
  {
   "cell_type": "code",
   "execution_count": null,
   "id": "0ff0fc44-653e-4255-a260-ba74c8050be3",
   "metadata": {},
   "outputs": [],
   "source": []
  }
 ],
 "metadata": {
  "kernelspec": {
   "display_name": "Python 3 (ipykernel)",
   "language": "python",
   "name": "python3"
  },
  "language_info": {
   "codemirror_mode": {
    "name": "ipython",
    "version": 3
   },
   "file_extension": ".py",
   "mimetype": "text/x-python",
   "name": "python",
   "nbconvert_exporter": "python",
   "pygments_lexer": "ipython3",
   "version": "3.13.5"
  }
 },
 "nbformat": 4,
 "nbformat_minor": 5
}
