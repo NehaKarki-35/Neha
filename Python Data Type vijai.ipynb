{
 "cells": [
  {
   "cell_type": "markdown",
   "id": "53e7d2e2-0fb3-4c76-81be-fa6ed139c7eb",
   "metadata": {},
   "source": [
    "  # There is 2 types of data "
   ]
  },
  {
   "cell_type": "markdown",
   "id": "6dc1a3c0-6100-4579-907f-597a8e36025d",
   "metadata": {},
   "source": [
    "# Mutable And Immutable"
   ]
  },
  {
   "cell_type": "markdown",
   "id": "ff193564-31cc-48f6-9fe1-41a7c768fb4f",
   "metadata": {},
   "source": [
    " # mutable data types"
   ]
  },
  {
   "cell_type": "markdown",
   "id": "d36a0a7e-34c1-4d88-b46f-de33ff3c8a41",
   "metadata": {},
   "source": [
    "***mutable data types are those data types which can be change but after changing there memory address do not changes. List , set, and dictonary\n",
    "and dictnrnary lsd***"
   ]
  },
  {
   "cell_type": "markdown",
   "id": "7b948a32-f4bc-4fd4-9269-2563fcf2df17",
   "metadata": {
    "jp-MarkdownHeadingCollapsed": true
   },
   "source": [
    "# List"
   ]
  },
  {
   "cell_type": "markdown",
   "id": "eb803974-ae65-47d4-a0da-51ee88c635c2",
   "metadata": {},
   "source": [
    "# list is a Muttable Data Type Having Following Characterstic  list is itrasation Denoted By []\n",
    "***that is it can be mdiffyed ,replace , or deleted without chaning memory address***\n",
    "***it contains dublecats items***\n",
    "***the list can have twoitems with the same values***\n",
    "***list is itreabale is***"
   ]
  },
  {
   "cell_type": "markdown",
   "id": "bcc2d214-0545-48a8-99ae-91e051b9c4be",
   "metadata": {},
   "source": [
    "***list is ordered that is the order of tha element is in based in such a way that they can be edit in some order\n",
    "the items of list can be accessed directly using there index number start from 0***"
   ]
  },
  {
   "cell_type": "markdown",
   "id": "4cda871f-54e2-42f3-a412-678e74610e8f",
   "metadata": {},
   "source": [
    "***list contains mixed type of contain of data***"
   ]
  },
  {
   "cell_type": "markdown",
   "id": "37258169-f8ed-489e-9626-382c86aa5ddd",
   "metadata": {},
   "source": [
    "# creating a Python list With different data types "
   ]
  },
  {
   "cell_type": "code",
   "execution_count": 4,
   "id": "9df7d07c-1764-4e75-94cd-2e01b0f54cc3",
   "metadata": {},
   "outputs": [
    {
     "name": "stdout",
     "output_type": "stream",
     "text": [
      "[29, 'neha', 24]\n"
     ]
    }
   ],
   "source": [
    "lists_items = [29,\"neha\",(24) ]\n",
    "print(lists_items)"
   ]
  },
  {
   "cell_type": "markdown",
   "id": "db050437-4f31-422f-a491-10fb1a3ff9cd",
   "metadata": {},
   "source": [
    "# The list constructor or using square bracets[]"
   ]
  },
  {
   "cell_type": "code",
   "execution_count": 5,
   "id": "a2a52440-290e-48a7-b5b4-9127d7a8c826",
   "metadata": {},
   "outputs": [
    {
     "ename": "NameError",
     "evalue": "name 'tuple1' is not defined",
     "output_type": "error",
     "traceback": [
      "\u001b[1;31m---------------------------------------------------------------------------\u001b[0m",
      "\u001b[1;31mNameError\u001b[0m                                 Traceback (most recent call last)",
      "Cell \u001b[1;32mIn[5], line 2\u001b[0m\n\u001b[0;32m      1\u001b[0m [\u001b[38;5;241m1\u001b[39m,\u001b[38;5;241m6\u001b[39m,\u001b[38;5;241m8\u001b[39m,\u001b[38;5;241m90\u001b[39m]\n\u001b[1;32m----> 2\u001b[0m list1\u001b[38;5;241m=\u001b[39m\u001b[38;5;28mlist\u001b[39m(tuple1)\n\u001b[0;32m      3\u001b[0m \u001b[38;5;28mprint\u001b[39m(list1)\n",
      "\u001b[1;31mNameError\u001b[0m: name 'tuple1' is not defined"
     ]
    }
   ],
   "source": [
    "[1,6,8,90]\n",
    "list1=list(tuple1)\n",
    "print(list1)"
   ]
  },
  {
   "cell_type": "code",
   "execution_count": 6,
   "id": "37a452ca-774a-4521-8c18-0f7d7f9489c3",
   "metadata": {},
   "outputs": [],
   "source": [
    "# iterable data types\n",
    "list1=[1,7,90]\n",
    "tuple=(1,6,8,90)\n",
    "set1={2,7,90,67}\n",
    "str1=\"aditya\""
   ]
  },
  {
   "cell_type": "code",
   "execution_count": 7,
   "id": "dc2f3747-240d-47ce-80f0-374da8f47c2a",
   "metadata": {},
   "outputs": [
    {
     "ename": "NameError",
     "evalue": "name 'tuple1' is not defined",
     "output_type": "error",
     "traceback": [
      "\u001b[1;31m---------------------------------------------------------------------------\u001b[0m",
      "\u001b[1;31mNameError\u001b[0m                                 Traceback (most recent call last)",
      "Cell \u001b[1;32mIn[7], line 1\u001b[0m\n\u001b[1;32m----> 1\u001b[0m list1\u001b[38;5;241m=\u001b[39m\u001b[38;5;28mlist\u001b[39m(tuple1)\n\u001b[0;32m      2\u001b[0m \u001b[38;5;28mprint\u001b[39m(list1)\n",
      "\u001b[1;31mNameError\u001b[0m: name 'tuple1' is not defined"
     ]
    }
   ],
   "source": [
    "list1=list(tuple1)\n",
    "print(list1)"
   ]
  },
  {
   "cell_type": "code",
   "execution_count": 8,
   "id": "62fe7e96-5f28-4c40-aa08-b9f35e217c90",
   "metadata": {},
   "outputs": [
    {
     "ename": "NameError",
     "evalue": "name 'tuple1' is not defined",
     "output_type": "error",
     "traceback": [
      "\u001b[1;31m---------------------------------------------------------------------------\u001b[0m",
      "\u001b[1;31mNameError\u001b[0m                                 Traceback (most recent call last)",
      "Cell \u001b[1;32mIn[8], line 2\u001b[0m\n\u001b[0;32m      1\u001b[0m \u001b[38;5;28mtuple\u001b[39m \u001b[38;5;241m=\u001b[39m(\u001b[38;5;241m1\u001b[39m,\u001b[38;5;241m6\u001b[39m,\u001b[38;5;241m8\u001b[39m,\u001b[38;5;241m90\u001b[39m)\n\u001b[1;32m----> 2\u001b[0m list1\u001b[38;5;241m=\u001b[39m\u001b[38;5;28mlist\u001b[39m(tuple1)\n\u001b[0;32m      3\u001b[0m \u001b[38;5;28mprint\u001b[39m(list1)\n",
      "\u001b[1;31mNameError\u001b[0m: name 'tuple1' is not defined"
     ]
    }
   ],
   "source": [
    "tuple =(1,6,8,90)\n",
    "list1=list(tuple1)\n",
    "print(list1)"
   ]
  },
  {
   "cell_type": "markdown",
   "id": "50c81c29-5fee-4867-a0e3-f3d64db6c972",
   "metadata": {},
   "source": [
    "# Indexing"
   ]
  },
  {
   "cell_type": "markdown",
   "id": "e4676b1b-9367-48e1-88bc-4696e94ce566",
   "metadata": {},
   "source": [
    "***List is ordered accesing items of a list (indexing shows the property of list beging ordered)***"
   ]
  },
  {
   "cell_type": "markdown",
   "id": "ee1de050-d947-40fd-b6cf-b9ff30bc20d2",
   "metadata": {},
   "source": [
    "***The items in a list can be accesed through indexing and slicing .This section will guide you by accessing the ist using the following two ways***"
   ]
  },
  {
   "cell_type": "markdown",
   "id": "c7110783-4f18-492a-8c8b-caa847563c0e",
   "metadata": {},
   "source": [
    "***using indexing we can access any items from a lsit using its index number****"
   ]
  },
  {
   "cell_type": "markdown",
   "id": "919318c6-264e-40c3-8603-cbdddf68686d",
   "metadata": {},
   "source": [
    "***using slicing , we can access a range of items from a list***"
   ]
  },
  {
   "cell_type": "code",
   "execution_count": 13,
   "id": "0cf927b7-1dde-4aa8-922e-7616ff7b335a",
   "metadata": {},
   "outputs": [
    {
     "name": "stdout",
     "output_type": "stream",
     "text": [
      "h\n"
     ]
    }
   ],
   "source": [
    "name=\"neha\"\n",
    "print(name[2])"
   ]
  },
  {
   "cell_type": "code",
   "execution_count": 14,
   "id": "c5b61e3a-38cd-4a7e-ad8c-4216771a1041",
   "metadata": {},
   "outputs": [
    {
     "name": "stdout",
     "output_type": "stream",
     "text": [
      "4\n"
     ]
    }
   ],
   "source": [
    "name=\"neha\"\n",
    "print(len(name))"
   ]
  },
  {
   "cell_type": "code",
   "execution_count": 15,
   "id": "3b7cdfbc-66c3-4862-b5e7-9697e81e1175",
   "metadata": {},
   "outputs": [
    {
     "name": "stdout",
     "output_type": "stream",
     "text": [
      "38.5\n"
     ]
    }
   ],
   "source": [
    "list1_int=[29,25,38.5,62]\n",
    "print(list1_int[2])"
   ]
  },
  {
   "cell_type": "code",
   "execution_count": 19,
   "id": "fbf31d1c-6465-49d5-a81d-a23f546f7140",
   "metadata": {},
   "outputs": [
    {
     "name": "stdout",
     "output_type": "stream",
     "text": [
      "29\n"
     ]
    }
   ],
   "source": [
    "list1_int=[29,25,38.5,62,34444.34,344]\n",
    "print(list1_int[-6])"
   ]
  },
  {
   "cell_type": "code",
   "execution_count": 20,
   "id": "2decf36a-57fd-4162-b9c6-0057f8dcfd60",
   "metadata": {},
   "outputs": [
    {
     "name": "stdout",
     "output_type": "stream",
     "text": [
      "25\n"
     ]
    }
   ],
   "source": [
    "list1_int=[29,25,38.5,62,34444.34,344]\n",
    "print(list1_int[-5])"
   ]
  },
  {
   "cell_type": "code",
   "execution_count": 24,
   "id": "6b3ba625-d990-4fa6-a509-d4c754e89355",
   "metadata": {},
   "outputs": [
    {
     "name": "stdout",
     "output_type": "stream",
     "text": [
      "6\n"
     ]
    }
   ],
   "source": [
    "list1_int=[29,25,38.5,62,34444.34,344]\n",
    "print(len (list1_int))"
   ]
  },
  {
   "cell_type": "code",
   "execution_count": 28,
   "id": "bb2c6ab2-ca37-4d8a-b284-7a0c05cdc451",
   "metadata": {},
   "outputs": [
    {
     "name": "stdout",
     "output_type": "stream",
     "text": [
      "[29, 25, 38.5]\n"
     ]
    }
   ],
   "source": [
    "list1_int=[29,25,38.5,62,34444.34,344]\n",
    "print(list1_int[0:3])"
   ]
  },
  {
   "cell_type": "code",
   "execution_count": 30,
   "id": "edd7c53b-109e-4838-b061-3b52a0954295",
   "metadata": {
    "scrolled": true
   },
   "outputs": [
    {
     "name": "stdout",
     "output_type": "stream",
     "text": [
      "[25, 38.5, 62, 34444.34, 344]\n"
     ]
    }
   ],
   "source": [
    "list1_int=[29,25,38.5,62,34444.34,344]\n",
    "print(list1_int[1:6])"
   ]
  },
  {
   "cell_type": "code",
   "execution_count": 33,
   "id": "1b162bd8-09a6-41bc-aa12-b536a79ae4f6",
   "metadata": {},
   "outputs": [
    {
     "name": "stdout",
     "output_type": "stream",
     "text": [
      "[38.5, 62, 34444.34, 344]\n"
     ]
    }
   ],
   "source": [
    "list1_int=[29,25,38.5,62,34444.34,344]\n",
    "print(list1_int[2: ])"
   ]
  },
  {
   "cell_type": "code",
   "execution_count": 4,
   "id": "86510624-2887-4f9f-a126-8781d2197bed",
   "metadata": {},
   "outputs": [
    {
     "name": "stdout",
     "output_type": "stream",
     "text": [
      "3\n"
     ]
    }
   ],
   "source": [
    "name=[\"neha\" ,\"neha\",\"neha\"]\n",
    "print(len(name))"
   ]
  },
  {
   "cell_type": "code",
   "execution_count": 5,
   "id": "3e21f8a1-570e-4d84-88d8-91da2466c88e",
   "metadata": {},
   "outputs": [
    {
     "name": "stdout",
     "output_type": "stream",
     "text": [
      "['neha', 'neha', 'neha']\n"
     ]
    }
   ],
   "source": [
    "name=[\"neha\" ,\"neha\",\"neha\"]\n",
    "print(str(name))"
   ]
  },
  {
   "cell_type": "code",
   "execution_count": 16,
   "id": "cf5f6890-3f0d-404b-8fe5-42d289a48fa7",
   "metadata": {},
   "outputs": [
    {
     "name": "stdout",
     "output_type": "stream",
     "text": [
      "mango\n"
     ]
    }
   ],
   "source": [
    "list_items=(\"mango\",\"apple\",\"orange\")\n",
    "print(list_items[0])"
   ]
  },
  {
   "cell_type": "code",
   "execution_count": 17,
   "id": "692277e1-bd47-4034-b258-1a821d627f23",
   "metadata": {},
   "outputs": [
    {
     "name": "stdout",
     "output_type": "stream",
     "text": [
      "apple\n"
     ]
    }
   ],
   "source": [
    "list_items=(\"mango\",\"apple\",\"orange\")\n",
    "print(list_items[1])"
   ]
  },
  {
   "cell_type": "code",
   "execution_count": 18,
   "id": "44570134-0c07-4d2f-8aa4-478c9bc27b17",
   "metadata": {},
   "outputs": [
    {
     "name": "stdout",
     "output_type": "stream",
     "text": [
      "mango\n"
     ]
    }
   ],
   "source": [
    "list_items=(\"mango\",\"apple\",\"orange\")\n",
    "print(list_items[0])"
   ]
  },
  {
   "cell_type": "code",
   "execution_count": 19,
   "id": "051eca9a-33ca-4045-91ed-57dbf1b7ff3b",
   "metadata": {},
   "outputs": [
    {
     "name": "stdout",
     "output_type": "stream",
     "text": [
      "3\n"
     ]
    }
   ],
   "source": [
    "name=[\"neha\" ,\"neha\",\"neha\"]\n",
    "print(len(name))"
   ]
  },
  {
   "cell_type": "code",
   "execution_count": 21,
   "id": "e4fd0d19-b2d0-485a-a813-eb32bb4f9fed",
   "metadata": {},
   "outputs": [
    {
     "name": "stdout",
     "output_type": "stream",
     "text": [
      "{'age': 28, 'name': 'neha'}\n"
     ]
    }
   ],
   "source": [
    "age={\"age\":28, \"name\":\"neha\", }\n",
    "print(age)"
   ]
  },
  {
   "cell_type": "code",
   "execution_count": 23,
   "id": "11fad4b0-f3c8-4473-b5ce-0e2217f67f28",
   "metadata": {},
   "outputs": [
    {
     "name": "stdout",
     "output_type": "stream",
     "text": [
      "{'apple', 'age', 'name'}\n"
     ]
    }
   ],
   "source": [
    "name={\"name\", \"age\", \"apple\"}\n",
    "print(name)"
   ]
  },
  {
   "cell_type": "code",
   "execution_count": 26,
   "id": "8d759963-41e0-4ec4-9f99-2df954355947",
   "metadata": {},
   "outputs": [
    {
     "name": "stdout",
     "output_type": "stream",
     "text": [
      "['name', 'mango']\n"
     ]
    }
   ],
   "source": [
    "name=[\"name\", \"mango\"]\n",
    "print(name)"
   ]
  },
  {
   "cell_type": "code",
   "execution_count": 28,
   "id": "60d74f7e-2b6c-4fc5-b5b2-cff3c3bec64a",
   "metadata": {},
   "outputs": [
    {
     "name": "stdout",
     "output_type": "stream",
     "text": [
      "apple\n"
     ]
    }
   ],
   "source": [
    "name=[\"name\", \"mango\", \"apple\"]\n",
    "print(name[2])"
   ]
  },
  {
   "cell_type": "code",
   "execution_count": 29,
   "id": "9cb5dc3e-39ee-4f76-8fca-12fea33a8e99",
   "metadata": {},
   "outputs": [
    {
     "name": "stdout",
     "output_type": "stream",
     "text": [
      "['neha', 'mango', 'apple']\n"
     ]
    }
   ],
   "source": [
    "age=[\"neha\" ,\"mango\", \"apple\"]\n",
    "print(age)"
   ]
  },
  {
   "cell_type": "code",
   "execution_count": 30,
   "id": "5db87f6d-d34c-4219-8dbc-740b4816cfa6",
   "metadata": {},
   "outputs": [
    {
     "name": "stdout",
     "output_type": "stream",
     "text": [
      "neha\n"
     ]
    }
   ],
   "source": [
    "age=[\"neha\" ,\"mango\", \"apple\"]\n",
    "print(age[0])"
   ]
  },
  {
   "cell_type": "code",
   "execution_count": 31,
   "id": "0c875b8c-5eb8-48c0-812f-d17eb215c1d5",
   "metadata": {},
   "outputs": [
    {
     "name": "stdout",
     "output_type": "stream",
     "text": [
      "[25, 38.5, 62, 34444.34, 344]\n"
     ]
    }
   ],
   "source": [
    "list1_int=[29,25,38.5,62,34444.34,344,67.78,67.678]\n",
    "print(list1_int[1:6])"
   ]
  },
  {
   "cell_type": "code",
   "execution_count": 32,
   "id": "cc47ad71-ce95-429a-86f8-869277afacd7",
   "metadata": {},
   "outputs": [
    {
     "name": "stdout",
     "output_type": "stream",
     "text": [
      "[34, 67.67, 89.78, 56.899]\n"
     ]
    }
   ],
   "source": [
    "list_age=[34,67.67,89.78,56.899]\n",
    "print(list_age)"
   ]
  },
  {
   "cell_type": "code",
   "execution_count": 33,
   "id": "e2117430-2ca1-4be3-a52c-29995c3ea7db",
   "metadata": {},
   "outputs": [
    {
     "name": "stdout",
     "output_type": "stream",
     "text": [
      "['neha', 'nitin', 'neetu', 'naksh']\n"
     ]
    }
   ],
   "source": [
    "list_name=[\"neha\",\"nitin\",\"neetu\",\"naksh\"]\n",
    "print(list_name)"
   ]
  },
  {
   "cell_type": "code",
   "execution_count": 34,
   "id": "a249b92d-4233-4c8d-ae6c-a49af4f32c1a",
   "metadata": {},
   "outputs": [
    {
     "name": "stdout",
     "output_type": "stream",
     "text": [
      "nitin\n"
     ]
    }
   ],
   "source": [
    "list_name=[\"neha\",\"nitin\",\"neetu\",\"naksh\"]\n",
    "print(list_name[1])"
   ]
  },
  {
   "cell_type": "code",
   "execution_count": 36,
   "id": "d49ea5af-0f2b-4b16-b2a7-7c9385ab3d5b",
   "metadata": {},
   "outputs": [
    {
     "name": "stdout",
     "output_type": "stream",
     "text": [
      "neha\n"
     ]
    }
   ],
   "source": [
    "list_name=[\"neha\",\"nitin\",\"neetu\",\"naksh\"]\n",
    "print(list_name[0])"
   ]
  },
  {
   "cell_type": "code",
   "execution_count": 38,
   "id": "6c646b39-9627-47aa-add9-d05436010264",
   "metadata": {},
   "outputs": [
    {
     "name": "stdout",
     "output_type": "stream",
     "text": [
      "['name', 'age']\n"
     ]
    }
   ],
   "source": [
    "items_name=[\"name\", \"age\"]\n",
    "print(items_name)"
   ]
  },
  {
   "cell_type": "code",
   "execution_count": 5,
   "id": "760c0c24-252e-44fa-b052-f88409003ac2",
   "metadata": {},
   "outputs": [
    {
     "ename": "NameError",
     "evalue": "name 'ch' is not defined",
     "output_type": "error",
     "traceback": [
      "\u001b[1;31m---------------------------------------------------------------------------\u001b[0m",
      "\u001b[1;31mNameError\u001b[0m                                 Traceback (most recent call last)",
      "Cell \u001b[1;32mIn[5], line 2\u001b[0m\n\u001b[0;32m      1\u001b[0m name\u001b[38;5;241m=\u001b[39m\u001b[38;5;124m\"\u001b[39m\u001b[38;5;124mneha\u001b[39m\u001b[38;5;124m\"\u001b[39m\n\u001b[1;32m----> 2\u001b[0m \u001b[38;5;28mprint\u001b[39m(ch(name))\n",
      "\u001b[1;31mNameError\u001b[0m: name 'ch' is not defined"
     ]
    }
   ],
   "source": [
    "name=\"neha\"\n",
    "print(ch(name))"
   ]
  },
  {
   "cell_type": "code",
   "execution_count": 8,
   "id": "aef19f16-9f28-45bf-83ac-b8d018b35d0c",
   "metadata": {},
   "outputs": [
    {
     "name": "stdout",
     "output_type": "stream",
     "text": [
      "2712555280064\n"
     ]
    }
   ],
   "source": [
    "mylist=[\"apple\" , \"banana\", \"mango\"]\n",
    "print(id(mylist))"
   ]
  },
  {
   "cell_type": "code",
   "execution_count": 3,
   "id": "4860edf7-2ad9-4826-8401-4e9223e90b4c",
   "metadata": {},
   "outputs": [
    {
     "name": "stdout",
     "output_type": "stream",
     "text": [
      "{'apple', 'mango', 'banana'}\n"
     ]
    }
   ],
   "source": [
    "myset={\"apple\" , \"banana\", \"mango\", \"apple\"}\n",
    "print(myset)\n"
   ]
  },
  {
   "cell_type": "code",
   "execution_count": 5,
   "id": "e8b08e20-9d50-406d-aee9-88c9675dafc2",
   "metadata": {},
   "outputs": [
    {
     "name": "stdout",
     "output_type": "stream",
     "text": [
      "('12', '34', '4', '4')\n"
     ]
    }
   ],
   "source": [
    "mytuple=(\"12\" , \"34\", \"4\", \"4\")\n",
    "print(mytuple)\n"
   ]
  },
  {
   "cell_type": "code",
   "execution_count": 24,
   "id": "36c3d14d-aef4-4392-bdce-d438d392ee24",
   "metadata": {},
   "outputs": [
    {
     "name": "stdout",
     "output_type": "stream",
     "text": [
      "{'name': 'neha', 'age': 19}\n"
     ]
    }
   ],
   "source": [
    "thisdict={\n",
    "\"name\": \"neha\",\n",
    "\"age\": 19\n",
    "  \n",
    "}\n",
    "print(thisdict)"
   ]
  },
  {
   "cell_type": "code",
   "execution_count": 27,
   "id": "a18d8bd0-c042-4900-832d-b6cc82df1637",
   "metadata": {},
   "outputs": [
    {
     "name": "stdout",
     "output_type": "stream",
     "text": [
      "<class 'list'>\n"
     ]
    }
   ],
   "source": [
    "my_fruite_list=[\"apple\" ,\"banana\", \"mango\", \"apple\"]\n",
    "print(type (my_fruite_list))"
   ]
  },
  {
   "cell_type": "code",
   "execution_count": 28,
   "id": "236a2b7d-c0da-4027-b660-11798d1172e0",
   "metadata": {},
   "outputs": [
    {
     "name": "stdout",
     "output_type": "stream",
     "text": [
      "<class 'set'>\n"
     ]
    }
   ],
   "source": [
    "myset={\"apple\" , \"banana\", \"mango\", \"apple\"}\n",
    "print(type(myset))\n"
   ]
  },
  {
   "cell_type": "code",
   "execution_count": 29,
   "id": "8fac67e4-361a-438c-b38d-f94e39d74a76",
   "metadata": {},
   "outputs": [
    {
     "name": "stdout",
     "output_type": "stream",
     "text": [
      "<class 'tuple'>\n"
     ]
    }
   ],
   "source": [
    "mytuple=(\"12\" , \"34\", \"4\", \"4\")\n",
    "print(type(mytuple))\n"
   ]
  },
  {
   "cell_type": "code",
   "execution_count": 30,
   "id": "ce299637-251d-4c13-a713-59dd884664eb",
   "metadata": {},
   "outputs": [
    {
     "name": "stdout",
     "output_type": "stream",
     "text": [
      "<class 'dict'>\n"
     ]
    }
   ],
   "source": [
    "thisdict={\n",
    "\"name\": \"neha\",\n",
    "\"age\": 19\n",
    "  \n",
    "}\n",
    "print(type(thisdict))"
   ]
  },
  {
   "cell_type": "code",
   "execution_count": 33,
   "id": "691af708-c09d-4572-8108-f297140e8349",
   "metadata": {},
   "outputs": [
    {
     "name": "stdout",
     "output_type": "stream",
     "text": [
      "4\n"
     ]
    }
   ],
   "source": [
    "my_fruite_list=[\"apple\" ,\"banana\", \"mango\", \"apple\"]\n",
    "print( len(my_fruite_list))"
   ]
  },
  {
   "cell_type": "code",
   "execution_count": 35,
   "id": "c338b998-6fdb-4c77-a498-12e221610947",
   "metadata": {},
   "outputs": [
    {
     "name": "stdout",
     "output_type": "stream",
     "text": [
      "['n', 'e', 'h', 'a']\n"
     ]
    }
   ],
   "source": [
    "str1=\"neha\"\n",
    "list_str1=list(str1)\n",
    "print(list_str1)"
   ]
  },
  {
   "cell_type": "code",
   "execution_count": 36,
   "id": "d886db19-6587-40f9-b00d-2d6c2623bd52",
   "metadata": {},
   "outputs": [
    {
     "name": "stdout",
     "output_type": "stream",
     "text": [
      "apple\n"
     ]
    }
   ],
   "source": [
    "list1=[\"apple\" ,\"banana\", \"mango\", \"apple\"]\n",
    "print(list1[0])\n"
   ]
  },
  {
   "cell_type": "code",
   "execution_count": 40,
   "id": "974000cd-7b54-4c2a-b4da-173e95036779",
   "metadata": {},
   "outputs": [
    {
     "name": "stdout",
     "output_type": "stream",
     "text": [
      "[5, 8, 'geoffrey hinton', 7.5, 'sam altman']\n",
      "5\n",
      "8\n",
      "geoffrey hinton\n",
      "7.5\n",
      "sam altman\n"
     ]
    }
   ],
   "source": [
    "my_list=[5,8,\"geoffrey hinton\", 7.50,\"sam altman\"]\n",
    "print(my_list)\n",
    "# iterate a list\n",
    "for i in my_list:\n",
    "    print(i)"
   ]
  },
  {
   "cell_type": "code",
   "execution_count": 1,
   "id": "017f5afb-3210-4e41-9610-e3c96c1b4db4",
   "metadata": {},
   "outputs": [
    {
     "name": "stdout",
     "output_type": "stream",
     "text": [
      "{'geoffrey hinton', 5, 7.5, 8, 'sam altman'}\n"
     ]
    }
   ],
   "source": [
    "my_set={5,8,\"geoffrey hinton\", 7.50,\"sam altman\"}\n",
    "print(my_set)"
   ]
  },
  {
   "cell_type": "code",
   "execution_count": 4,
   "id": "dc641abe-2b04-44da-a200-b103556afd0f",
   "metadata": {},
   "outputs": [
    {
     "name": "stdout",
     "output_type": "stream",
     "text": [
      "(5, 8, 'geoffrey hinton', 7.5, 'sam altman')\n"
     ]
    }
   ],
   "source": [
    "mytuple=(5,8,\"geoffrey hinton\", 7.50,\"sam altman\")\n",
    "print(mytuple)"
   ]
  },
  {
   "cell_type": "code",
   "execution_count": 5,
   "id": "07bc056d-99da-4222-96ab-c4e7727ff936",
   "metadata": {},
   "outputs": [
    {
     "name": "stdout",
     "output_type": "stream",
     "text": [
      "['n', 'e', 'h', 'a']\n"
     ]
    }
   ],
   "source": [
    "str1=\"neha\"\n",
    "str1_my_name=list(str1)\n",
    "print(str1_my_name)"
   ]
  },
  {
   "cell_type": "code",
   "execution_count": 8,
   "id": "7c200110-98e0-41f6-a09e-36855a18725e",
   "metadata": {},
   "outputs": [
    {
     "name": "stdout",
     "output_type": "stream",
     "text": [
      "['a', 'n', 'k', 'i', 't', 'a']\n"
     ]
    }
   ],
   "source": [
    "user_name=\"ankita\"\n",
    "str1_username=list(user_name)\n",
    "print(str1_username)"
   ]
  },
  {
   "cell_type": "code",
   "execution_count": null,
   "id": "a770e38b-fff0-49da-885f-8f99415233dc",
   "metadata": {},
   "outputs": [],
   "source": [
    "user_list=\"deepika\"\n",
    "list_str1=list(user_list)"
   ]
  },
  {
   "cell_type": "code",
   "execution_count": 1,
   "id": "59f551fa-a6b4-4d76-98e3-b566353a45ba",
   "metadata": {},
   "outputs": [
    {
     "name": "stdout",
     "output_type": "stream",
     "text": [
      "['n', 'e', 'e', 't', 'u']\n"
     ]
    }
   ],
   "source": [
    "user_name=\"neetu\"\n",
    "str_user_name=list(user_name)\n",
    "print(str_user_name)"
   ]
  },
  {
   "cell_type": "code",
   "execution_count": 21,
   "id": "3208af8f-9e05-417c-8914-cefb88f02134",
   "metadata": {},
   "outputs": [
    {
     "name": "stdout",
     "output_type": "stream",
     "text": [
      "Aarav Mehta\n",
      "Riya Sharma\n",
      "Kabir Nair\n",
      "Ananya Patel\n",
      "Vihaan Singh\n",
      "Ishita Verma\n",
      "Arjun Malhotra\n",
      "Meera Das\n",
      "Devansh Gupta\n",
      "Saanvi Iyer\n",
      "Aditya Reddy\n",
      "Kriti Kapoor\n",
      "Manav Joshi\n",
      "Nisha Bansal\n",
      "Karan Choudhary\n",
      "Tanya Roy\n",
      "Rahul Yadav\n",
      "Priya Menon\n",
      "Siddharth Ghosh\n",
      "Neha Kulkarni\n"
     ]
    }
   ],
   "source": [
    "student_name_list=['Aarav Mehta', 'Riya Sharma', 'Kabir Nair', 'Ananya Patel', 'Vihaan Singh', 'Ishita Verma', 'Arjun Malhotra', 'Meera Das', 'Devansh Gupta', 'Saanvi Iyer', 'Aditya Reddy', 'Kriti Kapoor', 'Manav Joshi', 'Nisha Bansal', 'Karan Choudhary', 'Tanya Roy', 'Rahul Yadav', 'Priya Menon', 'Siddharth Ghosh', 'Neha Kulkarni']\n",
    "for i in student_name_list:\n",
    "    print(i)\n",
    "    # print(i[::-1])\n",
    "    #print(len(student_name_list))\n",
    "   # print(student_name_list[-1])\n",
    "      # print(student_name_list[::-1])\n"
   ]
  },
  {
   "cell_type": "code",
   "execution_count": 3,
   "id": "2c679e77-fd42-4845-b497-7de12b7a5ed5",
   "metadata": {},
   "outputs": [
    {
     "name": "stdout",
     "output_type": "stream",
     "text": [
      "20\n"
     ]
    }
   ],
   "source": [
    "student_name_list=['Aarav Mehta', 'Riya Sharma', 'Kabir Nair', 'Ananya Patel', 'Vihaan Singh', 'Ishita Verma', 'Arjun Malhotra', 'Meera Das', 'Devansh Gupta', 'Saanvi Iyer', 'Aditya Reddy', 'Kriti Kapoor', 'Manav Joshi', 'Nisha Bansal', 'Karan Choudhary', 'Tanya Roy', 'Rahul Yadav', 'Priya Menon', 'Siddharth Ghosh', 'Neha Kulkarni']\n",
    "str_student_name_list=list(student_name_list)\n",
    "print(len(str_student_name_list))"
   ]
  },
  {
   "cell_type": "code",
   "execution_count": 7,
   "id": "f2d4c40a-f170-404c-ba3b-5e39214422e4",
   "metadata": {},
   "outputs": [
    {
     "name": "stdout",
     "output_type": "stream",
     "text": [
      "atheM varaA\n",
      "amrahS ayiR\n",
      "riaN ribaK\n",
      "letaP aynanA\n",
      "hgniS naahiV\n",
      "amreV atihsI\n",
      "artohlaM nujrA\n",
      "saD areeM\n",
      "atpuG hsnaveD\n",
      "reyI ivnaaS\n",
      "yddeR aytidA\n",
      "roopaK itirK\n",
      "ihsoJ vanaM\n",
      "lasnaB ahsiN\n",
      "yrahduohC naraK\n",
      "yoR aynaT\n",
      "vadaY luhaR\n",
      "noneM ayirP\n",
      "hsohG htrahddiS\n",
      "inrakluK aheN\n"
     ]
    }
   ],
   "source": [
    "student_name_list=['Aarav Mehta', 'Riya Sharma', 'Kabir Nair', 'Ananya Patel', 'Vihaan Singh', 'Ishita Verma', 'Arjun Malhotra', 'Meera Das', 'Devansh Gupta', 'Saanvi Iyer', 'Aditya Reddy', 'Kriti Kapoor', 'Manav Joshi', 'Nisha Bansal', 'Karan Choudhary', 'Tanya Roy', 'Rahul Yadav', 'Priya Menon', 'Siddharth Ghosh', 'Neha Kulkarni']\n",
    "for i in student_name_list:\n",
    "   # print(i * \"\" 2)\n",
    "   # print(i * student_name_list)\n",
    "    print(i[::0 -1])"
   ]
  },
  {
   "cell_type": "markdown",
   "id": "0807d2ef-f64e-4dca-807b-17a0b70dba7c",
   "metadata": {},
   "source": [
    "# Adding Elements to the list"
   ]
  },
  {
   "cell_type": "code",
   "execution_count": 17,
   "id": "705acc46-56f0-44cd-bc5f-e4405eae1f89",
   "metadata": {},
   "outputs": [
    {
     "name": "stdout",
     "output_type": "stream",
     "text": [
      "2712555293248\n"
     ]
    }
   ],
   "source": [
    "colour_number_list=[\"Red\", 27, \"Blue\", 89, \"Green\", 14, \"Yellow\", 63, \"Purple\", 32, \"Orange\", 71, \"Pink\", 5, \"Brown\", 46, \"Black\", 92, \"White\", 18]\n",
    "#print(id(colour_number_list))\n",
    "colour_number_list.append(\"navy blue\")\n",
    "print(id(colour_number_list))"
   ]
  },
  {
   "cell_type": "code",
   "execution_count": 20,
   "id": "050680df-55de-402a-a7b3-d93f806822e1",
   "metadata": {},
   "outputs": [
    {
     "name": "stdout",
     "output_type": "stream",
     "text": [
      "['Red', 27, 'Blue', 89, 'Green', 14, 'Yellow', 63, 'Purple', 32, 'Orange', 71, 'Pink', 5, 'Brown', 46, 'Black', 92, 'White', 18, 'n', 'a', 'v', 'y', ' ', 'b', 'l', 'u', 'e']\n"
     ]
    }
   ],
   "source": [
    "colour_number_list=[\"Red\", 27, \"Blue\", 89, \"Green\", 14, \"Yellow\", 63, \"Purple\", 32, \"Orange\", 71, \"Pink\", 5, \"Brown\", 46, \"Black\", 92, \"White\", 18]\n",
    "#print(id(colour_number_list))\n",
    "colour_number_list.extend(\"navy blue\")\n",
    "#print(id(colour_number_list))\n",
    "print(colour_number_list)"
   ]
  },
  {
   "cell_type": "code",
   "execution_count": 22,
   "id": "1c5ddb74-75f7-4d3c-8e07-eefcd86a8439",
   "metadata": {},
   "outputs": [
    {
     "ename": "AttributeError",
     "evalue": "'list' object attribute 'insert' is read-only",
     "output_type": "error",
     "traceback": [
      "\u001b[1;31m---------------------------------------------------------------------------\u001b[0m",
      "\u001b[1;31mAttributeError\u001b[0m                            Traceback (most recent call last)",
      "Cell \u001b[1;32mIn[22], line 2\u001b[0m\n\u001b[0;32m      1\u001b[0m number_list\u001b[38;5;241m=\u001b[39m[\u001b[38;5;241m12\u001b[39m, \u001b[38;5;241m45\u001b[39m, \u001b[38;5;241m78\u001b[39m, \u001b[38;5;241m23\u001b[39m, \u001b[38;5;241m89\u001b[39m, \u001b[38;5;241m56\u001b[39m, \u001b[38;5;241m34\u001b[39m, \u001b[38;5;241m67\u001b[39m, \u001b[38;5;241m90\u001b[39m, \u001b[38;5;241m11\u001b[39m]\n\u001b[1;32m----> 2\u001b[0m number_list\u001b[38;5;241m.\u001b[39minsert\u001b[38;5;241m=\u001b[39m \u001b[38;5;124m\"\u001b[39m\u001b[38;5;124m33\u001b[39m\u001b[38;5;124m\"\u001b[39m\n\u001b[0;32m      3\u001b[0m \u001b[38;5;28mprint\u001b[39m(number_list[\u001b[38;5;241m2\u001b[39m])\n",
      "\u001b[1;31mAttributeError\u001b[0m: 'list' object attribute 'insert' is read-only"
     ]
    }
   ],
   "source": [
    "number_list=[12, 45, 78, 23, 89, 56, 34, 67, 90, 11]\n",
    "number_list.insert= \"33\"\n",
    "print(number_list[2])"
   ]
  },
  {
   "cell_type": "code",
   "execution_count": null,
   "id": "fcbc8c9c-8216-4cc9-ae7c-b1dbed5cbd78",
   "metadata": {},
   "outputs": [],
   "source": []
  },
  {
   "cell_type": "markdown",
   "id": "892a573c-5d1d-45b3-b4db-c2a48d17cd59",
   "metadata": {},
   "source": [
    "number_list=[12, 45, 78, 23, 89, 56, 34, 67, 90, 11]\n",
    "number_list.append (29)\n",
    "print(number_list)\n"
   ]
  },
  {
   "cell_type": "markdown",
   "id": "c4c91ce3-c9c2-422a-a437-3ee47d217d47",
   "metadata": {},
   "source": [
    "extand created =[\"n\" \"e\" \"h\" \"a\"] like this\n",
    "append craeted=[adding word]"
   ]
  },
  {
   "cell_type": "code",
   "execution_count": 40,
   "id": "953794e3-58f6-4374-b07f-751b3937c9c6",
   "metadata": {},
   "outputs": [
    {
     "name": "stdout",
     "output_type": "stream",
     "text": [
      "['Red', 27, 'Blue', 89, 'Green', 14, 'Yellow', 63, 'Purple', 32, 'Orange', 71, 'Pink', 5, 'Brown', 46, 'Black', 92, 'White', 18, 'Red', 27, 'Blue', 89, 'Green', 14, 'Yellow', 63, 'Purple', 32, 'Orange', 71, 'Pink', 5, 'Brown', 46, 'Black', 92, 'White', 18]\n"
     ]
    }
   ],
   "source": [
    "colour_number_list=[\"Red\", 27, \"Blue\", 89, \"Green\", 14, \"Yellow\", 63, \"Purple\", 32, \"Orange\", 71, \"Pink\", 5, \"Brown\", 46, \"Black\", 92, \"White\", 18]\n",
    "colour_number_list.extend([\"Red\", 27, \"Blue\", 89, \"Green\", 14, \"Yellow\", 63, \"Purple\", 32, \"Orange\", 71, \"Pink\", 5, \"Brown\", 46, \"Black\", 92, \"White\", 18])\n",
    "print(colour_number_list)"
   ]
  },
  {
   "cell_type": "code",
   "execution_count": 41,
   "id": "9c8f4f25-e996-4d00-a48b-9f696a61d78d",
   "metadata": {},
   "outputs": [
    {
     "name": "stdout",
     "output_type": "stream",
     "text": [
      "['Red', 27, 'Blue', 89, 'Green', 14, 'Yellow', 63, 'Purple', 32, 'Orange', 71, 'Pink', 5, 'Brown', 46, 'Black', 92, 'White', 18, ['Red', 27, 'Blue', 89, 'Green', 14, 'Yellow', 63, 'Purple', 32, 'Orange', 71, 'Pink', 5, 'Brown', 46, 'Black', 92, 'White', 18]]\n"
     ]
    }
   ],
   "source": [
    "colour_number_list=[\"Red\", 27, \"Blue\", 89, \"Green\", 14, \"Yellow\", 63, \"Purple\", 32, \"Orange\", 71, \"Pink\", 5, \"Brown\", 46, \"Black\", 92, \"White\", 18]\n",
    "colour_number_list.append([\"Red\", 27, \"Blue\", 89, \"Green\", 14, \"Yellow\", 63, \"Purple\", 32, \"Orange\", 71, \"Pink\", 5, \"Brown\", 46, \"Black\", 92, \"White\", 18])\n",
    "print(colour_number_list)"
   ]
  },
  {
   "cell_type": "code",
   "execution_count": 50,
   "id": "d92ae7c7-960b-4233-98ee-cc33605ebf49",
   "metadata": {},
   "outputs": [
    {
     "name": "stdout",
     "output_type": "stream",
     "text": [
      "None\n"
     ]
    }
   ],
   "source": [
    "list1=[2,5,9]\n",
    "list2=(list1.append(25))\n",
    "print(list2)"
   ]
  },
  {
   "cell_type": "markdown",
   "id": "974987b8-e565-4518-91be-9fa1b3d78228",
   "metadata": {},
   "source": [
    "# Modify the items of the list "
   ]
  },
  {
   "cell_type": "code",
   "execution_count": 63,
   "id": "fb0db948-7cae-4b48-89ed-6e423d2cb646",
   "metadata": {},
   "outputs": [
    {
     "name": "stdout",
     "output_type": "stream",
     "text": [
      "[2, 5, 9, 34]\n"
     ]
    }
   ],
   "source": [
    "list1=[2,5,9,4]\n",
    "list1[3] = 34\n",
    "print(list1)"
   ]
  },
  {
   "cell_type": "code",
   "execution_count": 66,
   "id": "4cbd0cf6-6f00-45d0-9e4d-102b7ad123da",
   "metadata": {},
   "outputs": [
    {
     "ename": "IndentationError",
     "evalue": "expected an indented block after 'if' statement on line 2 (1537274893.py, line 3)",
     "output_type": "error",
     "traceback": [
      "\u001b[1;36m  Cell \u001b[1;32mIn[66], line 3\u001b[1;36m\u001b[0m\n\u001b[1;33m    print(list2)\u001b[0m\n\u001b[1;37m    ^\u001b[0m\n\u001b[1;31mIndentationError\u001b[0m\u001b[1;31m:\u001b[0m expected an indented block after 'if' statement on line 2\n"
     ]
    }
   ],
   "source": [
    "list1=[2,5,9]\n",
    "if(list1 == list2):\n",
    "print(list2)\n",
    "list2=(list1.append(25))\n",
    "print(list2)"
   ]
  },
  {
   "cell_type": "code",
   "execution_count": 70,
   "id": "9db78a7b-db7d-4bf4-99c4-6527a66cba9b",
   "metadata": {},
   "outputs": [
    {
     "name": "stdout",
     "output_type": "stream",
     "text": [
      "['Aarav Mehta', 'Riya Sharma', 'Kabir Nair', 'Ananya Patel', 'Vihaan Singh', 'Ishita Verma', 'Arjun Malhotra', 'Meera Das', 'Devansh Gupta', 'Saanvi Iyer', 'Aditya Reddy', 'Kriti Kapoor', 'Manav Joshi', 'Nisha Bansal', 'Karan Choudhary', 'Tanya Roy', 'Rahul Yadav', 'Priya Menon', 'Siddharth Ghosh', 'Neha Kulkarni', 'n', 'e', 'h', 'a']\n"
     ]
    }
   ],
   "source": [
    "student_name_list=['Aarav Mehta', 'Riya Sharma', 'Kabir Nair', 'Ananya Patel', 'Vihaan Singh', 'Ishita Verma', 'Arjun Malhotra', 'Meera Das', 'Devansh Gupta', 'Saanvi Iyer', 'Aditya Reddy', 'Kriti Kapoor', 'Manav Joshi', 'Nisha Bansal', 'Karan Choudhary', 'Tanya Roy', 'Rahul Yadav', 'Priya Menon', 'Siddharth Ghosh', 'Neha Kulkarni']\n",
    "student_name_list.extend(\"neha\")\n",
    "print(student_name_list)"
   ]
  },
  {
   "cell_type": "code",
   "execution_count": 82,
   "id": "bc63263f-2025-4175-9ad1-8a2f0ce00e8a",
   "metadata": {},
   "outputs": [
    {
     "name": "stdout",
     "output_type": "stream",
     "text": [
      "Aarav Mehta\n",
      "Riya Sharma\n",
      "Kabir Nair\n",
      "Ananya Patel\n",
      "Vihaan Singh\n",
      "Ishita Verma\n",
      "Arjun Malhotra\n",
      "Meera Das\n",
      "Devansh Gupta\n",
      "Saanvi Iyer\n",
      "Aditya Reddy\n",
      "Kriti Kapoor\n",
      "Manav Joshi\n",
      "Nisha Bansal\n",
      "Karan Choudhary\n",
      "Tanya Roy\n",
      "Rahul Yadav\n",
      "Priya Menon\n",
      "Siddharth Ghosh\n",
      "Neha Kulkarni\n",
      "Aarav Mehta\n",
      "Riya Sharma\n",
      "Kabir Nair\n",
      "Ananya Patel\n",
      "Vihaan Singh\n",
      "Ishita Verma\n",
      "Arjun Malhotra\n",
      "Meera Das\n",
      "Devansh Gupta\n",
      "Saanvi Iyer\n",
      "Aditya Reddy\n",
      "Kriti Kapoor\n",
      "Manav Joshi\n",
      "Nisha Bansal\n",
      "Karan Choudhary\n",
      "Tanya Roy\n",
      "Rahul Yadav\n",
      "Priya Menon\n",
      "Siddharth Ghosh\n",
      "Neha Kulkarni\n"
     ]
    }
   ],
   "source": [
    "student_name_list=['Aarav Mehta', 'Riya Sharma', 'Kabir Nair', 'Ananya Patel', 'Vihaan Singh', 'Ishita Verma', 'Arjun Malhotra', 'Meera Das', 'Devansh Gupta', 'Saanvi Iyer', 'Aditya Reddy', 'Kriti Kapoor', 'Manav Joshi', 'Nisha Bansal', 'Karan Choudhary', 'Tanya Roy', 'Rahul Yadav', 'Priya Menon', 'Siddharth Ghosh', 'Neha Kulkarni']\n",
    "student_name_list.extend(['Aarav Mehta', 'Riya Sharma', 'Kabir Nair', 'Ananya Patel', 'Vihaan Singh', 'Ishita Verma', 'Arjun Malhotra', 'Meera Das', 'Devansh Gupta', 'Saanvi Iyer', 'Aditya Reddy', 'Kriti Kapoor', 'Manav Joshi', 'Nisha Bansal', 'Karan Choudhary', 'Tanya Roy', 'Rahul Yadav', 'Priya Menon', 'Siddharth Ghosh', 'Neha Kulkarni'])\n",
    "for i in student_name_list:\n",
    "    print(i)"
   ]
  },
  {
   "cell_type": "code",
   "execution_count": 1,
   "id": "b019c398-01b4-4e4d-b019-6239a3ef3873",
   "metadata": {},
   "outputs": [
    {
     "name": "stdout",
     "output_type": "stream",
     "text": [
      "['earth', 'Apple', 3.14, True, 'Blue', 97, False, 'Sun', 8.6, 'Moon', 73]\n"
     ]
    }
   ],
   "source": [
    "mix_data_list=[42, \"Apple\", 3.14, True, \"Blue\", 97, False, \"Sun\", 8.6, \"Moon\", 73]\n",
    "mix_data_list[0] = \"earth\"\n",
    "print(mix_data_list)"
   ]
  },
  {
   "cell_type": "code",
   "execution_count": 4,
   "id": "4cdff7ce-878a-4d65-a05a-905ade01be7b",
   "metadata": {},
   "outputs": [
    {
     "ename": "AttributeError",
     "evalue": "'list' object attribute 'extend' is read-only",
     "output_type": "error",
     "traceback": [
      "\u001b[1;31m---------------------------------------------------------------------------\u001b[0m",
      "\u001b[1;31mAttributeError\u001b[0m                            Traceback (most recent call last)",
      "Cell \u001b[1;32mIn[4], line 4\u001b[0m\n\u001b[0;32m      1\u001b[0m mix_data_list\u001b[38;5;241m=\u001b[39m[\u001b[38;5;241m42\u001b[39m, \u001b[38;5;124m\"\u001b[39m\u001b[38;5;124mApple\u001b[39m\u001b[38;5;124m\"\u001b[39m, \u001b[38;5;241m3.14\u001b[39m, \u001b[38;5;28;01mTrue\u001b[39;00m, \u001b[38;5;124m\"\u001b[39m\u001b[38;5;124mBlue\u001b[39m\u001b[38;5;124m\"\u001b[39m, \u001b[38;5;241m97\u001b[39m, \u001b[38;5;28;01mFalse\u001b[39;00m, \u001b[38;5;124m\"\u001b[39m\u001b[38;5;124mSun\u001b[39m\u001b[38;5;124m\"\u001b[39m, \u001b[38;5;241m8.6\u001b[39m, \u001b[38;5;124m\"\u001b[39m\u001b[38;5;124mMoon\u001b[39m\u001b[38;5;124m\"\u001b[39m, \u001b[38;5;241m73\u001b[39m]\n\u001b[0;32m      2\u001b[0m \u001b[38;5;66;03m#len(mix_data_list)\u001b[39;00m\n\u001b[0;32m      3\u001b[0m \u001b[38;5;66;03m#print(len(mix_data_list))\u001b[39;00m\n\u001b[1;32m----> 4\u001b[0m mix_data_list\u001b[38;5;241m.\u001b[39mextend \u001b[38;5;241m=\u001b[39m mix_data_list\n\u001b[0;32m      5\u001b[0m \u001b[38;5;28mprint\u001b[39m(mix_data_list)\n",
      "\u001b[1;31mAttributeError\u001b[0m: 'list' object attribute 'extend' is read-only"
     ]
    }
   ],
   "source": [
    "mix_data_list=[42, \"Apple\", 3.14, True, \"Blue\", 97, False, \"Sun\", 8.6, \"Moon\", 73]\n",
    "#len(mix_data_list)\n",
    "#print(len(mix_data_list))\n",
    "mix_data_list.extend = mix_data_list\n",
    "print(mix_data_list)"
   ]
  },
  {
   "cell_type": "code",
   "execution_count": 6,
   "id": "d73a74da-3f3f-4583-8271-2499f115f12c",
   "metadata": {},
   "outputs": [
    {
     "name": "stdout",
     "output_type": "stream",
     "text": [
      "[42, 'Apple', 3.14, True, 'Blue', 97, False, 'Sun', 8.6, 'Moon', 73, 'a', 'p', 'p', 'l', 'e']\n"
     ]
    }
   ],
   "source": [
    "mix_data_list=[42, \"Apple\", 3.14, True, \"Blue\", 97, False, \"Sun\", 8.6, \"Moon\", 73]\n",
    "mix_data_list.extend (\"apple\")\n",
    "print(mix_data_list)\n"
   ]
  },
  {
   "cell_type": "code",
   "execution_count": 8,
   "id": "c80fbe37-0a5e-418d-83d1-0ce99ef6a552",
   "metadata": {},
   "outputs": [
    {
     "name": "stdout",
     "output_type": "stream",
     "text": [
      "[42, 'Apple', 3.14, True, 'Blue', 97, False, 'Sun', 8.6, 'Moon', 73, 42, 'Apple', 3.14, True, 'Blue', 97, False, 'Sun', 8.6, 'Moon', 73]\n"
     ]
    }
   ],
   "source": [
    "mix_data_list=[42, \"Apple\", 3.14, True, \"Blue\", 97, False, \"Sun\", 8.6, \"Moon\", 73]\n",
    "#len(mix_data_list)\n",
    "#print(len(mix_data_list))\n",
    "mix_data_list.extend ( mix_data_list)\n",
    "print(mix_data_list)"
   ]
  },
  {
   "cell_type": "code",
   "execution_count": 10,
   "id": "6dc15ddd-bb7f-4896-9247-3f291244ca78",
   "metadata": {},
   "outputs": [
    {
     "name": "stdout",
     "output_type": "stream",
     "text": [
      "right\n"
     ]
    }
   ],
   "source": [
    "mix_data_list=[42, \"Apple\", 3.14, True, \"Blue\", 97, False, \"Sun\", 8.6, \"Moon\", 73]\n",
    "if mix_data_list== [42, \"Apple\", 3.14, True, \"Blue\", 97, False, \"Sun\", 8.6, \"Moon\", 73]:\n",
    "    print(\"right\")\n",
    "else:\n",
    "    print(\"false\")"
   ]
  },
  {
   "cell_type": "code",
   "execution_count": 14,
   "id": "ef7e421b-4d16-49a8-8688-daf46fcfcf80",
   "metadata": {},
   "outputs": [
    {
     "name": "stdout",
     "output_type": "stream",
     "text": [
      "false\n"
     ]
    }
   ],
   "source": [
    "mix_data_list=[42, \"Apple\", 3.14, True, \"Blue\", 97, False, \"Sun\", 8.6, \"Moon\", 73]\n",
    "\"\"\"if mix_data_list != [42, \"Apple\", 3.14, True, \"Blue\", 97, False, \"Sun\", 8.6, \"Moon\", 73]:\n",
    "    print(\"right\")\n",
    "else:\n",
    "    print(\"false\")\"\"\"\n",
    "if [2] == 42:\n",
    "     print(\"yes\")\n",
    "else:\n",
    "    print(\"false\")"
   ]
  },
  {
   "cell_type": "code",
   "execution_count": 1,
   "id": "bfcaeb5c-c0ac-499c-bf31-b11a5505a53d",
   "metadata": {},
   "outputs": [
    {
     "ename": "SyntaxError",
     "evalue": "unterminated string literal (detected at line 1) (119127943.py, line 1)",
     "output_type": "error",
     "traceback": [
      "\u001b[1;36m  Cell \u001b[1;32mIn[1], line 1\u001b[1;36m\u001b[0m\n\u001b[1;33m    data_set={\"apple\", \"sunshine\", \"river\", \"python\", \"moonlight\", \"guitar\",  \"river\", \"python\", \"moonlight\",apple\", \"sunshine\", \"river\"}\u001b[0m\n\u001b[1;37m                                                                                                                                       ^\u001b[0m\n\u001b[1;31mSyntaxError\u001b[0m\u001b[1;31m:\u001b[0m unterminated string literal (detected at line 1)\n"
     ]
    }
   ],
   "source": [
    "data_set={\"apple\", \"sunshine\", \"river\", \"python\", \"moonlight\", \"guitar\",  \"river\", \"python\", \"moonlight\",apple\", \"sunshine\", \"river\"}\n",
    "str_data_set= set(data_set)\n",
    "print(str_data_set)\n"
   ]
  },
  {
   "cell_type": "code",
   "execution_count": 3,
   "id": "585083e8-e5c2-42a9-bbbe-2c1ec79ce07c",
   "metadata": {},
   "outputs": [
    {
     "ename": "SyntaxError",
     "evalue": "unterminated string literal (detected at line 1) (2379229986.py, line 1)",
     "output_type": "error",
     "traceback": [
      "\u001b[1;36m  Cell \u001b[1;32mIn[3], line 1\u001b[1;36m\u001b[0m\n\u001b[1;33m    data_set={apple, \"sunshine\", \"river\", \"python\", \"moonlight\", \"guitar\",  \"river\", \"python\", \"moonlight\",apple\", \"sunshine\", \"river\"}\u001b[0m\n\u001b[1;37m                                                                                                                                     ^\u001b[0m\n\u001b[1;31mSyntaxError\u001b[0m\u001b[1;31m:\u001b[0m unterminated string literal (detected at line 1)\n"
     ]
    }
   ],
   "source": [
    "data_set={\"apple\", \"sunshine\", \"river\", \"python\", \"moonlight\", \"guitar\",  \"river\", \"python\", \"moonlight\",apple\", \"sunshine\", \"river\"}\n",
    "print(data_set)"
   ]
  },
  {
   "cell_type": "code",
   "execution_count": 5,
   "id": "a9a36930-719c-4cf2-b5c3-1323ad49ffc7",
   "metadata": {},
   "outputs": [
    {
     "name": "stdout",
     "output_type": "stream",
     "text": [
      "{'apple', 'sunshine'}\n"
     ]
    }
   ],
   "source": [
    "data_set={\"apple\",\"sunshine\"}\n",
    "print(data_set)"
   ]
  },
  {
   "cell_type": "code",
   "execution_count": 6,
   "id": "ed303939-a505-44e3-b6d3-141d455b8c17",
   "metadata": {},
   "outputs": [
    {
     "name": "stdout",
     "output_type": "stream",
     "text": [
      "{'python', 'guitar', 'river', 'apple', 'sunshine', 'moonlight'}\n"
     ]
    }
   ],
   "source": [
    "data_set={\"apple\", \"sunshine\", \"river\", \"python\", \"moonlight\", \"guitar\",  \"river\", \"python\", \"moonlight\",\"apple\", \"sunshine\", \"river\"}\n",
    "print(data_set)"
   ]
  },
  {
   "cell_type": "code",
   "execution_count": 2,
   "id": "778a7448-bba9-4f70-8af1-b5b8f2f857a6",
   "metadata": {},
   "outputs": [
    {
     "name": "stdout",
     "output_type": "stream",
     "text": [
      "no\n"
     ]
    }
   ],
   "source": [
    "data_list=[\"Blue\", 97, \"Laptop\", 23.5, \"Neha\", True, \"🌟\", 482, \"Banana\", 6.7]\n",
    "if data_list[0] == \"blue\":\n",
    "    print (\"yes\")\n",
    "else:\n",
    "    print(\"no\")"
   ]
  },
  {
   "cell_type": "code",
   "execution_count": 1,
   "id": "1f7d1168-c1e6-4db0-a801-975e95e3b693",
   "metadata": {},
   "outputs": [
    {
     "name": "stdout",
     "output_type": "stream",
     "text": [
      "yes\n",
      "Blue\n",
      "Blue\n",
      "97\n",
      "Laptop\n",
      "23.5\n",
      "Neha\n",
      "True\n",
      "🌟\n",
      "482\n",
      "Banana\n",
      "6.7\n",
      "97\n",
      "Blue\n",
      "97\n",
      "Laptop\n",
      "23.5\n",
      "Neha\n",
      "True\n",
      "🌟\n",
      "482\n",
      "Banana\n",
      "6.7\n",
      "Laptop\n",
      "Blue\n",
      "97\n",
      "Laptop\n",
      "23.5\n",
      "Neha\n",
      "True\n",
      "🌟\n",
      "482\n",
      "Banana\n",
      "6.7\n",
      "23.5\n",
      "Blue\n",
      "97\n",
      "Laptop\n",
      "23.5\n",
      "Neha\n",
      "True\n",
      "🌟\n",
      "482\n",
      "Banana\n",
      "6.7\n",
      "Neha\n",
      "Blue\n",
      "97\n",
      "Laptop\n",
      "23.5\n",
      "Neha\n",
      "True\n",
      "🌟\n",
      "482\n",
      "Banana\n",
      "6.7\n",
      "True\n",
      "Blue\n",
      "97\n",
      "Laptop\n",
      "23.5\n",
      "Neha\n",
      "True\n",
      "🌟\n",
      "482\n",
      "Banana\n",
      "6.7\n",
      "🌟\n",
      "Blue\n",
      "97\n",
      "Laptop\n",
      "23.5\n",
      "Neha\n",
      "True\n",
      "🌟\n",
      "482\n",
      "Banana\n",
      "6.7\n",
      "482\n",
      "Blue\n",
      "97\n",
      "Laptop\n",
      "23.5\n",
      "Neha\n",
      "True\n",
      "🌟\n",
      "482\n",
      "Banana\n",
      "6.7\n",
      "Banana\n",
      "Blue\n",
      "97\n",
      "Laptop\n",
      "23.5\n",
      "Neha\n",
      "True\n",
      "🌟\n",
      "482\n",
      "Banana\n",
      "6.7\n",
      "6.7\n",
      "Blue\n",
      "97\n",
      "Laptop\n",
      "23.5\n",
      "Neha\n",
      "True\n",
      "🌟\n",
      "482\n",
      "Banana\n",
      "6.7\n"
     ]
    }
   ],
   "source": [
    "data_list=[\"Blue\", 97, \"Laptop\", 23.5, \"Neha\", True, \"🌟\", 482, \"Banana\", 6.7]\n",
    "if data_list[0] == \"Blue\":\n",
    "    print (\"yes\")\n",
    "else:\n",
    "    print(\"no\")\n",
    "for i in data_list:\n",
    "    print(i)\n",
    "    for i in data_list:\n",
    "        print(i)"
   ]
  },
  {
   "cell_type": "code",
   "execution_count": 30,
   "id": "fee04d37-9c85-4b70-8850-646f44688ed5",
   "metadata": {},
   "outputs": [
    {
     "name": "stdout",
     "output_type": "stream",
     "text": [
      "yes\n",
      "['apple', 'banana', 'cherry', 'mango']\n",
      "2135873134400\n",
      "4\n",
      "['apple', 'banana', 'cherry', 'mango']\n",
      "2135873062208\n",
      "4\n",
      "['apple', 'banana', 'cherry', 'mango']\n",
      "2135873134400\n",
      "4\n",
      "['apple', 'banana', 'cherry', 'mango']\n",
      "2135873062208\n",
      "4\n",
      "['apple', 'banana', 'cherry', 'mango']\n",
      "2135873134400\n",
      "4\n",
      "['apple', 'banana', 'cherry', 'mango']\n",
      "2135873062208\n",
      "4\n",
      "['apple', 'banana', 'cherry', 'mango']\n",
      "2135873134400\n",
      "4\n",
      "['apple', 'banana', 'cherry', 'mango']\n",
      "2135873062208\n",
      "4\n",
      "['apple', 'banana', 'cherry', 'mango']\n",
      "2135873134400\n",
      "4\n",
      "['apple', 'banana', 'cherry', 'mango']\n",
      "2135873062208\n",
      "4\n"
     ]
    }
   ],
   "source": [
    "data_list=[\"Blue\", 97, \"Laptop\", 23.5, \"Neha\", True, \"🌟\", 482, \"Banana\", 6.7]\n",
    "if data_list[0] == \"Blue\":\n",
    "    print (\"yes\")\n",
    "else:\n",
    "    print(\"no\")\n",
    "#for i in data_list:\n",
    "    #print(i)\n",
    "    print(id(data_list))\n",
    "    print(len(data_list))\n",
    "    print(data_list)\n",
    "for i in data_list:\n",
    "    #print([-i)\n",
    "    #print[-1](i)\n",
    "    #print(i[-1])\n",
    "    print(data_list2)\n",
    "    data_list2 =[\"apple\", \"banana\", \"cherry\", \"mango\"]\n",
    "    print(id( data_list2))\n",
    "    print(len(data_list2))"
   ]
  },
  {
   "cell_type": "code",
   "execution_count": 25,
   "id": "92aff4f5-7b85-4d65-b713-69f1e15aba3f",
   "metadata": {},
   "outputs": [],
   "source": [
    "list1 = [1, 2, 3, 4, 5]\n",
    "list2 = [\"apple\", \"banana\", \"cherry\", \"mango\"]\n",
    "list3 = [True, False, True, False]\n",
    "list4 = [3.14, 2.71, 1.41, 0.577]\n",
    "list5 = [\"Python\", 101, 9.8, True]\n",
    "list6 = [10, 20, 30, 40, 50, 60]\n",
    "list7 = [\"red\", \"green\", \"blue\", \"yellow\", \"purple\"]\n",
    "list8 = [100, \"hello\", False, 99.99]\n",
    "list9 = [7, 14, 21, 28, 35]\n",
    "list10 = [\"dog\", \"cat\", \"rabbit\", \"parrot\"]\n"
   ]
  },
  {
   "cell_type": "code",
   "execution_count": 34,
   "id": "ccf40f91-fb5a-453c-be80-ecb2a61a9935",
   "metadata": {},
   "outputs": [],
   "source": [
    "list1 = [1, 2, 3, 4, 5]\n",
    "list2 = [\"apple\", \"banana\", \"cherry\", \"mango\"]\n",
    "list3 = [1, 2, 3, 4, 5]\n",
    "list4 = [3.14, 2.71, 1.41, 0.577]\n",
    "list5 = [\"Python\", 101, 9.8, True]\n",
    "list6 = [10, 20, 30, 40, 50, 60]\n",
    "list7 = [\"red\", \"green\", \"blue\", \"yellow\", \"purple\"]\n",
    "list8 = [100, \"hello\", False, 99.99]\n",
    "list9 = [7, 14, 21, 28, 35]\n",
    "list10 = [\"dog\", \"cat\", \"rabbit\", \"parrot\"]\n"
   ]
  },
  {
   "cell_type": "code",
   "execution_count": 7,
   "id": "b302cd07-9300-4e8d-b6ac-b5780854addc",
   "metadata": {},
   "outputs": [
    {
     "name": "stdout",
     "output_type": "stream",
     "text": [
      "5\n",
      "['apple', 'banana', 'new_fruits', 'mango', 'blue']\n"
     ]
    }
   ],
   "source": [
    "list2 = [\"apple\", \"banana\", \"cherry\", \"mango\"]\n",
    "list2.append (\"blue\")\n",
    "list2[2]  = \"new_fruits\"\n",
    "print(len(list2))\n",
    "print(list2)"
   ]
  },
  {
   "cell_type": "code",
   "execution_count": 18,
   "id": "f2ba7b04-b09b-432d-b676-289c18b45da1",
   "metadata": {},
   "outputs": [
    {
     "name": "stdout",
     "output_type": "stream",
     "text": [
      "blue\n",
      "1758776935296\n",
      "1758762609152\n",
      "6\n",
      "6\n"
     ]
    }
   ],
   "source": [
    "list6 = [10, 20, 30, 40, 50, 60]\n",
    "list7 = [\"red\", \"green\", \"blue\", \"yellow\", \"purple\"]\n",
    "list7 = [\"red\", \"green\", \"blue\", \"yellow\", \"purple\"]\n",
    "print(list7[2])\n",
    "list7 = [\"red\", \"green\", \"blue\", \"yellow\", \"purple\"]\n",
    "list7.append(\"blue\")\n",
    "print(id(list7))\n",
    "print(id(list6))\n",
    "print(len(list6))\n",
    "print(len(list6))"
   ]
  },
  {
   "cell_type": "code",
   "execution_count": 19,
   "id": "6fca3003-8aa5-40c8-a4ec-e3bf61c3336a",
   "metadata": {},
   "outputs": [
    {
     "name": "stdout",
     "output_type": "stream",
     "text": [
      "['dog', 'cat', 'rabbit', 'parrot', 'd', 'o', 'g']\n"
     ]
    }
   ],
   "source": [
    "list10 = [\"dog\", \"cat\", \"rabbit\", \"parrot\"]\n",
    "list10.extend(\"dog\")\n",
    "print(list10)"
   ]
  },
  {
   "cell_type": "code",
   "execution_count": 30,
   "id": "4c1f1c96-228d-47ef-a387-76b3c60c82af",
   "metadata": {},
   "outputs": [
    {
     "name": "stdout",
     "output_type": "stream",
     "text": [
      "1\n",
      "1758776938816\n",
      "neetu\n",
      "cat\n",
      "rabbit\n",
      "parrot\n",
      "d\n",
      "o\n",
      "g\n",
      "g\n"
     ]
    }
   ],
   "source": [
    "list10 = [\"dog\", \"cat\", \"rabbit\", \"parrot\"]\n",
    "list10.extend(\"dog\")\n",
    "list10[0] = \"neetu\"\n",
    "print(len(list10[-1]))\n",
    "print(id(list10))\n",
    "for i in list10:\n",
    "    print(i)\n",
    "print(list10[-1])"
   ]
  },
  {
   "cell_type": "code",
   "execution_count": 33,
   "id": "88dad43f-7d62-4aa9-b95c-4738a8ff336d",
   "metadata": {},
   "outputs": [
    {
     "name": "stdout",
     "output_type": "stream",
     "text": [
      "1\n",
      "2\n",
      "3\n",
      "4\n",
      "5\n",
      "6\n",
      "7\n",
      "8\n",
      "9\n"
     ]
    }
   ],
   "source": [
    "for i in range(1, 10):\n",
    "    print(i)"
   ]
  },
  {
   "cell_type": "code",
   "execution_count": 34,
   "id": "bb9762f9-a040-4c2e-9ab4-3859c23bb80f",
   "metadata": {},
   "outputs": [
    {
     "name": "stdout",
     "output_type": "stream",
     "text": [
      "1\n",
      "2\n",
      "3\n",
      "4\n",
      "5\n",
      "6\n",
      "7\n",
      "8\n",
      "9\n",
      "10\n"
     ]
    }
   ],
   "source": [
    "for i in range(1, 11):\n",
    "    print(i)"
   ]
  },
  {
   "cell_type": "code",
   "execution_count": 35,
   "id": "10378dcd-06d4-46a4-9f1f-a592401a6662",
   "metadata": {},
   "outputs": [
    {
     "name": "stdout",
     "output_type": "stream",
     "text": [
      "1\n",
      "4\n",
      "7\n",
      "10\n"
     ]
    }
   ],
   "source": [
    "for i in range(1, 11, 3):\n",
    "    print(i)"
   ]
  },
  {
   "cell_type": "code",
   "execution_count": 9,
   "id": "cff72202-60e1-41e6-9843-5667df59a29a",
   "metadata": {},
   "outputs": [
    {
     "ename": "TypeError",
     "evalue": "cannot set 'name' attribute of immutable type 'str'",
     "output_type": "error",
     "traceback": [
      "\u001b[1;31m---------------------------------------------------------------------------\u001b[0m",
      "\u001b[1;31mTypeError\u001b[0m                                 Traceback (most recent call last)",
      "Cell \u001b[1;32mIn[9], line 2\u001b[0m\n\u001b[0;32m      1\u001b[0m name\u001b[38;5;241m=\u001b[39m\u001b[38;5;124m\"\u001b[39m\u001b[38;5;124mneetu\u001b[39m\u001b[38;5;124m\"\u001b[39m\n\u001b[1;32m----> 2\u001b[0m \u001b[38;5;28mstr\u001b[39m\u001b[38;5;241m.\u001b[39mname\u001b[38;5;241m=\u001b[39m\u001b[38;5;28mlist\u001b[39m(name)\n\u001b[0;32m      3\u001b[0m \u001b[38;5;28mprint\u001b[39m(name)\n",
      "\u001b[1;31mTypeError\u001b[0m: cannot set 'name' attribute of immutable type 'str'"
     ]
    }
   ],
   "source": [
    "name=\"neetu\"\n",
    "str.name=list(name)\n",
    "print(name)"
   ]
  },
  {
   "cell_type": "code",
   "execution_count": 6,
   "id": "9e5ae13b-510a-4b15-9dc0-40148c807677",
   "metadata": {},
   "outputs": [
    {
     "name": "stdout",
     "output_type": "stream",
     "text": [
      "['n', 'e', 'e', 't', 'u']\n",
      "5\n",
      "2675521897152\n",
      "2675507662880\n"
     ]
    }
   ],
   "source": [
    "name=\"neetu\"\n",
    "str_name=list(name)\n",
    "print(str_name)\n",
    "#print(len(str_name))\n",
    "print(len(name))\n",
    "print(id(str_name))\n",
    "print(id(name))\n"
   ]
  },
  {
   "cell_type": "code",
   "execution_count": 13,
   "id": "f29a45bd-b092-4c71-aa08-ddd3ad7ab217",
   "metadata": {},
   "outputs": [
    {
     "name": "stdout",
     "output_type": "stream",
     "text": [
      "['name', 'age', 'course_name', 'college_name']\n",
      "4\n",
      "2675522151680\n"
     ]
    }
   ],
   "source": [
    "name=[\"name\", \"age\", \"course_name\", \"college_name\"]\n",
    "str_name= list(name)\n",
    "print(str_name)\n",
    "print(len(str_name))\n",
    "print(id(str_name))"
   ]
  },
  {
   "cell_type": "code",
   "execution_count": 17,
   "id": "b53d0094-f8ec-408f-98ef-4b6ad78cdd22",
   "metadata": {},
   "outputs": [
    {
     "name": "stdout",
     "output_type": "stream",
     "text": [
      "['name', 'age', 'course_name', 'college_name', 'blue']\n"
     ]
    }
   ],
   "source": [
    "name=[\"name\", \"age\", \"course_name\", \"college_name\"]\n",
    "name.append(\"blue\")\n",
    "print(name)"
   ]
  },
  {
   "cell_type": "code",
   "execution_count": 21,
   "id": "347abb6a-be5f-422c-be61-a765415729cd",
   "metadata": {},
   "outputs": [
    {
     "name": "stdout",
     "output_type": "stream",
     "text": [
      "{'college_name', 'age', 'name', 'course_name'}\n",
      "4\n",
      "2675522198144\n"
     ]
    }
   ],
   "source": [
    "data_set={\"name\", \"age\", \"course_name\", \"college_name\",\"name\", \"age\", \"course_name\", \"college_name\"}\n",
    "print(data_set)\n",
    "print(len(data_set))\n",
    "print(id(data_set))"
   ]
  },
  {
   "cell_type": "code",
   "execution_count": 29,
   "id": "b12414d9-39dd-44b8-92b4-ed1d352389f7",
   "metadata": {},
   "outputs": [
    {
     "name": "stdout",
     "output_type": "stream",
     "text": [
      "name\n",
      "age\n",
      "course_name\n",
      "college_name\n",
      "name\n",
      "age\n",
      "course_name\n",
      "college_name\n",
      "b\n",
      "l\n",
      "u\n",
      "e\n",
      "['name', 'age', 'course_name', 'college_name', 'name', 'age', 'course_name', 'college_name', 'b', 'l', 'u', 'e']\n",
      "2675522594112\n",
      "12\n"
     ]
    }
   ],
   "source": [
    "data_set=[\"name\", \"age\", \"course_name\", \"college_name\",\"name\", \"age\", \"course_name\", \"college_name\"]\n",
    "data_set.extend(\"blue\")\n",
    "for i in data_set:\n",
    "    print(i)\n",
    "print(data_set)\n",
    "#print(data_set)\n",
    "print(id(data_set))\n",
    "print(len(data_set))"
   ]
  },
  {
   "cell_type": "code",
   "execution_count": 1,
   "id": "afdabac1-1e02-46d2-ad98-614af9eeaf27",
   "metadata": {},
   "outputs": [
    {
     "name": "stdout",
     "output_type": "stream",
     "text": [
      "1616856629504\n",
      "1616856822976\n"
     ]
    }
   ],
   "source": [
    "list1=[1,2,5,9,8,7]\n",
    "print(id(list1))\n",
    "new_list=[1,2,5,9]\n",
    "print(id(new_list))"
   ]
  },
  {
   "cell_type": "markdown",
   "id": "112281cf-9db0-4013-9f99-9bb4881cf2ef",
   "metadata": {},
   "source": [
    "# adding elements to the list"
   ]
  },
  {
   "cell_type": "markdown",
   "id": "2b59306f-5765-411c-81fd-954088fe3cc8",
   "metadata": {},
   "source": [
    "**we can add elements in a list by .append().extend() .insert() method**"
   ]
  },
  {
   "cell_type": "code",
   "execution_count": 5,
   "id": "1843e6c3-2f79-44f6-bff0-0b4b1c9c73ea",
   "metadata": {},
   "outputs": [
    {
     "ename": "TypeError",
     "evalue": "insert expected 2 arguments, got 1",
     "output_type": "error",
     "traceback": [
      "\u001b[1;31m---------------------------------------------------------------------------\u001b[0m",
      "\u001b[1;31mTypeError\u001b[0m                                 Traceback (most recent call last)",
      "Cell \u001b[1;32mIn[5], line 4\u001b[0m\n\u001b[0;32m      2\u001b[0m \u001b[38;5;28mlist\u001b[39m\u001b[38;5;241m.\u001b[39mappend(\u001b[38;5;124m\"\u001b[39m\u001b[38;5;124mneha\u001b[39m\u001b[38;5;124m\"\u001b[39m)\n\u001b[0;32m      3\u001b[0m \u001b[38;5;28mlist\u001b[39m\u001b[38;5;241m.\u001b[39mextend(\u001b[38;5;124m\"\u001b[39m\u001b[38;5;124mneha\u001b[39m\u001b[38;5;124m\"\u001b[39m)\n\u001b[1;32m----> 4\u001b[0m \u001b[38;5;28mlist\u001b[39m\u001b[38;5;241m.\u001b[39minsert(\u001b[38;5;124m\"\u001b[39m\u001b[38;5;124mneha\u001b[39m\u001b[38;5;124m\"\u001b[39m)\n\u001b[0;32m      5\u001b[0m \u001b[38;5;28mprint\u001b[39m(\u001b[38;5;28mlist\u001b[39m)\n",
      "\u001b[1;31mTypeError\u001b[0m: insert expected 2 arguments, got 1"
     ]
    }
   ],
   "source": [
    "list=[\"name\", \"age\", \"course_name\", \"college_name\",\"name\", \"age\", \"course_name\", \"college_name\"]\n",
    "list.append(\"neha\")\n",
    "list.extend(\"neha\")\n",
    "list.insert(\"neha\")\n",
    "print(list)"
   ]
  },
  {
   "cell_type": "code",
   "execution_count": 11,
   "id": "d9983612-4dc6-4d3a-9fb9-38123d84233f",
   "metadata": {},
   "outputs": [
    {
     "name": "stdout",
     "output_type": "stream",
     "text": [
      "1616871394112\n"
     ]
    },
    {
     "ename": "TypeError",
     "evalue": "list.append() takes exactly one argument (2 given)",
     "output_type": "error",
     "traceback": [
      "\u001b[1;31m---------------------------------------------------------------------------\u001b[0m",
      "\u001b[1;31mTypeError\u001b[0m                                 Traceback (most recent call last)",
      "Cell \u001b[1;32mIn[11], line 3\u001b[0m\n\u001b[0;32m      1\u001b[0m list1\u001b[38;5;241m=\u001b[39m[\u001b[38;5;241m2\u001b[39m,\u001b[38;5;241m5\u001b[39m,\u001b[38;5;241m9\u001b[39m]\n\u001b[0;32m      2\u001b[0m \u001b[38;5;28mprint\u001b[39m(\u001b[38;5;28mid\u001b[39m(list1))\n\u001b[1;32m----> 3\u001b[0m list1\u001b[38;5;241m.\u001b[39mappend(\u001b[38;5;241m2\u001b[39m,\u001b[38;5;241m5\u001b[39m)\n\u001b[0;32m      4\u001b[0m \u001b[38;5;28mprint\u001b[39m(list1)\n",
      "\u001b[1;31mTypeError\u001b[0m: list.append() takes exactly one argument (2 given)"
     ]
    }
   ],
   "source": [
    "list1=[2,5,9]\n",
    "print(id(list1))\n",
    "list1.append(2,5)\n",
    "print(list1)"
   ]
  },
  {
   "cell_type": "code",
   "execution_count": 12,
   "id": "f4d72f9f-6154-4b04-8e58-e46b35ee9bd6",
   "metadata": {},
   "outputs": [
    {
     "name": "stdout",
     "output_type": "stream",
     "text": [
      "1616871785920\n"
     ]
    },
    {
     "ename": "TypeError",
     "evalue": "list.extend() takes exactly one argument (2 given)",
     "output_type": "error",
     "traceback": [
      "\u001b[1;31m---------------------------------------------------------------------------\u001b[0m",
      "\u001b[1;31mTypeError\u001b[0m                                 Traceback (most recent call last)",
      "Cell \u001b[1;32mIn[12], line 3\u001b[0m\n\u001b[0;32m      1\u001b[0m list1\u001b[38;5;241m=\u001b[39m[\u001b[38;5;241m2\u001b[39m,\u001b[38;5;241m5\u001b[39m,\u001b[38;5;241m9\u001b[39m]\n\u001b[0;32m      2\u001b[0m \u001b[38;5;28mprint\u001b[39m(\u001b[38;5;28mid\u001b[39m(list1))\n\u001b[1;32m----> 3\u001b[0m list1\u001b[38;5;241m.\u001b[39mextend(\u001b[38;5;241m2\u001b[39m,\u001b[38;5;241m5\u001b[39m)\n\u001b[0;32m      4\u001b[0m \u001b[38;5;28mprint\u001b[39m(list1)\n",
      "\u001b[1;31mTypeError\u001b[0m: list.extend() takes exactly one argument (2 given)"
     ]
    }
   ],
   "source": [
    "list1=[2,5,9]\n",
    "print(id(list1))\n",
    "list1.extend(2,5)\n",
    "print(list1)"
   ]
  },
  {
   "cell_type": "code",
   "execution_count": 9,
   "id": "04742dbe-50b0-4bd4-8dab-220d9776ab08",
   "metadata": {},
   "outputs": [
    {
     "name": "stdout",
     "output_type": "stream",
     "text": [
      "[2, 5, 5, 9]\n"
     ]
    }
   ],
   "source": [
    "list1=[2,5,9]\n",
    "list1.insert(2,5)\n",
    "print(list1)"
   ]
  },
  {
   "cell_type": "code",
   "execution_count": 13,
   "id": "9a1b42f6-f3aa-4143-83f5-3d8bab666eab",
   "metadata": {},
   "outputs": [
    {
     "name": "stdout",
     "output_type": "stream",
     "text": [
      "1616871822720\n",
      "[2, 5, 9, 5]\n"
     ]
    }
   ],
   "source": [
    "list1=[2,5,9]\n",
    "print(id(list1))\n",
    "list1.append(5)\n",
    "print(list1)"
   ]
  },
  {
   "cell_type": "code",
   "execution_count": 16,
   "id": "20f11e4a-a78b-4390-8875-2dbcd65d601b",
   "metadata": {},
   "outputs": [
    {
     "ename": "TypeError",
     "evalue": "'int' object is not iterable",
     "output_type": "error",
     "traceback": [
      "\u001b[1;31m---------------------------------------------------------------------------\u001b[0m",
      "\u001b[1;31mTypeError\u001b[0m                                 Traceback (most recent call last)",
      "Cell \u001b[1;32mIn[16], line 1\u001b[0m\n\u001b[1;32m----> 1\u001b[0m list1\u001b[38;5;241m.\u001b[39mextend(\u001b[38;5;241m5\u001b[39m)\n\u001b[0;32m      2\u001b[0m \u001b[38;5;28mprint\u001b[39m(list1)\n",
      "\u001b[1;31mTypeError\u001b[0m: 'int' object is not iterable"
     ]
    }
   ],
   "source": [
    "list1.extend(5)\n",
    "print(list1)\n",
    "# extend contins only one arguments and its shoud be iterable(list,set,dicionary,string,truple)"
   ]
  },
  {
   "cell_type": "code",
   "execution_count": 1,
   "id": "ac0a8cd6-c357-4f8c-b14f-3b588e5ff101",
   "metadata": {},
   "outputs": [
    {
     "ename": "TypeError",
     "evalue": "'builtin_function_or_method' object is not subscriptable",
     "output_type": "error",
     "traceback": [
      "\u001b[1;31m---------------------------------------------------------------------------\u001b[0m",
      "\u001b[1;31mTypeError\u001b[0m                                 Traceback (most recent call last)",
      "Cell \u001b[1;32mIn[1], line 3\u001b[0m\n\u001b[0;32m      1\u001b[0m list1\u001b[38;5;241m=\u001b[39m[\u001b[38;5;241m12\u001b[39m,\u001b[38;5;241m23\u001b[39m,\u001b[38;5;241m56\u001b[39m,\u001b[38;5;241m78\u001b[39m,\u001b[38;5;241m9\u001b[39m]\n\u001b[0;32m      2\u001b[0m new_list\u001b[38;5;241m=\u001b[39m[]\n\u001b[1;32m----> 3\u001b[0m new_list\u001b[38;5;241m.\u001b[39mappend[\u001b[38;5;241m3\u001b[39m,\u001b[38;5;241m7\u001b[39m,\u001b[38;5;241m90\u001b[39m]\n\u001b[0;32m      4\u001b[0m \u001b[38;5;28mprint\u001b[39m(new_list)\n",
      "\u001b[1;31mTypeError\u001b[0m: 'builtin_function_or_method' object is not subscriptable"
     ]
    }
   ],
   "source": [
    "list1=[12,23,56,78,9]\n",
    "new_list=[]\n",
    "new_list.append[3,7,90]\n",
    "print(new_list)"
   ]
  },
  {
   "cell_type": "code",
   "execution_count": 9,
   "id": "f9c68fdf-adb8-4773-a1c0-775866ffc551",
   "metadata": {},
   "outputs": [
    {
     "name": "stdout",
     "output_type": "stream",
     "text": [
      "[3, 89, 89, 5]\n"
     ]
    }
   ],
   "source": [
    "list1=[12,45,67,876]\n",
    "new_list=[]\n",
    "new_list.extend([3,89,89,5])\n",
    "print(new_list)"
   ]
  },
  {
   "cell_type": "code",
   "execution_count": 3,
   "id": "3aa78564-62b8-48c3-b789-c200658ac9dd",
   "metadata": {},
   "outputs": [
    {
     "name": "stdout",
     "output_type": "stream",
     "text": [
      "[3, 4, 6, 5, 7, 8]\n"
     ]
    }
   ],
   "source": [
    "new_list=[3,4,6,7,8]\n",
    "new_list.insert(3,5)\n",
    "print(new_list)"
   ]
  },
  {
   "cell_type": "code",
   "execution_count": 5,
   "id": "01fb7673-8164-420e-9399-ae58ade470fc",
   "metadata": {},
   "outputs": [
    {
     "name": "stdout",
     "output_type": "stream",
     "text": [
      "140716221052104\n"
     ]
    },
    {
     "data": {
      "text/plain": [
       "140716221052168"
      ]
     },
     "execution_count": 5,
     "metadata": {},
     "output_type": "execute_result"
    }
   ],
   "source": [
    "x=10\n",
    "y=12\n",
    "print(id(x))\n",
    "id(y)"
   ]
  },
  {
   "cell_type": "code",
   "execution_count": 7,
   "id": "7ba9961b-75bb-4c9f-9a1f-a7a14bc3c212",
   "metadata": {},
   "outputs": [
    {
     "data": {
      "text/plain": [
       "5"
      ]
     },
     "execution_count": 7,
     "metadata": {},
     "output_type": "execute_result"
    }
   ],
   "source": [
    "new_list=[3,4,6,7,8]\n",
    "len(new_list)"
   ]
  },
  {
   "cell_type": "code",
   "execution_count": null,
   "id": "ebc043cf-0fc5-41f1-867d-575e466d1c0b",
   "metadata": {},
   "outputs": [],
   "source": []
  }
 ],
 "metadata": {
  "kernelspec": {
   "display_name": "Python 3 (ipykernel)",
   "language": "python",
   "name": "python3"
  },
  "language_info": {
   "codemirror_mode": {
    "name": "ipython",
    "version": 3
   },
   "file_extension": ".py",
   "mimetype": "text/x-python",
   "name": "python",
   "nbconvert_exporter": "python",
   "pygments_lexer": "ipython3",
   "version": "3.13.5"
  }
 },
 "nbformat": 4,
 "nbformat_minor": 5
}
