{
 "cells": [
  {
   "cell_type": "markdown",
   "id": "ec26e895-09c6-42d9-882c-a9300ce3bb57",
   "metadata": {},
   "source": [
    "# Basic for loop in python"
   ]
  },
  {
   "cell_type": "markdown",
   "id": "d3f94112-7449-4a81-bbc8-903410d8a133",
   "metadata": {},
   "source": [
    "***A for loop is used to repeat a block of code a specific number of times, or eachin a sequence like a (list,string,etc)***"
   ]
  },
  {
   "cell_type": "code",
   "execution_count": 2,
   "id": "81537b30-3dc2-41f8-8b10-7a36e38b894a",
   "metadata": {},
   "outputs": [
    {
     "ename": "_IncompleteInputError",
     "evalue": "incomplete input (566310280.py, line 2)",
     "output_type": "error",
     "traceback": [
      "\u001b[1;36m  Cell \u001b[1;32mIn[2], line 2\u001b[1;36m\u001b[0m\n\u001b[1;33m    for j in inner_loop:\u001b[0m\n\u001b[1;37m                        ^\u001b[0m\n\u001b[1;31m_IncompleteInputError\u001b[0m\u001b[1;31m:\u001b[0m incomplete input\n"
     ]
    }
   ],
   "source": [
    "for i in outer_loop:\n",
    "    for j in inner_loop:"
   ]
  },
  {
   "cell_type": "code",
   "execution_count": 5,
   "id": "d2f53c79-fb52-43c5-a3d4-418e5236497e",
   "metadata": {},
   "outputs": [
    {
     "name": "stdout",
     "output_type": "stream",
     "text": [
      "banananamemangonamegraphsname"
     ]
    }
   ],
   "source": [
    "fruits=[\"banana\",\"mango\",\"graphs\"]\n",
    "for fruit in fruits:\n",
    "    print(fruit,end=\"name\")"
   ]
  },
  {
   "cell_type": "code",
   "execution_count": 8,
   "id": "dd6f8732-974d-41c6-8b19-dc337af6da3c",
   "metadata": {},
   "outputs": [
    {
     "name": "stdout",
     "output_type": "stream",
     "text": [
      "bananamangographs"
     ]
    }
   ],
   "source": [
    "fruits=[\"banana\",\"mango\",\"graphs\"]\n",
    "for fruit in fruits:\n",
    "    print(fruit,end=\"\")"
   ]
  },
  {
   "cell_type": "code",
   "execution_count": 13,
   "id": "3a4b2eaf-ad78-44f7-a49d-b61be1d08654",
   "metadata": {},
   "outputs": [
    {
     "name": "stdout",
     "output_type": "stream",
     "text": [
      "4*88*66*"
     ]
    }
   ],
   "source": [
    "digites=[\"4\",\"88\",\"66\"]\n",
    "for digit in digites:\n",
    "    print(digit,end=\"*\")"
   ]
  },
  {
   "cell_type": "code",
   "execution_count": null,
   "id": "cc121332-22d0-4fde-acea-b8cbe10c6962",
   "metadata": {},
   "outputs": [],
   "source": [
    "fruits=[\"banana\",\"mango\",\"graphs\"]\n",
    "for fruit in fruits:\n",
    "    print(fruit,end=\"this is very ummy\")"
   ]
  },
  {
   "cell_type": "code",
   "execution_count": 18,
   "id": "377091f0-faa4-4051-a7c7-81bd3d871a95",
   "metadata": {},
   "outputs": [
    {
     "name": "stdout",
     "output_type": "stream",
     "text": [
      "<built-in method append of list object at 0x000001DAF45CFD80>hey!<built-in method append of list object at 0x000001DAF45CFD80>hey!<built-in method append of list object at 0x000001DAF45CFD80>hey!"
     ]
    }
   ],
   "source": [
    "games=[\"hockey\",\"badmintan\",\"chees\"]\n",
    "for game in games:\n",
    "    print(games.append,end=\"hey!\")"
   ]
  },
  {
   "cell_type": "code",
   "execution_count": null,
   "id": "0f6a8a18-7af2-4158-bd6d-8dddf72b15bc",
   "metadata": {},
   "outputs": [],
   "source": [
    "games=[\"hockey\",\"badmintan\",\"chees\"]\n",
    "for game in games:\n",
    "    print(games.append(\"wow\"),end=\"hey!\")"
   ]
  },
  {
   "cell_type": "code",
   "execution_count": 23,
   "id": "9f802008-eeeb-4839-9929-d0925e557675",
   "metadata": {},
   "outputs": [
    {
     "name": "stdout",
     "output_type": "stream",
     "text": [
      "['hockey', 'badmintan', 'chees']hello guys['hockey', 'badmintan', 'chees']hello guys['hockey', 'badmintan', 'chees']hello guys"
     ]
    }
   ],
   "source": [
    "games=[\"hockey\",\"badmintan\",\"chees\"]\n",
    "for game in games:\n",
    "    print(games,end=\"hello guys\")"
   ]
  },
  {
   "cell_type": "code",
   "execution_count": 22,
   "id": "2391f85b-c50d-49d6-aad2-4ce532a90bd6",
   "metadata": {},
   "outputs": [
    {
     "name": "stdout",
     "output_type": "stream",
     "text": [
      "['hockey', 'badmintan', 'cricket']hello guys['hockey', 'badmintan', 'cricket']hello guys['hockey', 'badmintan', 'cricket']hello guys"
     ]
    }
   ],
   "source": [
    "games=[\"hockey\",\"badmintan\",\"cricket\"]\n",
    "for game in games:\n",
    "    print(games,end=\"hello guys\")"
   ]
  },
  {
   "cell_type": "code",
   "execution_count": 21,
   "id": "15105cfe-e273-43ac-8a2f-e1a9ca863d26",
   "metadata": {},
   "outputs": [
    {
     "name": "stdout",
     "output_type": "stream",
     "text": [
      "{'name', 'clases'}name{'name', 'clases'}name"
     ]
    }
   ],
   "source": [
    "game={\"name\",\"clases\"}\n",
    "for games in game:\n",
    "    print(game,end=\"name\")"
   ]
  },
  {
   "cell_type": "markdown",
   "id": "802511b8-aace-45c0-a2b2-9e6276bd5d4f",
   "metadata": {},
   "source": [
    "# using range() with for loop\n",
    "range (start,stop,step)is often used with for to repeat something multiple times "
   ]
  },
  {
   "cell_type": "code",
   "execution_count": 20,
   "id": "55d2bdf3-24ad-4aec-9a1f-184b511a9aec",
   "metadata": {},
   "outputs": [
    {
     "ename": "SyntaxError",
     "evalue": "invalid syntax (1000956281.py, line 1)",
     "output_type": "error",
     "traceback": [
      "\u001b[1;36m  Cell \u001b[1;32mIn[20], line 1\u001b[1;36m\u001b[0m\n\u001b[1;33m    for in range (15,25,7):\u001b[0m\n\u001b[1;37m        ^\u001b[0m\n\u001b[1;31mSyntaxError\u001b[0m\u001b[1;31m:\u001b[0m invalid syntax\n"
     ]
    }
   ],
   "source": [
    "for in range (15,25,7):\n",
    "print(i)"
   ]
  },
  {
   "cell_type": "markdown",
   "id": "79bfb7d9-ca21-4260-9935-e8c7ed6a0d81",
   "metadata": {},
   "source": [
    "# nested for loop"
   ]
  },
  {
   "cell_type": "code",
   "execution_count": 38,
   "id": "577e59b2-f5b0-4a22-8265-e84d5ecaa76e",
   "metadata": {},
   "outputs": [
    {
     "name": "stdout",
     "output_type": "stream",
     "text": [
      "*\n",
      "**\n",
      "***\n",
      "****\n",
      "*****\n"
     ]
    }
   ],
   "source": [
    "rows=5\n",
    "for i in range(1, rows + 1):\n",
    "    print(\"*\" * i)"
   ]
  },
  {
   "cell_type": "code",
   "execution_count": 31,
   "id": "e3e8499c-5619-4175-b179-c49e766b1169",
   "metadata": {},
   "outputs": [
    {
     "data": {
      "text/plain": [
       "'nameage'"
      ]
     },
     "execution_count": 31,
     "metadata": {},
     "output_type": "execute_result"
    }
   ],
   "source": [
    "\"name\" + \"age\""
   ]
  },
  {
   "cell_type": "code",
   "execution_count": 34,
   "id": "47b101de-2a43-48c4-bc6d-3fe74cf353f4",
   "metadata": {},
   "outputs": [
    {
     "ename": "TypeError",
     "evalue": "unsupported operand type(s) for -: 'str' and 'str'",
     "output_type": "error",
     "traceback": [
      "\u001b[1;31m---------------------------------------------------------------------------\u001b[0m",
      "\u001b[1;31mTypeError\u001b[0m                                 Traceback (most recent call last)",
      "Cell \u001b[1;32mIn[34], line 1\u001b[0m\n\u001b[1;32m----> 1\u001b[0m \u001b[38;5;124m\"\u001b[39m\u001b[38;5;124mclasees\u001b[39m\u001b[38;5;124m\"\u001b[39m \u001b[38;5;241m-\u001b[39m \u001b[38;5;124m\"\u001b[39m\u001b[38;5;124msd\u001b[39m\u001b[38;5;124m\"\u001b[39m\n",
      "\u001b[1;31mTypeError\u001b[0m: unsupported operand type(s) for -: 'str' and 'str'"
     ]
    }
   ],
   "source": [
    "\"clasees\" - \"sd\""
   ]
  },
  {
   "cell_type": "markdown",
   "id": "4750183b-25ef-44f4-afa7-a6b4bf6de8db",
   "metadata": {},
   "source": [
    "the range is from 1 to 6 therefore i # values \n",
    "i=1 the output will be \"neha\"*1\n",
    "for i =i=2 the output will be \"neha\"*\"neha\"\n"
   ]
  },
  {
   "cell_type": "code",
   "execution_count": 43,
   "id": "67f947e9-5d0e-4ae8-9f3b-21a24d5cff73",
   "metadata": {},
   "outputs": [
    {
     "name": "stdout",
     "output_type": "stream",
     "text": [
      "*\n",
      "**\n",
      "***\n",
      "****\n",
      "*****\n",
      "******\n",
      "*******\n",
      "********\n",
      "*********\n",
      "**********\n"
     ]
    }
   ],
   "source": [
    "row=10\n",
    "for i in range(1,row +1):\n",
    "    print(\"*\" * i)\n"
   ]
  },
  {
   "cell_type": "code",
   "execution_count": 4,
   "id": "6755d07f-c86a-46ee-a2b7-a9cbe790c6cb",
   "metadata": {},
   "outputs": [
    {
     "name": "stdout",
     "output_type": "stream",
     "text": [
      "*\n",
      "***\n",
      "*****\n",
      "*******\n",
      "*********\n",
      "***********\n"
     ]
    }
   ],
   "source": [
    "row=12\n",
    "for i in range(1,row,+ 2):\n",
    "    print(\"*\" *i)"
   ]
  },
  {
   "cell_type": "code",
   "execution_count": 29,
   "id": "77c497b9-672d-48df-9e55-f8d19944b591",
   "metadata": {},
   "outputs": [],
   "source": [
    "row=5\n",
    "for i in range(10,row +1):\n",
    " print(\"*\" *i)"
   ]
  },
  {
   "cell_type": "code",
   "execution_count": 30,
   "id": "f9adfd77-0cc6-4b91-bcb1-baad475e53e8",
   "metadata": {},
   "outputs": [
    {
     "name": "stdout",
     "output_type": "stream",
     "text": [
      "*\n",
      "**\n",
      "***\n",
      "****\n",
      "*****\n",
      "******\n",
      "*******\n",
      "********\n",
      "*********\n"
     ]
    }
   ],
   "source": [
    "row=10\n",
    "for i in range(1,row,+1):\n",
    "     print(\"*\" *i)"
   ]
  },
  {
   "cell_type": "code",
   "execution_count": 19,
   "id": "405a12da-33ba-4722-890b-b181cc432e04",
   "metadata": {},
   "outputs": [],
   "source": [
    "row=10\n",
    "for i in range(1,row,-1):\n",
    "     print(\"*\" *i)"
   ]
  },
  {
   "cell_type": "code",
   "execution_count": 27,
   "id": "2f670555-9440-4e34-85ff-73f11b771005",
   "metadata": {},
   "outputs": [
    {
     "name": "stdout",
     "output_type": "stream",
     "text": [
      "10\n"
     ]
    }
   ],
   "source": [
    "s=10\n",
    "print(s)"
   ]
  },
  {
   "cell_type": "code",
   "execution_count": 25,
   "id": "2292c057-d8b7-495b-8aa2-fe455f88f15e",
   "metadata": {},
   "outputs": [
    {
     "name": "stdout",
     "output_type": "stream",
     "text": [
      "1\n",
      "12\n",
      "123\n",
      "1234\n",
      "12345\n"
     ]
    }
   ],
   "source": [
    "row=5\n",
    "for i in range(1,row + 1):\n",
    "    for j in range(1,i + 1):\n",
    "        print(j,end=\"\")\n",
    "    print()"
   ]
  },
  {
   "cell_type": "code",
   "execution_count": 1,
   "id": "e6177005-5496-4440-8e15-0fbabb30d5fd",
   "metadata": {},
   "outputs": [
    {
     "name": "stdout",
     "output_type": "stream",
     "text": [
      "*\n",
      "**\n",
      "***\n",
      "****\n",
      "*****\n",
      "******\n",
      "*******\n",
      "********\n",
      "*********\n",
      "**********\n"
     ]
    }
   ],
   "source": [
    "row=10\n",
    "for i in range(1,row+1):\n",
    "    print(\"*\" *i)"
   ]
  },
  {
   "cell_type": "code",
   "execution_count": 9,
   "id": "c17bfddf-080c-4849-862a-93ada2b1f43e",
   "metadata": {},
   "outputs": [
    {
     "name": "stdout",
     "output_type": "stream",
     "text": [
      "1\n",
      "12\n",
      "123\n",
      "1234\n",
      "12345\n",
      "123456\n"
     ]
    }
   ],
   "source": [
    "row=5\n",
    "for i in range(1,row+2):\n",
    "    for m in range(1,i+1):\n",
    "        print(m,end=\"\")\n",
    "    print()"
   ]
  },
  {
   "cell_type": "code",
   "execution_count": 17,
   "id": "04615f26-4074-48b8-acf2-349067b16c0e",
   "metadata": {},
   "outputs": [
    {
     "name": "stdout",
     "output_type": "stream",
     "text": [
      "1\n",
      "12\n",
      "123\n",
      "1234\n",
      "12345\n",
      "123456\n"
     ]
    }
   ],
   "source": [
    "row=5\n",
    "for i in range(1, row+2):\n",
    "    for k in range(1,i+1):\n",
    "        print(k,end=\"\")\n",
    "    print()"
   ]
  },
  {
   "cell_type": "code",
   "execution_count": 17,
   "id": "2d2a1f25-5a58-4b3b-b9f9-ab5c3e650caf",
   "metadata": {},
   "outputs": [
    {
     "name": "stdout",
     "output_type": "stream",
     "text": [
      "get up it is times of study\n"
     ]
    }
   ],
   "source": [
    "i=1\n",
    "while i >= 5:\n",
    "    print(i)\n",
    "    i=i+1\n",
    "print(\"get up it is times of study\")"
   ]
  },
  {
   "cell_type": "code",
   "execution_count": 16,
   "id": "51c03358-8bc3-43a7-8de6-2876b71054c0",
   "metadata": {},
   "outputs": [
    {
     "name": "stdout",
     "output_type": "stream",
     "text": [
      "get up it is times of study\n"
     ]
    }
   ],
   "source": [
    "i=1\n",
    "while i >= 5:\n",
    "    print(i)\n",
    "    i=i-1\n",
    "print(\"get up it is times of study\")"
   ]
  },
  {
   "cell_type": "markdown",
   "id": "40acb184-2374-454a-9e9f-886337cd1321",
   "metadata": {},
   "source": [
    "# crux of making patterns"
   ]
  },
  {
   "cell_type": "markdown",
   "id": "962d2219-fe8e-4b78-ba0e-f1d6b9b3d1ea",
   "metadata": {},
   "source": [
    "***outer loop controls the number of rows(vertical dimension)***\n",
    "***inner loop control characters per row(horizontal dimension)***\n",
    "***print(...end=\"\") keeping printing in the same line***\n",
    "***print()movesto the next line after a row is done***\n",
    "***logic in inner descides what to point:,number ,space,etc***\n",
    "***conditions (if) used for shapes like hollow boxes,diagonals etc.***"
   ]
  },
  {
   "cell_type": "code",
   "execution_count": 2,
   "id": "709c5701-11f9-4845-8c55-ce0c72ff8821",
   "metadata": {},
   "outputs": [
    {
     "name": "stdout",
     "output_type": "stream",
     "text": [
      "1\n",
      "2\n",
      "3\n",
      "4\n",
      "5\n",
      "6\n",
      "7\n",
      "8\n",
      "9\n",
      "10\n",
      "11\n"
     ]
    }
   ],
   "source": [
    "row=10\n",
    "for i in range(1,row+2):\n",
    "    print(i)"
   ]
  },
  {
   "cell_type": "code",
   "execution_count": 4,
   "id": "1153aef0-b5e5-494c-8974-59959fafed00",
   "metadata": {},
   "outputs": [
    {
     "ename": "IndentationError",
     "evalue": "expected an indented block after 'for' statement on line 3 (3191122572.py, line 4)",
     "output_type": "error",
     "traceback": [
      "\u001b[1;36m  Cell \u001b[1;32mIn[4], line 4\u001b[1;36m\u001b[0m\n\u001b[1;33m    print(j)\u001b[0m\n\u001b[1;37m    ^\u001b[0m\n\u001b[1;31mIndentationError\u001b[0m\u001b[1;31m:\u001b[0m expected an indented block after 'for' statement on line 3\n"
     ]
    }
   ],
   "source": [
    "row=10\n",
    "for i in range(1,row+2):\n",
    "    for j in range(1,i+2):\n",
    "    print(j)\n",
    "print()"
   ]
  },
  {
   "cell_type": "code",
   "execution_count": 12,
   "id": "444e0baa-64bd-4556-b03d-628d8561f7af",
   "metadata": {},
   "outputs": [
    {
     "name": "stdout",
     "output_type": "stream",
     "text": [
      "1*\n",
      "1*2*\n",
      "1*2*3*\n",
      "1*2*3*4*\n",
      "1*2*3*4*5*\n"
     ]
    }
   ],
   "source": [
    "row=5\n",
    "for i in range(1,row + 1):\n",
    "    for j in range(1,i + 1):\n",
    "        print(j,end=\"*\")\n",
    "    print()"
   ]
  },
  {
   "cell_type": "code",
   "execution_count": 24,
   "id": "4e47970e-89a8-4587-8904-96fd081f75b7",
   "metadata": {},
   "outputs": [
    {
     "name": "stdout",
     "output_type": "stream",
     "text": [
      "12345\n",
      "12345\n",
      "12345\n",
      "12345\n",
      "12345\n",
      "12345\n",
      "12345\n",
      "12345\n",
      "12345\n",
      "12345\n"
     ]
    }
   ],
   "source": [
    "row=10\n",
    "i=1\n",
    "while i <= row:\n",
    "    j=1\n",
    "    while j <= 5:\n",
    "        print(j,end=\"\")\n",
    "        j += 1\n",
    "    print()\n",
    "    i += 1\n",
    "        "
   ]
  },
  {
   "cell_type": "markdown",
   "id": "2e8f91c0-4123-43c0-b128-627780ab6aff",
   "metadata": {},
   "source": [
    "# python functions"
   ]
  },
  {
   "cell_type": "markdown",
   "id": "b638f801-f35d-475f-86cd-4908209c0b4c",
   "metadata": {},
   "source": [
    "***Python Functions are blocks of statements that perform a specific task. \n",
    "The main idea is to put some commonly or repeatedly used code inside a function \n",
    "so that instead of writing the same code again and again for different inputs, \n",
    "we can simply call the function. This makes the program shorter, easier to read, \n",
    "and reusable.***"
   ]
  },
  {
   "cell_type": "markdown",
   "id": "819ea901-8bec-4b0d-b5c6-871cda4206da",
   "metadata": {},
   "source": [
    "# def function_name(parameter1,param2):\n",
    "    # some work\n",
    "    return val\n",
    "    function_name(ar1,arg2)#function call"
   ]
  },
  {
   "cell_type": "code",
   "execution_count": 33,
   "id": "dc9d8d07-1b3b-419a-b1a8-290370bddc41",
   "metadata": {},
   "outputs": [
    {
     "data": {
      "text/plain": [
       "'welcome to vijai'"
      ]
     },
     "execution_count": 33,
     "metadata": {},
     "output_type": "execute_result"
    }
   ],
   "source": [
    "def fun():\n",
    "    return(\"welcome to vijai\")\n",
    "fun()"
   ]
  },
  {
   "cell_type": "code",
   "execution_count": 3,
   "id": "f399c192-e939-4ed4-80ef-48cb4f057d6e",
   "metadata": {},
   "outputs": [
    {
     "name": "stdout",
     "output_type": "stream",
     "text": [
      "9\n"
     ]
    }
   ],
   "source": [
    "def calculate_sum(a,b):\n",
    "    sum=a + b\n",
    "    print(sum)\n",
    "calculate_sum(4,5)\n",
    "    "
   ]
  },
  {
   "cell_type": "code",
   "execution_count": 5,
   "id": "907dc8ba-9dc0-4b0c-8a0f-4fa8dc627692",
   "metadata": {},
   "outputs": [
    {
     "name": "stdin",
     "output_type": "stream",
     "text": [
      "enter a value: 34\n",
      "enter b value: 34\n"
     ]
    },
    {
     "name": "stdout",
     "output_type": "stream",
     "text": [
      "68\n"
     ]
    }
   ],
   "source": [
    "a=int(input(\"enter a value:\"))\n",
    "b=int(input (\"enter b value:\"))\n",
    "def calculate_sum(a,b):\n",
    "    sum=a + b\n",
    "    print(sum)\n",
    "calculate_sum(a,b)"
   ]
  },
  {
   "cell_type": "code",
   "execution_count": 7,
   "id": "9cc4d99a-5cac-450a-80be-bfebe48b00d0",
   "metadata": {},
   "outputs": [
    {
     "name": "stdin",
     "output_type": "stream",
     "text": [
      "enter a value: 56\n",
      "enter b value: 56\n"
     ]
    },
    {
     "name": "stdout",
     "output_type": "stream",
     "text": [
      "3136\n",
      "3136\n"
     ]
    }
   ],
   "source": [
    "a=int(input(\"enter a value:\"))\n",
    "b=int(input (\"enter b value:\"))\n",
    "def calculate_sum(a,b):\n",
    "    sum=a * b\n",
    "    print(sum)\n",
    "calculate_sum(a,b)\n",
    "calculate_sum(a,b)"
   ]
  },
  {
   "cell_type": "code",
   "execution_count": 6,
   "id": "a1769492-7255-40ac-9da2-73654d67a548",
   "metadata": {},
   "outputs": [
    {
     "name": "stdout",
     "output_type": "stream",
     "text": [
      "\n",
      " hello neha\n",
      " hello neha\n",
      " hello neha\n",
      " hello neha\n",
      " hello neha\n",
      " hello neha\n",
      " hello neha\n",
      " hello neha\n",
      " hello neha\n",
      " hello neha\n"
     ]
    }
   ],
   "source": [
    "def print_hello():\n",
    "    print(\"\\n hello neha\"*10)\n",
    "print_hello()"
   ]
  },
  {
   "cell_type": "code",
   "execution_count": 10,
   "id": "0040f5c4-10b9-43ed-b5c8-b506aa994550",
   "metadata": {},
   "outputs": [
    {
     "data": {
      "text/plain": [
       "7.666666666666667"
      ]
     },
     "execution_count": 10,
     "metadata": {},
     "output_type": "execute_result"
    }
   ],
   "source": [
    "def avarge_numbers(a,b,c):\n",
    "    sum=a + b+c\n",
    "    avarage=sum/3\n",
    "    return avarage\n",
    "avarge_numbers(7,7,9)   "
   ]
  },
  {
   "cell_type": "code",
   "execution_count": 11,
   "id": "9f3372eb-3f2e-48ba-b9e9-d5ec39c20225",
   "metadata": {},
   "outputs": [
    {
     "name": "stdin",
     "output_type": "stream",
     "text": [
      "enter a value: 34\n",
      "enter b value: 23\n",
      "enter c value: 23\n"
     ]
    },
    {
     "data": {
      "text/plain": [
       "26.666666666666668"
      ]
     },
     "execution_count": 11,
     "metadata": {},
     "output_type": "execute_result"
    }
   ],
   "source": [
    "a=int(input(\"enter a value:\"))\n",
    "b=int(input (\"enter b value:\"))\n",
    "c=int(input(\"enter c value:\"))\n",
    "def avarge_numbers(a,b,c):\n",
    "    sum=a + b+c\n",
    "    avarage=sum/3\n",
    "    return avarage\n",
    "avarge_numbers(a,b,c)   \n"
   ]
  },
  {
   "cell_type": "code",
   "execution_count": 8,
   "id": "1ff692ea-699f-4f9b-be84-952067048695",
   "metadata": {},
   "outputs": [
    {
     "name": "stdin",
     "output_type": "stream",
     "text": [
      "enter any number: 88\n",
      "enter any number: 99\n",
      "enter any opretors(+,-,*,/): -\n"
     ]
    },
    {
     "name": "stdout",
     "output_type": "stream",
     "text": [
      "result -11\n"
     ]
    }
   ],
   "source": [
    "\n",
    "a=int(input(\"enter any number:\"))\n",
    "b=int(input(\"enter any number:\"))\n",
    "opretor=input(\"enter any opretors(+,-,*,/):\")\n",
    "if opretor == '+':\n",
    "    result=a+b\n",
    "elif opretor == '-':\n",
    "    result=a-b\n",
    "elif opretor == '*':\n",
    "    result=a*b\n",
    "elif opretor =='/':\n",
    "    if b!= 0:\n",
    "        result=a/b\n",
    "    else:\n",
    "        result=\"invalid opretor\"\n",
    "else:\n",
    "    result=\"invalid opretor\"\n",
    "print(\"result\",result)  "
   ]
  },
  {
   "cell_type": "code",
   "execution_count": 7,
   "id": "02f1248b-ab21-48c4-bcfd-0bda76b6181b",
   "metadata": {},
   "outputs": [
    {
     "name": "stdout",
     "output_type": "stream",
     "text": [
      "MARKSHEET\n"
     ]
    },
    {
     "ename": "TypeError",
     "evalue": "'<' not supported between instances of 'dict' and 'int'",
     "output_type": "error",
     "traceback": [
      "\u001b[1;31m---------------------------------------------------------------------------\u001b[0m",
      "\u001b[1;31mTypeError\u001b[0m                                 Traceback (most recent call last)",
      "Cell \u001b[1;32mIn[7], line 5\u001b[0m\n\u001b[0;32m      3\u001b[0m outof\u001b[38;5;241m=\u001b[39m \u001b[38;5;241m500\u001b[39m\n\u001b[0;32m      4\u001b[0m subject_marks\u001b[38;5;241m=\u001b[39m{\u001b[38;5;124m\"\u001b[39m\u001b[38;5;124mhindi\u001b[39m\u001b[38;5;124m\"\u001b[39m:\u001b[38;5;124m\"\u001b[39m\u001b[38;5;124m100\u001b[39m\u001b[38;5;124m\"\u001b[39m,\u001b[38;5;124m\"\u001b[39m\u001b[38;5;124menglish\u001b[39m\u001b[38;5;124m\"\u001b[39m:\u001b[38;5;124m\"\u001b[39m\u001b[38;5;124m100\u001b[39m\u001b[38;5;124m\"\u001b[39m,\u001b[38;5;124m\"\u001b[39m\u001b[38;5;124mmath\u001b[39m\u001b[38;5;124m\"\u001b[39m:\u001b[38;5;124m\"\u001b[39m\u001b[38;5;124m100\u001b[39m\u001b[38;5;124m\"\u001b[39m,\u001b[38;5;124m\"\u001b[39m\u001b[38;5;124mscience\u001b[39m\u001b[38;5;124m\"\u001b[39m:\u001b[38;5;124m\"\u001b[39m\u001b[38;5;124m100\u001b[39m\u001b[38;5;124m\"\u001b[39m,\u001b[38;5;124m\"\u001b[39m\u001b[38;5;124msst\u001b[39m\u001b[38;5;124m\"\u001b[39m:\u001b[38;5;124m\"\u001b[39m\u001b[38;5;124m100\u001b[39m\u001b[38;5;124m\"\u001b[39m}\n\u001b[1;32m----> 5\u001b[0m \u001b[38;5;28;01mif\u001b[39;00m subject_marks \u001b[38;5;241m<\u001b[39m \u001b[38;5;241m33\u001b[39m:\n\u001b[0;32m      6\u001b[0m     \u001b[38;5;28mprint\u001b[39m(\u001b[38;5;124m\"\u001b[39m\u001b[38;5;124mstudent pass\u001b[39m\u001b[38;5;124m\"\u001b[39m)\n\u001b[0;32m      7\u001b[0m \u001b[38;5;28;01melse\u001b[39;00m:\n",
      "\u001b[1;31mTypeError\u001b[0m: '<' not supported between instances of 'dict' and 'int'"
     ]
    }
   ],
   "source": [
    "print(\"MARKSHEET\")\n",
    "subject=[\"hindi\",\"english\",\"math\",\"science\",\"sst\"]\n",
    "outof= 500\n",
    "subject_marks={\"hindi\":\"100\",\"english\":\"100\",\"math\":\"100\",\"science\":\"100\",\"sst\":\"100\"}\n",
    "if subject_marks < 33:\n",
    "    print(\"student pass\")\n",
    "else:\n",
    "    print(\"student fail\")\n",
    "\n"
   ]
  },
  {
   "cell_type": "code",
   "execution_count": 1,
   "id": "8a6f7f20-0bfb-483b-862b-f8a5b8ea321a",
   "metadata": {},
   "outputs": [
    {
     "name": "stdout",
     "output_type": "stream",
     "text": [
      "the sum of 12 and 18 is 30\n"
     ]
    }
   ],
   "source": [
    "a=12\n",
    "b=18\n",
    "print(f\"the sum of {a} and {b} is {a+b}\")"
   ]
  },
  {
   "cell_type": "code",
   "execution_count": 4,
   "id": "27fbe988-fdce-4db0-b507-1fef630ee2e4",
   "metadata": {},
   "outputs": [
    {
     "name": "stdout",
     "output_type": "stream",
     "text": [
      "the name isneha and age19 is old.\n"
     ]
    }
   ],
   "source": [
    "name=\"neha\"\n",
    "age=19\n",
    "print(\"the name is {} and age{} is old.\".format(name,age))"
   ]
  },
  {
   "cell_type": "code",
   "execution_count": 12,
   "id": "4176c31f-664a-4c7e-bfa0-a793c41edfdb",
   "metadata": {},
   "outputs": [
    {
     "name": "stdin",
     "output_type": "stream",
     "text": [
      "enter password neha\n"
     ]
    },
    {
     "name": "stdout",
     "output_type": "stream",
     "text": [
      "scessfully login\n"
     ]
    }
   ],
   "source": [
    "password=\"neha\"\n",
    "user_input=\"\"\n",
    "user_input=input(\"enter password\")\n",
    "if user_input == password:\n",
    "    print(\"scessfully login\")\n",
    "else:\n",
    "    print(\"this is not your password\")"
   ]
  },
  {
   "cell_type": "code",
   "execution_count": 1,
   "id": "03252f56-9db3-4eb1-90ea-ee6b5d60543d",
   "metadata": {},
   "outputs": [
    {
     "name": "stdout",
     "output_type": "stream",
     "text": [
      "1\n",
      "2\n",
      "3\n",
      "4\n",
      "5\n",
      "6\n",
      "7\n"
     ]
    }
   ],
   "source": [
    "row=7\n",
    "for i in range(1,row+1):\n",
    "    print(i)"
   ]
  },
  {
   "cell_type": "code",
   "execution_count": 2,
   "id": "6b5e973c-2a7f-4fec-abea-c9fde4fd91d8",
   "metadata": {},
   "outputs": [
    {
     "name": "stdout",
     "output_type": "stream",
     "text": [
      "0 0\n",
      "0 1\n",
      "0 2\n",
      "0 3\n",
      "1 0\n",
      "1 1\n",
      "1 2\n",
      "1 3\n",
      "2 0\n",
      "2 1\n",
      "2 2\n",
      "2 3\n",
      "3 0\n",
      "3 1\n",
      "3 2\n",
      "3 3\n",
      "4 0\n",
      "4 1\n",
      "4 2\n",
      "4 3\n"
     ]
    }
   ],
   "source": [
    "for i in range(5):\n",
    "    for j in range(4):\n",
    "        print(i,j)"
   ]
  },
  {
   "cell_type": "code",
   "execution_count": 12,
   "id": "b0526508-179d-4299-a601-f74edcfa26fa",
   "metadata": {},
   "outputs": [
    {
     "name": "stdout",
     "output_type": "stream",
     "text": [
      "*\n",
      "*\n",
      "*\n",
      "*\n",
      "*\n"
     ]
    }
   ],
   "source": [
    "row=5\n",
    "i=1\n",
    "while i <= row:\n",
    "    print( \"*\")\n",
    "    i=i+1"
   ]
  },
  {
   "cell_type": "code",
   "execution_count": 1,
   "id": "e5d46213-0df5-4bd2-8120-5521e0943aed",
   "metadata": {},
   "outputs": [
    {
     "name": "stdout",
     "output_type": "stream",
     "text": [
      "{'a': 15, 'b': 10}\n"
     ]
    }
   ],
   "source": [
    "d = {'a': 5, 'b': 10}\n",
    "d['a'] = 15\n",
    "print(d)\n"
   ]
  },
  {
   "cell_type": "code",
   "execution_count": 2,
   "id": "adda0bc4-4350-4ee2-a748-89128251d769",
   "metadata": {},
   "outputs": [
    {
     "name": "stdout",
     "output_type": "stream",
     "text": [
      "{'a': 15, 'b': 10}\n"
     ]
    }
   ],
   "source": [
    "d = {'a': 5, 'b': 10}\n",
    "d['a'] = 15\n",
    "print(d)\n"
   ]
  },
  {
   "cell_type": "code",
   "execution_count": 3,
   "id": "32e110da-e50d-48eb-b638-eb130815eb19",
   "metadata": {},
   "outputs": [
    {
     "name": "stdout",
     "output_type": "stream",
     "text": [
      "{1, 2, 3}\n"
     ]
    }
   ],
   "source": [
    "set1 = {1, 2, 3}\n",
    "set2 = set1.copy()\n",
    "set2.add(4)\n",
    "print(set1)\n"
   ]
  },
  {
   "cell_type": "code",
   "execution_count": 6,
   "id": "ec3ecf58-83ae-46e0-b69f-cf19cfa759e0",
   "metadata": {},
   "outputs": [
    {
     "name": "stdout",
     "output_type": "stream",
     "text": [
      "*******\n",
      "*******\n",
      "*******\n",
      "*******\n",
      "*******\n"
     ]
    }
   ],
   "source": [
    "row=6\n",
    "for i in range(1,row):\n",
    "    print(\"*\" * 7)"
   ]
  },
  {
   "cell_type": "code",
   "execution_count": 1,
   "id": "fb67596e-b66d-424d-89f0-f9bc8353c58c",
   "metadata": {},
   "outputs": [
    {
     "ename": "SyntaxError",
     "evalue": "unmatched ')' (688481473.py, line 6)",
     "output_type": "error",
     "traceback": [
      "\u001b[1;36m  Cell \u001b[1;32mIn[1], line 6\u001b[1;36m\u001b[0m\n\u001b[1;33m    evenodd6a)\u001b[0m\n\u001b[1;37m             ^\u001b[0m\n\u001b[1;31mSyntaxError\u001b[0m\u001b[1;31m:\u001b[0m unmatched ')'\n"
     ]
    }
   ],
   "source": [
    "def evenodd(a):\n",
    "    if a%2 == 0:\n",
    "        print(\"a is even\")\n",
    "    else:\n",
    "        print(\"a is odd\")\n",
    "evenodd6) "
   ]
  },
  {
   "cell_type": "code",
   "execution_count": null,
   "id": "b9aad7d5-6bb7-4d79-8120-c2cbe1e661ff",
   "metadata": {},
   "outputs": [],
   "source": []
  }
 ],
 "metadata": {
  "kernelspec": {
   "display_name": "Python 3 (ipykernel)",
   "language": "python",
   "name": "python3"
  },
  "language_info": {
   "codemirror_mode": {
    "name": "ipython",
    "version": 3
   },
   "file_extension": ".py",
   "mimetype": "text/x-python",
   "name": "python",
   "nbconvert_exporter": "python",
   "pygments_lexer": "ipython3",
   "version": "3.13.5"
  }
 },
 "nbformat": 4,
 "nbformat_minor": 5
}
