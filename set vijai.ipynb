{
 "cells": [
  {
   "cell_type": "markdown",
   "id": "44089823-5676-4905-bfc4-b45208f87e3a",
   "metadata": {},
   "source": [
    "# Characteristics of a set-\n",
    "***A set is data structure in python with the following three characteristics.***\n",
    "***unordered The items in the set are unordered ,unlike,i,e..,it will not maintain the order in which the items are inserted .The items will be in a different order each time when we access the Set object .therewill not be any index valueassigned to each items in the set.***\n"
   ]
  },
  {
   "cell_type": "code",
   "execution_count": 6,
   "id": "80ab4fc8-44b3-49c8-83c1-1f64a94020b4",
   "metadata": {},
   "outputs": [
    {
     "ename": "TypeError",
     "evalue": "unhashable type: 'list'",
     "output_type": "error",
     "traceback": [
      "\u001b[1;31m---------------------------------------------------------------------------\u001b[0m",
      "\u001b[1;31mTypeError\u001b[0m                                 Traceback (most recent call last)",
      "Cell \u001b[1;32mIn[6], line 1\u001b[0m\n\u001b[1;32m----> 1\u001b[0m my_set\u001b[38;5;241m=\u001b[39m{\u001b[38;5;241m2\u001b[39m,\u001b[38;5;241m5\u001b[39m,[\u001b[38;5;241m3\u001b[39m,\u001b[38;5;241m4\u001b[39m],\u001b[38;5;124m\"\u001b[39m\u001b[38;5;124mneha\u001b[39m\u001b[38;5;124m\"\u001b[39m}\n\u001b[0;32m      2\u001b[0m \u001b[38;5;28mprint\u001b[39m(my_set)\n",
      "\u001b[1;31mTypeError\u001b[0m: unhashable type: 'list'"
     ]
    }
   ],
   "source": [
    "my_set={2,5,[3,4],\"neha\"}\n",
    "print(my_set)"
   ]
  },
  {
   "cell_type": "code",
   "execution_count": 7,
   "id": "4ac6450b-63bd-4818-97c0-121bd33376c9",
   "metadata": {},
   "outputs": [
    {
     "name": "stdout",
     "output_type": "stream",
     "text": [
      "{'neha', 2, 5}\n"
     ]
    }
   ],
   "source": [
    "my_set={2,5,\"neha\"}\n",
    "print(my_set)"
   ]
  },
  {
   "cell_type": "code",
   "execution_count": 8,
   "id": "9fa459d8-a423-4e26-a82e-b420ece9e37c",
   "metadata": {},
   "outputs": [
    {
     "ename": "AttributeError",
     "evalue": "'set' object has no attribute 'extend'",
     "output_type": "error",
     "traceback": [
      "\u001b[1;31m---------------------------------------------------------------------------\u001b[0m",
      "\u001b[1;31mAttributeError\u001b[0m                            Traceback (most recent call last)",
      "Cell \u001b[1;32mIn[8], line 2\u001b[0m\n\u001b[0;32m      1\u001b[0m my_set\u001b[38;5;241m=\u001b[39m{\u001b[38;5;241m2\u001b[39m,\u001b[38;5;241m5\u001b[39m,\u001b[38;5;124m\"\u001b[39m\u001b[38;5;124mneha\u001b[39m\u001b[38;5;124m\"\u001b[39m}\n\u001b[1;32m----> 2\u001b[0m my_set\u001b[38;5;241m.\u001b[39mextend([\u001b[38;5;241m2\u001b[39m,\u001b[38;5;241m4\u001b[39m,\u001b[38;5;241m5\u001b[39m])\n\u001b[0;32m      3\u001b[0m \u001b[38;5;28mprint\u001b[39m(my_set)\n",
      "\u001b[1;31mAttributeError\u001b[0m: 'set' object has no attribute 'extend'"
     ]
    }
   ],
   "source": [
    "my_set={2,5,\"neha\"}\n",
    "my_set.extend([2,4,5])\n",
    "print(my_set)"
   ]
  },
  {
   "cell_type": "code",
   "execution_count": 15,
   "id": "076b008f-ab42-4347-bc40-6928ee37d606",
   "metadata": {},
   "outputs": [
    {
     "name": "stdout",
     "output_type": "stream",
     "text": [
      "{89, 67, 78}\n",
      "[89, 67, 78]\n"
     ]
    }
   ],
   "source": [
    "my_list1=[67,67,78,67,89,67]\n",
    "my_set1=set(my_list1)\n",
    "print(my_set1)\n",
    "my_list1=list(my_set1)\n",
    "print(my_list1)"
   ]
  },
  {
   "cell_type": "markdown",
   "id": "5fc937bc-f2bd-460e-876c-041dbf90ad3c",
   "metadata": {},
   "source": [
    "***Creating a set\n",
    "there are following two ways to create a set in python\n",
    "using curly brakets.the easiest and straghtforward way of creating a set is but enclosing all the data items inside the curly brackets[].The indiviviual values are comma separted\n",
    "Using set{}constructor The set objected is of type class 'set' .So wecreate  a set by calling the constructor of class set.\n",
    "Lets's see each one of them with an example***"
   ]
  },
  {
   "cell_type": "code",
   "execution_count": 19,
   "id": "68422ec9-34cd-4fbe-9d6b-8b920338b4ae",
   "metadata": {},
   "outputs": [
    {
     "name": "stdout",
     "output_type": "stream",
     "text": [
      "{34, 45, 78, 56, 89}\n"
     ]
    }
   ],
   "source": [
    "list1=[89,78,56,56,56,56,45,34]\n",
    "my_set=set(list1)\n",
    "print(my_set)"
   ]
  },
  {
   "cell_type": "code",
   "execution_count": 20,
   "id": "7647f98c-c49b-4c66-8b09-21b1f02532d6",
   "metadata": {},
   "outputs": [
    {
     "name": "stdout",
     "output_type": "stream",
     "text": [
      "{89, 78}\n"
     ]
    }
   ],
   "source": [
    "tuple=[89,78,89]\n",
    "my_set1=set(tuple)\n",
    "print(my_set1)"
   ]
  },
  {
   "cell_type": "code",
   "execution_count": 21,
   "id": "1ad9ce6d-0e73-4d27-bc53-c2ead4e00330",
   "metadata": {},
   "outputs": [
    {
     "name": "stdout",
     "output_type": "stream",
     "text": [
      "{'a', 'l', 'e', 'p'}\n"
     ]
    }
   ],
   "source": [
    "set1=set('apppple')\n",
    "print(set1)"
   ]
  },
  {
   "cell_type": "code",
   "execution_count": 24,
   "id": "1d7fdc97-f6c9-4ab0-bab9-ba2779a5f762",
   "metadata": {},
   "outputs": [
    {
     "ename": "TypeError",
     "evalue": "unhashable type: 'list'",
     "output_type": "error",
     "traceback": [
      "\u001b[1;31m---------------------------------------------------------------------------\u001b[0m",
      "\u001b[1;31mTypeError\u001b[0m                                 Traceback (most recent call last)",
      "Cell \u001b[1;32mIn[24], line 1\u001b[0m\n\u001b[1;32m----> 1\u001b[0m sample_set\u001b[38;5;241m=\u001b[39m{\u001b[38;5;124m'\u001b[39m\u001b[38;5;124mname\u001b[39m\u001b[38;5;124m'\u001b[39m,\u001b[38;5;124m'\u001b[39m\u001b[38;5;124mvbnh\u001b[39m\u001b[38;5;124m'\u001b[39m,\u001b[38;5;241m56\u001b[39m,\u001b[38;5;241m78\u001b[39m,\u001b[38;5;241m67\u001b[39m,[\u001b[38;5;241m77\u001b[39m,\u001b[38;5;241m78\u001b[39m,\u001b[38;5;241m67\u001b[39m]} \u001b[38;5;66;03m#list is mutuble\u001b[39;00m\n\u001b[0;32m      2\u001b[0m \u001b[38;5;28mprint\u001b[39m(sample_set)\n",
      "\u001b[1;31mTypeError\u001b[0m: unhashable type: 'list'"
     ]
    }
   ],
   "source": [
    "sample_set={'name','vbnh',56,78,67,[77,78,67]} #list is mutuble\n",
    "print(sample_set)                               # list is unhashable"
   ]
  },
  {
   "cell_type": "code",
   "execution_count": 25,
   "id": "53ff15fd-325b-4287-959b-6b316ba5204e",
   "metadata": {},
   "outputs": [
    {
     "ename": "TypeError",
     "evalue": "set expected at most 1 argument, got 2",
     "output_type": "error",
     "traceback": [
      "\u001b[1;31m---------------------------------------------------------------------------\u001b[0m",
      "\u001b[1;31mTypeError\u001b[0m                                 Traceback (most recent call last)",
      "Cell \u001b[1;32mIn[25], line 1\u001b[0m\n\u001b[1;32m----> 1\u001b[0m set1\u001b[38;5;241m=\u001b[39m\u001b[38;5;28mset\u001b[39m(\u001b[38;5;241m4\u001b[39m,\u001b[38;5;241m6\u001b[39m)\n\u001b[0;32m      2\u001b[0m \u001b[38;5;28mprint\u001b[39m(set1)\n",
      "\u001b[1;31mTypeError\u001b[0m: set expected at most 1 argument, got 2"
     ]
    }
   ],
   "source": [
    "set1=set(4,6) # \n",
    "print(set1)"
   ]
  },
  {
   "cell_type": "code",
   "execution_count": 27,
   "id": "07bb55ab-0baa-4173-a098-f71f6b17a70c",
   "metadata": {},
   "outputs": [
    {
     "ename": "TypeError",
     "evalue": "list indices must be integers or slices, not tuple",
     "output_type": "error",
     "traceback": [
      "\u001b[1;31m---------------------------------------------------------------------------\u001b[0m",
      "\u001b[1;31mTypeError\u001b[0m                                 Traceback (most recent call last)",
      "Cell \u001b[1;32mIn[27], line 1\u001b[0m\n\u001b[1;32m----> 1\u001b[0m list1\u001b[38;5;241m=\u001b[39mlist1[\u001b[38;5;241m4\u001b[39m,\u001b[38;5;241m6\u001b[39m]\n\u001b[0;32m      2\u001b[0m \u001b[38;5;28mprint\u001b[39m(list1)\n",
      "\u001b[1;31mTypeError\u001b[0m: list indices must be integers or slices, not tuple"
     ]
    }
   ],
   "source": [
    "list1=list1[4,6]\n",
    "print(list1)"
   ]
  },
  {
   "cell_type": "code",
   "execution_count": 28,
   "id": "54c13b4f-77e9-4715-9663-757582c687db",
   "metadata": {},
   "outputs": [
    {
     "ename": "TypeError",
     "evalue": "'int' object is not iterable",
     "output_type": "error",
     "traceback": [
      "\u001b[1;31m---------------------------------------------------------------------------\u001b[0m",
      "\u001b[1;31mTypeError\u001b[0m                                 Traceback (most recent call last)",
      "Cell \u001b[1;32mIn[28], line 1\u001b[0m\n\u001b[1;32m----> 1\u001b[0m set2\u001b[38;5;241m=\u001b[39m\u001b[38;5;28mset\u001b[39m(\u001b[38;5;241m3\u001b[39m)\n\u001b[0;32m      2\u001b[0m \u001b[38;5;28mprint\u001b[39m(set2)\n",
      "\u001b[1;31mTypeError\u001b[0m: 'int' object is not iterable"
     ]
    }
   ],
   "source": [
    "set2=set(3)# set\n",
    "print(set2)"
   ]
  },
  {
   "cell_type": "code",
   "execution_count": 30,
   "id": "93e18803-284a-4c7f-ba0f-7db1dba2aade",
   "metadata": {},
   "outputs": [
    {
     "ename": "TypeError",
     "evalue": "'float' object is not iterable",
     "output_type": "error",
     "traceback": [
      "\u001b[1;31m---------------------------------------------------------------------------\u001b[0m",
      "\u001b[1;31mTypeError\u001b[0m                                 Traceback (most recent call last)",
      "Cell \u001b[1;32mIn[30], line 1\u001b[0m\n\u001b[1;32m----> 1\u001b[0m set2\u001b[38;5;241m=\u001b[39m\u001b[38;5;28mset\u001b[39m(\u001b[38;5;241m3.5\u001b[39m)\u001b[38;5;66;03m# set constructor takes only \u001b[39;00m\n\u001b[0;32m      2\u001b[0m \u001b[38;5;28mprint\u001b[39m(set2)\n",
      "\u001b[1;31mTypeError\u001b[0m: 'float' object is not iterable"
     ]
    }
   ],
   "source": [
    "set2=set(3.5)# set constructor takes only \n",
    "print(set2)"
   ]
  },
  {
   "cell_type": "code",
   "execution_count": 31,
   "id": "9efdba18-4eae-4c73-b256-b1c1d714e2d2",
   "metadata": {},
   "outputs": [
    {
     "name": "stdout",
     "output_type": "stream",
     "text": [
      "{}\n"
     ]
    }
   ],
   "source": [
    "set1={}\n",
    "print(set1)"
   ]
  },
  {
   "cell_type": "code",
   "execution_count": 32,
   "id": "042c459a-5ef1-48f9-ac4f-f4f8740852b4",
   "metadata": {},
   "outputs": [
    {
     "data": {
      "text/plain": [
       "tuple"
      ]
     },
     "execution_count": 32,
     "metadata": {},
     "output_type": "execute_result"
    }
   ],
   "source": [
    "tuple1=(3,)\n",
    "type(tuple1)\n"
   ]
  },
  {
   "cell_type": "code",
   "execution_count": 33,
   "id": "aa46d7c4-f830-4950-83e1-b5de464a5fd3",
   "metadata": {},
   "outputs": [
    {
     "ename": "TypeError",
     "evalue": "'int' object is not iterable",
     "output_type": "error",
     "traceback": [
      "\u001b[1;31m---------------------------------------------------------------------------\u001b[0m",
      "\u001b[1;31mTypeError\u001b[0m                                 Traceback (most recent call last)",
      "Cell \u001b[1;32mIn[33], line 1\u001b[0m\n\u001b[1;32m----> 1\u001b[0m set5\u001b[38;5;241m=\u001b[39m\u001b[38;5;28mset\u001b[39m((\u001b[38;5;241m5\u001b[39m))\n\u001b[0;32m      2\u001b[0m \u001b[38;5;28mtype\u001b[39m(set5)\n",
      "\u001b[1;31mTypeError\u001b[0m: 'int' object is not iterable"
     ]
    }
   ],
   "source": [
    "set5=set((5))\n",
    "type(set5)"
   ]
  },
  {
   "cell_type": "code",
   "execution_count": 34,
   "id": "3af2d37c-0e58-4e54-8e4f-04db6479fa93",
   "metadata": {},
   "outputs": [
    {
     "data": {
      "text/plain": [
       "set"
      ]
     },
     "execution_count": 34,
     "metadata": {},
     "output_type": "execute_result"
    }
   ],
   "source": [
    "set5=set((5,))\n",
    "type(set5)"
   ]
  },
  {
   "cell_type": "code",
   "execution_count": 37,
   "id": "9cdf160c-591f-4f65-9492-04e97ed02bf0",
   "metadata": {},
   "outputs": [
    {
     "data": {
      "text/plain": [
       "set"
      ]
     },
     "execution_count": 37,
     "metadata": {},
     "output_type": "execute_result"
    }
   ],
   "source": [
    "set7=set(())\n",
    "type(set7)"
   ]
  },
  {
   "cell_type": "markdown",
   "id": "1ddef3ea-640e-463e-b191-323ed1a7008f",
   "metadata": {},
   "source": []
  },
  {
   "cell_type": "markdown",
   "id": "60d96522-46cd-4ad0-89ea-f5fe69592c1f",
   "metadata": {},
   "source": [
    "# Tuples"
   ]
  },
  {
   "cell_type": "markdown",
   "id": "f11be459-ba2e-45d4-9f25-8cde74549801",
   "metadata": {},
   "source": [
    "***A tuple is an orderd , immutable collection***\n",
    "***allow dublicates***\n",
    "***good for fixed records***"
   ]
  },
  {
   "cell_type": "code",
   "execution_count": 4,
   "id": "d6324377-233c-4b7e-8d1e-fd13310df1c0",
   "metadata": {},
   "outputs": [
    {
     "name": "stdout",
     "output_type": "stream",
     "text": [
      "<class 'tuple'>\n",
      "<class 'tuple'>\n"
     ]
    }
   ],
   "source": [
    "t=(12,24,34)\n",
    "print(type(t))\n",
    "print(tuple)"
   ]
  },
  {
   "cell_type": "code",
   "execution_count": 5,
   "id": "0f4d5655-4b26-460a-a07d-51c52c40ff1c",
   "metadata": {},
   "outputs": [
    {
     "name": "stdout",
     "output_type": "stream",
     "text": [
      "<class 'int'>\n"
     ]
    }
   ],
   "source": [
    "t=(12)\n",
    "print(type(t))"
   ]
  },
  {
   "cell_type": "code",
   "execution_count": 6,
   "id": "453ce891-0658-471e-9c20-37bb9dbf251c",
   "metadata": {},
   "outputs": [
    {
     "name": "stdout",
     "output_type": "stream",
     "text": [
      "(1, 2, 4)\n",
      "<class 'tuple'>\n"
     ]
    }
   ],
   "source": [
    "t2=1,2,4\n",
    "print(t2)\n",
    "print(type(t2))"
   ]
  },
  {
   "cell_type": "code",
   "execution_count": 8,
   "id": "b4c9f3c8-db42-47f8-bf73-135b41800a94",
   "metadata": {},
   "outputs": [
    {
     "name": "stdout",
     "output_type": "stream",
     "text": [
      "<class 'tuple'>\n"
     ]
    }
   ],
   "source": [
    "t3=2,\n",
    "print(type(t3))"
   ]
  },
  {
   "cell_type": "code",
   "execution_count": 13,
   "id": "8cef41a2-f057-4838-a52f-91575aa7eaff",
   "metadata": {},
   "outputs": [
    {
     "data": {
      "text/plain": [
       "2"
      ]
     },
     "execution_count": 13,
     "metadata": {},
     "output_type": "execute_result"
    }
   ],
   "source": [
    "t6=(34,44,44,4,55,55,55,55)\n",
    "t6.count(44)\n"
   ]
  },
  {
   "cell_type": "code",
   "execution_count": 15,
   "id": "6ac3b624-352e-4337-9b72-9569f173068a",
   "metadata": {},
   "outputs": [
    {
     "name": "stdout",
     "output_type": "stream",
     "text": [
      "1\n"
     ]
    }
   ],
   "source": [
    "t6=(34,44,44,4,55,55,55,55)\n",
    "print(t6.count(4))"
   ]
  },
  {
   "cell_type": "code",
   "execution_count": 24,
   "id": "9cd520fd-322a-49a7-89c5-e85a382029c2",
   "metadata": {},
   "outputs": [
    {
     "name": "stdout",
     "output_type": "stream",
     "text": [
      "3\n",
      "8\n",
      "1854610292288\n",
      "(34, 44, 44, 4, 55, 55, 55, 55, 34, 44, 44, 4, 55, 55, 55, 55, 34, 44, 44, 4, 55, 55, 55, 55, 34, 44, 44, 4, 55, 55, 55, 55, 34, 44, 44, 4, 55, 55, 55, 55, 34, 44, 44, 4, 55, 55, 55, 55, 34, 44, 44, 4, 55, 55, 55, 55, 34, 44, 44, 4, 55, 55, 55, 55, 34, 44, 44, 4, 55, 55, 55, 55, 34, 44, 44, 4, 55, 55, 55, 55, 34, 44, 44, 4, 55, 55, 55, 55, 34, 44, 44, 4, 55, 55, 55, 55, 34, 44, 44, 4, 55, 55, 55, 55, 34, 44, 44, 4, 55, 55, 55, 55, 34, 44, 44, 4, 55, 55, 55, 55, 34, 44, 44, 4, 55, 55, 55, 55, 34, 44, 44, 4, 55, 55, 55, 55, 34, 44, 44, 4, 55, 55, 55, 55, 34, 44, 44, 4, 55, 55, 55, 55, 34, 44, 44, 4, 55, 55, 55, 55, 34, 44, 44, 4, 55, 55, 55, 55, 34, 44, 44, 4, 55, 55, 55, 55, 34, 44, 44, 4, 55, 55, 55, 55, 34, 44, 44, 4, 55, 55, 55, 55, 34, 44, 44, 4, 55, 55, 55, 55, 34, 44, 44, 4, 55, 55, 55, 55, 34, 44, 44, 4, 55, 55, 55, 55, 34, 44, 44, 4, 55, 55, 55, 55, 34, 44, 44, 4, 55, 55, 55, 55, 34, 44, 44, 4, 55, 55, 55, 55)\n",
      "(34, 44, 44, 4, 55, 55, 55, 55, 34, 44, 44, 4, 55, 55, 55, 55)\n"
     ]
    }
   ],
   "source": [
    "t6=(34,44,44,4,55,55,55,55)\n",
    "print(t6.index(4))\n",
    "print(len(t6))\n",
    "print(id(t6))\n",
    "print(t6* 30)# repitations\n",
    "print(t6 + t6)#concatention\n"
   ]
  },
  {
   "cell_type": "code",
   "execution_count": 27,
   "id": "515d5fe8-c106-4ef7-8b66-dc5fc2195bcb",
   "metadata": {},
   "outputs": [
    {
     "name": "stdout",
     "output_type": "stream",
     "text": [
      "True\n",
      "False\n"
     ]
    }
   ],
   "source": [
    "# this is membership\n",
    "t=90,8,2\n",
    "print(90 in t)\n",
    "print(3 in t)"
   ]
  },
  {
   "cell_type": "code",
   "execution_count": 30,
   "id": "49d5b561-6eb4-406e-8fc5-0bb9cf053cfc",
   "metadata": {},
   "outputs": [
    {
     "data": {
      "text/plain": [
       "False"
      ]
     },
     "execution_count": 30,
     "metadata": {},
     "output_type": "execute_result"
    }
   ],
   "source": [
    "name=(\"neha\" ,\"karki\")\n",
    "name1=(\"neha1\",\"karki1\")\n",
    "name in name1\n",
    "\"neha\" in name\n",
    "\"jj\" in name"
   ]
  },
  {
   "cell_type": "code",
   "execution_count": 2,
   "id": "80faa9eb-3712-4fd2-bce8-bfcb4d359391",
   "metadata": {},
   "outputs": [
    {
     "ename": "TypeError",
     "evalue": "argument of type 'int' is not iterable",
     "output_type": "error",
     "traceback": [
      "\u001b[1;31m---------------------------------------------------------------------------\u001b[0m",
      "\u001b[1;31mTypeError\u001b[0m                                 Traceback (most recent call last)",
      "Cell \u001b[1;32mIn[2], line 3\u001b[0m\n\u001b[0;32m      1\u001b[0m menu_items\u001b[38;5;241m=\u001b[39m[\u001b[38;5;124m\"\u001b[39m\u001b[38;5;124mpizza\u001b[39m\u001b[38;5;124m\"\u001b[39m,\u001b[38;5;124m\"\u001b[39m\u001b[38;5;124mpizza\u001b[39m\u001b[38;5;124m\"\u001b[39m,\u001b[38;5;124m\"\u001b[39m\u001b[38;5;124mchowmin\u001b[39m\u001b[38;5;124m\"\u001b[39m,\u001b[38;5;124m\"\u001b[39m\u001b[38;5;124mpasta\u001b[39m\u001b[38;5;124m\"\u001b[39m]\n\u001b[0;32m      2\u001b[0m menu_items\u001b[38;5;241m.\u001b[39mcount(\u001b[38;5;124m\"\u001b[39m\u001b[38;5;124mpizza\u001b[39m\u001b[38;5;124m\"\u001b[39m)\n\u001b[1;32m----> 3\u001b[0m menu_items \u001b[38;5;129;01min\u001b[39;00m \u001b[38;5;241m2\u001b[39m\n",
      "\u001b[1;31mTypeError\u001b[0m: argument of type 'int' is not iterable"
     ]
    }
   ],
   "source": [
    "menu_items=[\"pizza\",\"pizza\",\"chowmin\",\"pasta\"]\n",
    "menu_items.count(\"pizza\")\n",
    "menu_items in 2"
   ]
  },
  {
   "cell_type": "code",
   "execution_count": 7,
   "id": "a4effb17-55a0-4f03-aa1c-478e6f881abb",
   "metadata": {},
   "outputs": [
    {
     "data": {
      "text/plain": [
       "True"
      ]
     },
     "execution_count": 7,
     "metadata": {},
     "output_type": "execute_result"
    }
   ],
   "source": [
    "menu_items=[\"pizza\",\"pizza\",\"chowmin\",\"pasta\"]\n",
    "menu_items.count(\"pizza\")\n",
    "\"pizza\" in menu_items  \n",
    "\"pizza\" and \"chowmin\" in menu_items"
   ]
  },
  {
   "cell_type": "code",
   "execution_count": 8,
   "id": "e46ec0a4-9492-4104-9278-3557dae0879f",
   "metadata": {},
   "outputs": [
    {
     "data": {
      "text/plain": [
       "True"
      ]
     },
     "execution_count": 8,
     "metadata": {},
     "output_type": "execute_result"
    }
   ],
   "source": [
    "menu_items=[\"pizza\",\"pizza\",\"chowmin\",\"pasta\"]\n",
    "\"pizza\" and \"chowmin\" in menu_items"
   ]
  },
  {
   "cell_type": "code",
   "execution_count": 2,
   "id": "219f1feb-7d8b-45d3-9558-82cb16457bca",
   "metadata": {},
   "outputs": [
    {
     "ename": "TypeError",
     "evalue": "'set' object is not subscriptable",
     "output_type": "error",
     "traceback": [
      "\u001b[1;31m---------------------------------------------------------------------------\u001b[0m",
      "\u001b[1;31mTypeError\u001b[0m                                 Traceback (most recent call last)",
      "Cell \u001b[1;32mIn[2], line 2\u001b[0m\n\u001b[0;32m      1\u001b[0m my_set\u001b[38;5;241m=\u001b[39m{\u001b[38;5;241m3\u001b[39m,\u001b[38;5;241m1.5\u001b[39m,\u001b[38;5;241m9\u001b[39m,\u001b[38;5;124m'\u001b[39m\u001b[38;5;124mage\u001b[39m\u001b[38;5;124m'\u001b[39m}\n\u001b[1;32m----> 2\u001b[0m my_set[\u001b[38;5;241m1\u001b[39m]\n\u001b[0;32m      3\u001b[0m \u001b[38;5;28mprint\u001b[39m(my_set)\n",
      "\u001b[1;31mTypeError\u001b[0m: 'set' object is not subscriptable"
     ]
    }
   ],
   "source": [
    "my_set={3,1.5,9,'age'}\n",
    "my_set[1]\n",
    "print(my_set)"
   ]
  },
  {
   "cell_type": "code",
   "execution_count": 7,
   "id": "ee0968b1-e864-4bf7-ae40-9a2f1c59f7b9",
   "metadata": {},
   "outputs": [
    {
     "name": "stdout",
     "output_type": "stream",
     "text": [
      "1.5\n"
     ]
    }
   ],
   "source": [
    "my_set={3,1.5,9,'age'}\n",
    "my_list=list(my_set)\n",
    "print(my_list[0])"
   ]
  },
  {
   "cell_type": "code",
   "execution_count": 9,
   "id": "bc4f3985-326f-437e-a669-6d8dcaf6fabc",
   "metadata": {},
   "outputs": [
    {
     "name": "stdout",
     "output_type": "stream",
     "text": [
      "{2, 3, 90}\n"
     ]
    }
   ],
   "source": [
    "my_list=[2,3,3,3,90]\n",
    "my_set=set(my_list)\n",
    "print(my_set)"
   ]
  },
  {
   "cell_type": "code",
   "execution_count": 10,
   "id": "05161d01-ed8a-4258-85fd-bc2b614faf7f",
   "metadata": {},
   "outputs": [
    {
     "name": "stdout",
     "output_type": "stream",
     "text": [
      "(2, 3, 3, 3, 90)\n"
     ]
    }
   ],
   "source": [
    "my_list=[2,3,3,3,90]\n",
    "my_tuple=tuple(my_list)\n",
    "print(my_tuple)"
   ]
  },
  {
   "cell_type": "code",
   "execution_count": 12,
   "id": "64a515e1-069f-4f43-8fdc-3f5622534f3d",
   "metadata": {},
   "outputs": [
    {
     "ename": "TypeError",
     "evalue": "Value after * must be an iterable, not int",
     "output_type": "error",
     "traceback": [
      "\u001b[1;31m---------------------------------------------------------------------------\u001b[0m",
      "\u001b[1;31mTypeError\u001b[0m                                 Traceback (most recent call last)",
      "Cell \u001b[1;32mIn[12], line 1\u001b[0m\n\u001b[1;32m----> 1\u001b[0m my_list\u001b[38;5;241m=\u001b[39m[\u001b[38;5;241m2\u001b[39m,\u001b[38;5;241m3\u001b[39m,\u001b[38;5;241m3\u001b[39m,\u001b[38;5;241m*\u001b[39m\u001b[38;5;241m3\u001b[39m,\u001b[38;5;241m90\u001b[39m]\n\u001b[0;32m      2\u001b[0m my_set\u001b[38;5;241m=\u001b[39m\u001b[38;5;28mset\u001b[39m(my_list)\n\u001b[0;32m      3\u001b[0m \u001b[38;5;28mprint\u001b[39m(my_set)\n",
      "\u001b[1;31mTypeError\u001b[0m: Value after * must be an iterable, not int"
     ]
    }
   ],
   "source": [
    "my_list=[2,3,3,*3,90]\n",
    "my_set=set(my_list)\n",
    "print(my_set)"
   ]
  },
  {
   "cell_type": "code",
   "execution_count": 14,
   "id": "2b07c562-a6bb-4773-b143-5c35c3afcd35",
   "metadata": {},
   "outputs": [
    {
     "name": "stdout",
     "output_type": "stream",
     "text": [
      "34\n",
      "23\n",
      "56\n",
      "45\n",
      "78\n"
     ]
    }
   ],
   "source": [
    "my_set={23,34,45,56,78}\n",
    "for i in my_set:\n",
    "    print(i)\n"
   ]
  },
  {
   "cell_type": "markdown",
   "id": "165efa8b-e537-40fa-bfef-454ea732be8a",
   "metadata": {},
   "source": [
    "# create a set from a list"
   ]
  },
  {
   "cell_type": "code",
   "execution_count": 20,
   "id": "72465b88-b716-4412-95c6-94f8d28ab650",
   "metadata": {},
   "outputs": [
    {
     "ename": "TypeError",
     "evalue": "unsupported operand type(s) for +: 'set' and 'set'",
     "output_type": "error",
     "traceback": [
      "\u001b[1;31m---------------------------------------------------------------------------\u001b[0m",
      "\u001b[1;31mTypeError\u001b[0m                                 Traceback (most recent call last)",
      "Cell \u001b[1;32mIn[20], line 3\u001b[0m\n\u001b[0;32m      1\u001b[0m my_set1\u001b[38;5;241m=\u001b[39m{\u001b[38;5;241m12\u001b[39m,\u001b[38;5;241m34\u001b[39m,\u001b[38;5;241m55\u001b[39m,\u001b[38;5;241m45.4\u001b[39m,\u001b[38;5;241m45.45\u001b[39m}\n\u001b[0;32m      2\u001b[0m my_set2\u001b[38;5;241m=\u001b[39m{\u001b[38;5;241m23.44\u001b[39m,\u001b[38;5;241m56.778\u001b[39m,\u001b[38;5;241m89.24\u001b[39m,\u001b[38;5;241m23\u001b[39m,\u001b[38;5;241m5\u001b[39m}\n\u001b[1;32m----> 3\u001b[0m my_set3\u001b[38;5;241m=\u001b[39mmy_set1 \u001b[38;5;241m+\u001b[39m my_set2\n\u001b[0;32m      4\u001b[0m \u001b[38;5;28mprint\u001b[39m(my_set3)\n",
      "\u001b[1;31mTypeError\u001b[0m: unsupported operand type(s) for +: 'set' and 'set'"
     ]
    }
   ],
   "source": [
    "my_set1={12,34,55,45.4,45.45}\n",
    "my_set2={23.44,56.778,89.24,23,5}\n",
    "my_set3=my_set1 + my_set2\n",
    "print(my_set3)\n"
   ]
  },
  {
   "cell_type": "code",
   "execution_count": 21,
   "id": "978ebbea-cd8b-4eb2-a5e9-51d7b74f6b5a",
   "metadata": {},
   "outputs": [
    {
     "name": "stdout",
     "output_type": "stream",
     "text": [
      "{34, 12, 45.4, 45.45, 55}\n"
     ]
    }
   ],
   "source": [
    "my_set1={12,34,55,45.4,45.45}\n",
    "my_set2={23.44,56.778,89.24,23,5}\n",
    "my_set3=my_set1 - my_set2\n",
    "print(my_set3)"
   ]
  },
  {
   "cell_type": "code",
   "execution_count": 22,
   "id": "df8a7b27-e796-4800-b636-63fc00c9767b",
   "metadata": {},
   "outputs": [
    {
     "name": "stdout",
     "output_type": "stream",
     "text": [
      "{23, 5, 23.44, 56.778, 89.24}\n"
     ]
    }
   ],
   "source": [
    "my_set1={12,34,55,45.4,45.45}\n",
    "my_set2={23.44,56.778,89.24,23,5}\n",
    "my_set3=my_set1 and  my_set2\n",
    "print(my_set3)"
   ]
  },
  {
   "cell_type": "code",
   "execution_count": 23,
   "id": "35494f41-d19c-45a4-a1ee-913868a0e410",
   "metadata": {},
   "outputs": [
    {
     "ename": "TypeError",
     "evalue": "unsupported operand type(s) for *: 'set' and 'set'",
     "output_type": "error",
     "traceback": [
      "\u001b[1;31m---------------------------------------------------------------------------\u001b[0m",
      "\u001b[1;31mTypeError\u001b[0m                                 Traceback (most recent call last)",
      "Cell \u001b[1;32mIn[23], line 3\u001b[0m\n\u001b[0;32m      1\u001b[0m my_set1\u001b[38;5;241m=\u001b[39m{\u001b[38;5;241m12\u001b[39m,\u001b[38;5;241m34\u001b[39m,\u001b[38;5;241m55\u001b[39m,\u001b[38;5;241m45.4\u001b[39m,\u001b[38;5;241m45.45\u001b[39m}\n\u001b[0;32m      2\u001b[0m my_set2\u001b[38;5;241m=\u001b[39m{\u001b[38;5;241m23.44\u001b[39m,\u001b[38;5;241m56.778\u001b[39m,\u001b[38;5;241m89.24\u001b[39m,\u001b[38;5;241m23\u001b[39m,\u001b[38;5;241m5\u001b[39m}\n\u001b[1;32m----> 3\u001b[0m my_set3\u001b[38;5;241m=\u001b[39mmy_set1 \u001b[38;5;241m*\u001b[39m  my_set2\n\u001b[0;32m      4\u001b[0m \u001b[38;5;28mprint\u001b[39m(my_set3)\n",
      "\u001b[1;31mTypeError\u001b[0m: unsupported operand type(s) for *: 'set' and 'set'"
     ]
    }
   ],
   "source": [
    "my_set1={12,34,55,45.4,45.45}\n",
    "my_set2={23.44,56.778,89.24,23,5}\n",
    "my_set3=my_set1 *  my_set2\n",
    "print(my_set3)"
   ]
  },
  {
   "cell_type": "code",
   "execution_count": 24,
   "id": "b9d79e90-0b66-4476-af77-cb0679a67ec3",
   "metadata": {},
   "outputs": [
    {
     "ename": "TypeError",
     "evalue": "unsupported operand type(s) for /: 'set' and 'set'",
     "output_type": "error",
     "traceback": [
      "\u001b[1;31m---------------------------------------------------------------------------\u001b[0m",
      "\u001b[1;31mTypeError\u001b[0m                                 Traceback (most recent call last)",
      "Cell \u001b[1;32mIn[24], line 3\u001b[0m\n\u001b[0;32m      1\u001b[0m my_set1\u001b[38;5;241m=\u001b[39m{\u001b[38;5;241m12\u001b[39m,\u001b[38;5;241m34\u001b[39m,\u001b[38;5;241m55\u001b[39m,\u001b[38;5;241m45.4\u001b[39m,\u001b[38;5;241m45.45\u001b[39m}\n\u001b[0;32m      2\u001b[0m my_set2\u001b[38;5;241m=\u001b[39m{\u001b[38;5;241m23.44\u001b[39m,\u001b[38;5;241m56.778\u001b[39m,\u001b[38;5;241m89.24\u001b[39m,\u001b[38;5;241m23\u001b[39m,\u001b[38;5;241m5\u001b[39m}\n\u001b[1;32m----> 3\u001b[0m my_set3\u001b[38;5;241m=\u001b[39mmy_set1 \u001b[38;5;241m/\u001b[39m my_set2\n\u001b[0;32m      4\u001b[0m \u001b[38;5;28mprint\u001b[39m(my_set3)\n",
      "\u001b[1;31mTypeError\u001b[0m: unsupported operand type(s) for /: 'set' and 'set'"
     ]
    }
   ],
   "source": [
    "my_set1={12,34,55,45.4,45.45}\n",
    "my_set2={23.44,56.778,89.24,23,5}\n",
    "my_set3=my_set1 / my_set2\n",
    "print(my_set3)"
   ]
  },
  {
   "cell_type": "code",
   "execution_count": 25,
   "id": "2c0f92fe-6f79-45b5-bba9-eec67b10410f",
   "metadata": {},
   "outputs": [
    {
     "ename": "TypeError",
     "evalue": "unsupported operand type(s) for //: 'set' and 'set'",
     "output_type": "error",
     "traceback": [
      "\u001b[1;31m---------------------------------------------------------------------------\u001b[0m",
      "\u001b[1;31mTypeError\u001b[0m                                 Traceback (most recent call last)",
      "Cell \u001b[1;32mIn[25], line 3\u001b[0m\n\u001b[0;32m      1\u001b[0m my_set1\u001b[38;5;241m=\u001b[39m{\u001b[38;5;241m12\u001b[39m,\u001b[38;5;241m34\u001b[39m,\u001b[38;5;241m55\u001b[39m,\u001b[38;5;241m45.4\u001b[39m,\u001b[38;5;241m45.45\u001b[39m}\n\u001b[0;32m      2\u001b[0m my_set2\u001b[38;5;241m=\u001b[39m{\u001b[38;5;241m23.44\u001b[39m,\u001b[38;5;241m56.778\u001b[39m,\u001b[38;5;241m89.24\u001b[39m,\u001b[38;5;241m23\u001b[39m,\u001b[38;5;241m5\u001b[39m}\n\u001b[1;32m----> 3\u001b[0m my_set3\u001b[38;5;241m=\u001b[39mmy_set1 \u001b[38;5;241m/\u001b[39m\u001b[38;5;241m/\u001b[39m my_set2\n\u001b[0;32m      4\u001b[0m \u001b[38;5;28mprint\u001b[39m(my_set3)\n",
      "\u001b[1;31mTypeError\u001b[0m: unsupported operand type(s) for //: 'set' and 'set'"
     ]
    }
   ],
   "source": [
    "my_set1={12,34,55,45.4,45.45}\n",
    "my_set2={23.44,56.778,89.24,23,5}\n",
    "my_set3=my_set1 // my_set2\n",
    "print(my_set3)"
   ]
  },
  {
   "cell_type": "code",
   "execution_count": 26,
   "id": "4b2ab8f2-5cc5-4beb-a55f-5cb97f08c142",
   "metadata": {},
   "outputs": [
    {
     "ename": "AttributeError",
     "evalue": "'set' object has no attribute 'extend'",
     "output_type": "error",
     "traceback": [
      "\u001b[1;31m---------------------------------------------------------------------------\u001b[0m",
      "\u001b[1;31mAttributeError\u001b[0m                            Traceback (most recent call last)",
      "Cell \u001b[1;32mIn[26], line 3\u001b[0m\n\u001b[0;32m      1\u001b[0m my_set2\u001b[38;5;241m=\u001b[39m{\u001b[38;5;241m4\u001b[39m,\u001b[38;5;241m89\u001b[39m,\u001b[38;5;241m56.78\u001b[39m,\u001b[38;5;241m67\u001b[39m}\n\u001b[0;32m      2\u001b[0m my_set2\u001b[38;5;241m=\u001b[39m{\u001b[38;5;241m67\u001b[39m,\u001b[38;5;241m78\u001b[39m,\u001b[38;5;241m6\u001b[39m,\u001b[38;5;241m78\u001b[39m,\u001b[38;5;241m6.8\u001b[39m}\n\u001b[1;32m----> 3\u001b[0m my_set1\u001b[38;5;241m.\u001b[39mextend(my_set2)\n\u001b[0;32m      4\u001b[0m \u001b[38;5;28mprint\u001b[39m(my_set1)\n",
      "\u001b[1;31mAttributeError\u001b[0m: 'set' object has no attribute 'extend'"
     ]
    }
   ],
   "source": [
    "my_set2={4,89,56.78,67}\n",
    "my_set2={67,78,6,78,6.8}\n",
    "my_set1.extend(my_set2)\n",
    "print(my_set1)"
   ]
  },
  {
   "cell_type": "code",
   "execution_count": 33,
   "id": "d88e12bc-38d2-4e26-a84a-73a7dc879f1e",
   "metadata": {},
   "outputs": [
    {
     "name": "stdout",
     "output_type": "stream",
     "text": [
      "[56.78, 89, 67, 4]\n"
     ]
    },
    {
     "ename": "TypeError",
     "evalue": "unsupported operand type(s) for +: 'set' and 'set'",
     "output_type": "error",
     "traceback": [
      "\u001b[1;31m---------------------------------------------------------------------------\u001b[0m",
      "\u001b[1;31mTypeError\u001b[0m                                 Traceback (most recent call last)",
      "Cell \u001b[1;32mIn[33], line 6\u001b[0m\n\u001b[0;32m      4\u001b[0m my_set2\u001b[38;5;241m=\u001b[39m{\u001b[38;5;241m67\u001b[39m,\u001b[38;5;241m78\u001b[39m,\u001b[38;5;241m6\u001b[39m,\u001b[38;5;241m78\u001b[39m,\u001b[38;5;241m6.8\u001b[39m}\n\u001b[0;32m      5\u001b[0m my_list2\u001b[38;5;241m=\u001b[39m\u001b[38;5;28mlist\u001b[39m(my_set2)\n\u001b[1;32m----> 6\u001b[0m my_set3\u001b[38;5;241m=\u001b[39mmy_set1 \u001b[38;5;241m+\u001b[39m my_set2\n\u001b[0;32m      7\u001b[0m \u001b[38;5;28mprint\u001b[39m(my_set3)\n",
      "\u001b[1;31mTypeError\u001b[0m: unsupported operand type(s) for +: 'set' and 'set'"
     ]
    }
   ],
   "source": [
    "my_set1={4,89,56.78,67}\n",
    "my_list1=list(my_set1)\n",
    "print(my_list1)\n",
    "my_set2={67,78,6,78,6.8}\n",
    "my_list2=list(my_set2)\n",
    "my_set3=my_set1 + my_set2\n",
    "print(my_set3)"
   ]
  },
  {
   "cell_type": "code",
   "execution_count": 37,
   "id": "54e4e646-d4d7-44b3-8e29-510661c75632",
   "metadata": {},
   "outputs": [
    {
     "name": "stdout",
     "output_type": "stream",
     "text": [
      "(34, 44)\n"
     ]
    },
    {
     "ename": "TypeError",
     "evalue": "'set' object is not callable",
     "output_type": "error",
     "traceback": [
      "\u001b[1;31m---------------------------------------------------------------------------\u001b[0m",
      "\u001b[1;31mTypeError\u001b[0m                                 Traceback (most recent call last)",
      "Cell \u001b[1;32mIn[37], line 4\u001b[0m\n\u001b[0;32m      2\u001b[0m my_tuple\u001b[38;5;241m=\u001b[39m\u001b[38;5;28mtuple\u001b[39m(my_set)\n\u001b[0;32m      3\u001b[0m \u001b[38;5;28mprint\u001b[39m(my_tuple)\n\u001b[1;32m----> 4\u001b[0m my_set\u001b[38;5;241m=\u001b[39m\u001b[38;5;28mset\u001b[39m(my_tuple)\n\u001b[0;32m      5\u001b[0m \u001b[38;5;28mprint\u001b[39m(my_set)\n",
      "\u001b[1;31mTypeError\u001b[0m: 'set' object is not callable"
     ]
    }
   ],
   "source": [
    "my_set={34,44,34}\n",
    "my_tuple=tuple(my_set)\n",
    "print(my_tuple)\n"
   ]
  },
  {
   "cell_type": "markdown",
   "id": "5a0b0923-a453-4a67-be15-2c2602f7350d",
   "metadata": {},
   "source": [
    "# Empty curly brackets are dict types"
   ]
  },
  {
   "cell_type": "code",
   "execution_count": 41,
   "id": "26b472a7-6212-40a1-b851-c3a31e875810",
   "metadata": {},
   "outputs": [
    {
     "name": "stdout",
     "output_type": "stream",
     "text": [
      "<class 'dict'>\n"
     ]
    }
   ],
   "source": [
    "set1={}\n",
    "print(type(set1))"
   ]
  },
  {
   "cell_type": "code",
   "execution_count": 44,
   "id": "5afc6d4c-bc74-4ff7-bbfd-36d2e063313a",
   "metadata": {},
   "outputs": [
    {
     "name": "stdout",
     "output_type": "stream",
     "text": [
      "<class 'tuple'>\n"
     ]
    }
   ],
   "source": [
    "set1=()\n",
    "print(type(set1=()\n",
    "priset1))"
   ]
  },
  {
   "cell_type": "code",
   "execution_count": 57,
   "id": "0a3863de-5348-49ed-96f2-5f1a903a394d",
   "metadata": {},
   "outputs": [
    {
     "name": "stdout",
     "output_type": "stream",
     "text": [
      "34\n",
      "66\n",
      "999\n",
      "12\n",
      "77\n",
      "18\n",
      "55\n",
      "88\n"
     ]
    }
   ],
   "source": [
    "new_set={12,34,55,77,88,999,999,88,66,18}\n",
    "for i in new_set:\n",
    "    print(i)"
   ]
  },
  {
   "cell_type": "code",
   "execution_count": 3,
   "id": "a679e300-ec33-4805-adbd-0e18fe758b25",
   "metadata": {},
   "outputs": [
    {
     "name": "stdout",
     "output_type": "stream",
     "text": [
      "34\n",
      "66\n",
      "999\n",
      "12\n",
      "77\n",
      "18\n",
      "55\n",
      "88\n",
      "[34, 66, 999, 12, 77]\n",
      "[2000, 66, 999, 12, 77, 18, 55, 88]\n"
     ]
    },
    {
     "data": {
      "text/plain": [
       "True"
      ]
     },
     "execution_count": 3,
     "metadata": {},
     "output_type": "execute_result"
    }
   ],
   "source": [
    "new_set={12,34,55,77,88,999,999,88,66,18}\n",
    "new_list=list(new_set)\n",
    "for i in new_list:\n",
    "    print(i)\n",
    "print(new_list[0 : 5])\n",
    "new_list[0] = 2000\n",
    "print(new_list)\n",
    "55 in new_set\n"
   ]
  },
  {
   "cell_type": "markdown",
   "id": "89503bba-9bc5-44b8-b852-ae940a3b92cc",
   "metadata": {},
   "source": [
    "# Checking if an items exists in set"
   ]
  },
  {
   "cell_type": "code",
   "execution_count": 9,
   "id": "0014a946-cb0f-4768-acc0-7d69fc189849",
   "metadata": {},
   "outputs": [
    {
     "ename": "AttributeError",
     "evalue": "'set' object has no attribute 'len'",
     "output_type": "error",
     "traceback": [
      "\u001b[1;31m---------------------------------------------------------------------------\u001b[0m",
      "\u001b[1;31mAttributeError\u001b[0m                            Traceback (most recent call last)",
      "Cell \u001b[1;32mIn[9], line 3\u001b[0m\n\u001b[0;32m      1\u001b[0m data_set\u001b[38;5;241m=\u001b[39m{\u001b[38;5;241m23\u001b[39m,\u001b[38;5;241m3\u001b[39m,\u001b[38;5;124m\"\u001b[39m\u001b[38;5;124mneha\u001b[39m\u001b[38;5;124m\"\u001b[39m,\u001b[38;5;241m44\u001b[39m,\u001b[38;5;241m56\u001b[39m}\n\u001b[0;32m      2\u001b[0m \u001b[38;5;124m\"\u001b[39m\u001b[38;5;124mneha\u001b[39m\u001b[38;5;124m\"\u001b[39m \u001b[38;5;129;01min\u001b[39;00m data_set\n\u001b[1;32m----> 3\u001b[0m data_set\u001b[38;5;241m.\u001b[39mlen\n",
      "\u001b[1;31mAttributeError\u001b[0m: 'set' object has no attribute 'len'"
     ]
    }
   ],
   "source": [
    "data_set={23,3,\"neha\",44,56}\n",
    "\"neha\" in data_set\n",
    "data_set.len\n"
   ]
  },
  {
   "cell_type": "markdown",
   "id": "707751a7-050a-4af8-aa3a-2084061ca7b1",
   "metadata": {},
   "source": [
    "# removing items from a set"
   ]
  },
  {
   "cell_type": "markdown",
   "id": "4730a000-8667-43eb-b412-c5c886b604ee",
   "metadata": {},
   "source": [
    "# remove () To remove a single items from a set this method will take take one parameter,which is the items to be removed  from the set .Throws a keyerror if an items not prsent in  the original set\n",
    "# discard() also takes one parameters ,which is the items to be removes if that item is present it will remove it will not throw any error if is not presnt"
   ]
  },
  {
   "cell_type": "code",
   "execution_count": 23,
   "id": "03ff02a0-cbd1-4b41-831a-02926955a3da",
   "metadata": {},
   "outputs": [
    {
     "name": "stdout",
     "output_type": "stream",
     "text": [
      "1290430802720\n",
      "1290430802720\n"
     ]
    }
   ],
   "source": [
    "data_set1={23,\"neha\" ,\"kavita\",34,44,56}\n",
    "print(id(data_set1))\n",
    "data_set1.remove(\"neha\")\n",
    "print(id(data_set1))"
   ]
  },
  {
   "cell_type": "code",
   "execution_count": 13,
   "id": "439f8e86-a0a3-459d-93d2-760962c52f40",
   "metadata": {},
   "outputs": [
    {
     "ename": "KeyError",
     "evalue": "'nitin'",
     "output_type": "error",
     "traceback": [
      "\u001b[1;31m---------------------------------------------------------------------------\u001b[0m",
      "\u001b[1;31mKeyError\u001b[0m                                  Traceback (most recent call last)",
      "Cell \u001b[1;32mIn[13], line 2\u001b[0m\n\u001b[0;32m      1\u001b[0m data_set1\u001b[38;5;241m=\u001b[39m{\u001b[38;5;241m23\u001b[39m,\u001b[38;5;124m\"\u001b[39m\u001b[38;5;124mneha\u001b[39m\u001b[38;5;124m\"\u001b[39m ,\u001b[38;5;124m\"\u001b[39m\u001b[38;5;124mkavita\u001b[39m\u001b[38;5;124m\"\u001b[39m,\u001b[38;5;241m34\u001b[39m,\u001b[38;5;241m44\u001b[39m,\u001b[38;5;241m56\u001b[39m}\n\u001b[1;32m----> 2\u001b[0m data_set1\u001b[38;5;241m.\u001b[39mremove(\u001b[38;5;124m\"\u001b[39m\u001b[38;5;124mnitin\u001b[39m\u001b[38;5;124m\"\u001b[39m)\n\u001b[0;32m      3\u001b[0m \u001b[38;5;28mprint\u001b[39m(data_set1)\n",
      "\u001b[1;31mKeyError\u001b[0m: 'nitin'"
     ]
    }
   ],
   "source": [
    "data_set1={23,\"neha\" ,\"kavita\",34,44,56}\n",
    "data_set1.remove(\"nitin\")\n",
    "print(data_set1)"
   ]
  },
  {
   "cell_type": "code",
   "execution_count": 14,
   "id": "71665073-c0ed-4d50-8656-8fc734c528aa",
   "metadata": {},
   "outputs": [
    {
     "name": "stdout",
     "output_type": "stream",
     "text": [
      "{34, 23, 'kavita', 56, 44}\n"
     ]
    }
   ],
   "source": [
    "data_set1={23,\"neha\" ,\"kavita\",34,44,56}\n",
    "data_set1.discard(\"neha\")\n",
    "print(data_set1)"
   ]
  },
  {
   "cell_type": "code",
   "execution_count": 19,
   "id": "29431e6e-578d-4b78-90f8-ebdf0df863ca",
   "metadata": {},
   "outputs": [
    {
     "name": "stdout",
     "output_type": "stream",
     "text": [
      "{34, 23, 'mahi', 56, 44, 'manu'}\n"
     ]
    }
   ],
   "source": [
    "data_set2={23,\"mahi\" ,\"manu\",34,44,56}\n",
    "data_set2.discard(\"nitin\")\n",
    "print(data_set2)"
   ]
  },
  {
   "cell_type": "code",
   "execution_count": 17,
   "id": "998ec92c-ec6a-42ee-b41e-85d87cd75554",
   "metadata": {},
   "outputs": [
    {
     "name": "stdout",
     "output_type": "stream",
     "text": [
      "{'random_name', 'harshita', 23}\n"
     ]
    }
   ],
   "source": [
    "data_set2={23,34,\"harshita\",\"random_name\"}\n",
    "data_set2.pop()\n",
    "print(data_set2)"
   ]
  },
  {
   "cell_type": "code",
   "execution_count": 32,
   "id": "a933fe03-a8f3-4c6c-a7d3-4707befe3b91",
   "metadata": {},
   "outputs": [
    {
     "ename": "SyntaxError",
     "evalue": "invalid syntax (2879456249.py, line 2)",
     "output_type": "error",
     "traceback": [
      "\u001b[1;36m  Cell \u001b[1;32mIn[32], line 2\u001b[1;36m\u001b[0m\n\u001b[1;33m    data_set5.del()\u001b[0m\n\u001b[1;37m              ^\u001b[0m\n\u001b[1;31mSyntaxError\u001b[0m\u001b[1;31m:\u001b[0m invalid syntax\n"
     ]
    }
   ],
   "source": [
    "data_set5={23,34,\"harshita\",\"random_name\"}\n",
    "data_set5.del()\n",
    "print(data_set5)"
   ]
  },
  {
   "cell_type": "code",
   "execution_count": 15,
   "id": "d3aa84ba-c42b-4b7b-8793-95fa161d8f42",
   "metadata": {},
   "outputs": [
    {
     "data": {
      "text/plain": [
       "{9, 31}"
      ]
     },
     "execution_count": 15,
     "metadata": {},
     "output_type": "execute_result"
    }
   ],
   "source": [
    "\n",
    "set1={2,5,9,31}\n",
    "set2={2,5,82,89,93}\n",
    "set1.difference (set2)"
   ]
  },
  {
   "cell_type": "code",
   "execution_count": 35,
   "id": "b6b94d74-9c5a-44be-8726-b1f5fd06db9a",
   "metadata": {},
   "outputs": [
    {
     "ename": "SyntaxError",
     "evalue": "invalid syntax (1793254746.py, line 3)",
     "output_type": "error",
     "traceback": [
      "\u001b[1;36m  Cell \u001b[1;32mIn[35], line 3\u001b[1;36m\u001b[0m\n\u001b[1;33m    set_dat2 union (set_data3)\u001b[0m\n\u001b[1;37m             ^\u001b[0m\n\u001b[1;31mSyntaxError\u001b[0m\u001b[1;31m:\u001b[0m invalid syntax\n"
     ]
    }
   ],
   "source": [
    "set_data2={12,23,34,45,66}\n",
    "set_data3={23,34,23,33,66,78}\n",
    "set_dat2 union(set_data3)"
   ]
  },
  {
   "cell_type": "markdown",
   "id": "9c39ba44-6b7d-46de-95bb-458141ccdd53",
   "metadata": {},
   "source": [
    "# Symmetric diffence"
   ]
  },
  {
   "cell_type": "code",
   "execution_count": 39,
   "id": "fa836d68-4e1f-49c8-85a8-dbeedab1abeb",
   "metadata": {},
   "outputs": [
    {
     "name": "stdout",
     "output_type": "stream",
     "text": [
      "{33, 12, 45, 78}\n"
     ]
    }
   ],
   "source": [
    "set_data2={12,23,34,45,66}\n",
    "set_data3={23,34,23,33,66,78}\n",
    "print(set_data2.symmetric_difference (set_data3))\n"
   ]
  },
  {
   "cell_type": "code",
   "execution_count": 41,
   "id": "ce96dbb0-b617-4b2a-9766-321b06526483",
   "metadata": {},
   "outputs": [
    {
     "data": {
      "text/plain": [
       "{12, 33, 45, 78}"
      ]
     },
     "execution_count": 41,
     "metadata": {},
     "output_type": "execute_result"
    }
   ],
   "source": [
    "set_data2={12,23,34,45,66}\n",
    "set_data3={23,34,23,33,66,78}\n",
    "set_data2.symmetric_difference (set_data3)"
   ]
  },
  {
   "cell_type": "code",
   "execution_count": 43,
   "id": "586ea1f9-2c4f-4b6a-b890-f0fe6fd35224",
   "metadata": {},
   "outputs": [
    {
     "name": "stdout",
     "output_type": "stream",
     "text": [
      "{12, 45}\n"
     ]
    }
   ],
   "source": [
    "set_data2={12,23,34,45,66}\n",
    "set_data3={23,34,23,33,66,78}\n",
    "print(set_data2.difference (set_data3))\n"
   ]
  },
  {
   "cell_type": "code",
   "execution_count": 44,
   "id": "2908ceaa-74a4-4bad-bb30-8ef0b65e987c",
   "metadata": {},
   "outputs": [
    {
     "name": "stdout",
     "output_type": "stream",
     "text": [
      "{34, 66, 23}\n"
     ]
    }
   ],
   "source": [
    "set_data2={12,23,34,45,66}\n",
    "set_data3={23,34,23,33,66,78}\n",
    "print(set_data2.intersection(set_data3))\n"
   ]
  },
  {
   "cell_type": "code",
   "execution_count": 1,
   "id": "ec1f6778-0b47-485d-9a51-c27fa744f5a0",
   "metadata": {},
   "outputs": [
    {
     "data": {
      "text/plain": [
       "{12, 34, 45}"
      ]
     },
     "execution_count": 1,
     "metadata": {},
     "output_type": "execute_result"
    }
   ],
   "source": [
    "entry_set1={12,45,78,998,998,34,12}\n",
    "entry_set2={12,23,34,43,34,23,45}\n",
    "entry_set1.intersection(entry_set2)"
   ]
  },
  {
   "cell_type": "code",
   "execution_count": 2,
   "id": "1ed030c9-16ec-4220-b23e-f107910b4841",
   "metadata": {},
   "outputs": [
    {
     "data": {
      "text/plain": [
       "{78, 998}"
      ]
     },
     "execution_count": 2,
     "metadata": {},
     "output_type": "execute_result"
    }
   ],
   "source": [
    "entry_set1={12,45,78,998,998,34,12}\n",
    "entry_set2={12,23,34,43,34,23,45}\n",
    "entry_set1.difference(entry_set2)"
   ]
  },
  {
   "cell_type": "code",
   "execution_count": 4,
   "id": "617322d9-14ab-408b-b6e5-ba2c082a88b7",
   "metadata": {},
   "outputs": [
    {
     "data": {
      "text/plain": [
       "{23, 43, 78, 998}"
      ]
     },
     "execution_count": 4,
     "metadata": {},
     "output_type": "execute_result"
    }
   ],
   "source": [
    "entry_set1={12,45,78,998,998,34,12}\n",
    "entry_set2={12,23,34,43,34,23,45}\n",
    "entry_set1.symmetric_difference(entry_set2)"
   ]
  },
  {
   "cell_type": "code",
   "execution_count": 5,
   "id": "981bc4b5-26d4-4645-9400-b967419a79f2",
   "metadata": {},
   "outputs": [
    {
     "data": {
      "text/plain": [
       "34"
      ]
     },
     "execution_count": 5,
     "metadata": {},
     "output_type": "execute_result"
    }
   ],
   "source": [
    "entry_set1={12,45,78,998,998,34,12}\n",
    "entry_set1.pop()"
   ]
  },
  {
   "cell_type": "code",
   "execution_count": 8,
   "id": "03683a72-bb94-4b2c-a710-3101d5a67c1e",
   "metadata": {},
   "outputs": [
    {
     "ename": "TypeError",
     "evalue": "set.pop() takes no arguments (1 given)",
     "output_type": "error",
     "traceback": [
      "\u001b[1;31m---------------------------------------------------------------------------\u001b[0m",
      "\u001b[1;31mTypeError\u001b[0m                                 Traceback (most recent call last)",
      "Cell \u001b[1;32mIn[8], line 2\u001b[0m\n\u001b[0;32m      1\u001b[0m entry_set1\u001b[38;5;241m=\u001b[39m{\u001b[38;5;241m12\u001b[39m,\u001b[38;5;241m45\u001b[39m,\u001b[38;5;241m78\u001b[39m,\u001b[38;5;241m998\u001b[39m,\u001b[38;5;241m998\u001b[39m,\u001b[38;5;241m34\u001b[39m,\u001b[38;5;241m12\u001b[39m}\n\u001b[1;32m----> 2\u001b[0m entry_set1\u001b[38;5;241m.\u001b[39mpop(\u001b[38;5;241m34\u001b[39m)\n",
      "\u001b[1;31mTypeError\u001b[0m: set.pop() takes no arguments (1 given)"
     ]
    }
   ],
   "source": [
    "entry_set1={12,45,78,998,998,34,12}\n",
    "entry_set1.pop(34)"
   ]
  },
  {
   "cell_type": "code",
   "execution_count": 10,
   "id": "80643854-5d50-462a-bd94-0f9b32a218fd",
   "metadata": {},
   "outputs": [
    {
     "ename": "SyntaxError",
     "evalue": "invalid syntax (1958850016.py, line 2)",
     "output_type": "error",
     "traceback": [
      "\u001b[1;36m  Cell \u001b[1;32mIn[10], line 2\u001b[1;36m\u001b[0m\n\u001b[1;33m    entry_set1.del(34)\u001b[0m\n\u001b[1;37m               ^\u001b[0m\n\u001b[1;31mSyntaxError\u001b[0m\u001b[1;31m:\u001b[0m invalid syntax\n"
     ]
    }
   ],
   "source": [
    "entry_set1={12,45,78,998,998,34,12}\n",
    "entry_set1.del(34)"
   ]
  },
  {
   "cell_type": "code",
   "execution_count": 14,
   "id": "291c949f-6b0e-4330-8ac4-bfacf1644b9a",
   "metadata": {},
   "outputs": [
    {
     "name": "stdout",
     "output_type": "stream",
     "text": [
      "{34, 998, 12, 45, 78}\n"
     ]
    }
   ],
   "source": [
    "entry_set1={12,45,78,998,\"neha\",998,34,12}\n",
    "entry_set1.discard(\"neha\")\n",
    "print(entry_set1)"
   ]
  },
  {
   "cell_type": "code",
   "execution_count": 15,
   "id": "c4e4356b-8b4d-412a-9705-feafd1f8055f",
   "metadata": {},
   "outputs": [
    {
     "name": "stdout",
     "output_type": "stream",
     "text": [
      "{34, 998, 12, 45, 78}\n"
     ]
    }
   ],
   "source": [
    "entry_set1={12,45,78,998,\"neha\",998,34,12}\n",
    "entry_set1.remove(\"neha\")\n",
    "print(entry_set1)"
   ]
  },
  {
   "cell_type": "code",
   "execution_count": 1,
   "id": "87070e99-87a0-40c1-9f80-d24a942a91c1",
   "metadata": {},
   "outputs": [
    {
     "data": {
      "text/plain": [
       "'harshita'"
      ]
     },
     "execution_count": 1,
     "metadata": {},
     "output_type": "execute_result"
    }
   ],
   "source": [
    "info_set={23,45,56,\"name\",\"harshita\",45}\n",
    "info_set.pop()\n"
   ]
  },
  {
   "cell_type": "code",
   "execution_count": 2,
   "id": "7064cfc5-4020-43e4-bfed-b8fd907d64b4",
   "metadata": {},
   "outputs": [
    {
     "data": {
      "text/plain": [
       "{78, 998}"
      ]
     },
     "execution_count": 2,
     "metadata": {},
     "output_type": "execute_result"
    }
   ],
   "source": [
    "entry_set1={12,45,78,998,998,34,12}\n",
    "entry_set2={12,23,34,43,34,23,45}\n",
    "entry_set1.difference(entry_set2)"
   ]
  },
  {
   "cell_type": "code",
   "execution_count": 3,
   "id": "2472534f-7bbe-468b-8e0a-e82cc4d5feaf",
   "metadata": {},
   "outputs": [
    {
     "data": {
      "text/plain": [
       "{23, 43}"
      ]
     },
     "execution_count": 3,
     "metadata": {},
     "output_type": "execute_result"
    }
   ],
   "source": [
    "entry_set1={12,45,78,998,998,34,12}\n",
    "entry_set2={12,23,34,43,34,23,45}\n",
    "entry_set2.difference(entry_set1)"
   ]
  },
  {
   "cell_type": "code",
   "execution_count": 1,
   "id": "0289ecf2-d72f-448e-893b-6097d9530351",
   "metadata": {},
   "outputs": [
    {
     "data": {
      "text/plain": [
       "'name'"
      ]
     },
     "execution_count": 1,
     "metadata": {},
     "output_type": "execute_result"
    }
   ],
   "source": [
    "info_set={23,45,56,\"name\",\"harshita\",45}\n",
    "info_set.pop()\n"
   ]
  },
  {
   "cell_type": "code",
   "execution_count": 2,
   "id": "428f1126-378c-4eb8-ab2e-921be398d17c",
   "metadata": {},
   "outputs": [
    {
     "data": {
      "text/plain": [
       "'name'"
      ]
     },
     "execution_count": 2,
     "metadata": {},
     "output_type": "execute_result"
    }
   ],
   "source": [
    "info_set={23,45,56,\"name\",\"harshita\",45}\n",
    "info_set.pop()\n"
   ]
  },
  {
   "cell_type": "code",
   "execution_count": 3,
   "id": "bf492ad7-ee4b-448c-b88e-3df5087066be",
   "metadata": {},
   "outputs": [
    {
     "data": {
      "text/plain": [
       "'name'"
      ]
     },
     "execution_count": 3,
     "metadata": {},
     "output_type": "execute_result"
    }
   ],
   "source": [
    "info_set={23,45,56,\"name\",\"harshita\",45}\n",
    "info_set.pop()\n"
   ]
  },
  {
   "cell_type": "code",
   "execution_count": 4,
   "id": "69079011-f0dd-4f58-94a4-e56a7b5e8843",
   "metadata": {},
   "outputs": [
    {
     "data": {
      "text/plain": [
       "'name'"
      ]
     },
     "execution_count": 4,
     "metadata": {},
     "output_type": "execute_result"
    }
   ],
   "source": [
    "info_set={23,45,56,\"name\",\"harshita\",45}\n",
    "info_set.pop()\n"
   ]
  },
  {
   "cell_type": "code",
   "execution_count": 5,
   "id": "e656f4c8-f5d8-4a3a-96f5-9da0729cfadf",
   "metadata": {},
   "outputs": [
    {
     "name": "stdout",
     "output_type": "stream",
     "text": [
      "66\n"
     ]
    }
   ],
   "source": [
    "info_set={4,56,67,66,77}\n",
    "print(info_set.pop())"
   ]
  },
  {
   "cell_type": "code",
   "execution_count": 7,
   "id": "0dbaeed7-14dd-450c-b1ac-0f31957180b4",
   "metadata": {},
   "outputs": [
    {
     "data": {
      "text/plain": [
       "'name'"
      ]
     },
     "execution_count": 7,
     "metadata": {},
     "output_type": "execute_result"
    }
   ],
   "source": [
    "info_set={23,45,56,\"name\",\"harshita\",45}\n",
    "info_set.pop()"
   ]
  },
  {
   "cell_type": "code",
   "execution_count": 22,
   "id": "23920201-cb58-439f-b303-5e5f887c21d3",
   "metadata": {},
   "outputs": [
    {
     "data": {
      "text/plain": [
       "set"
      ]
     },
     "execution_count": 22,
     "metadata": {},
     "output_type": "execute_result"
    }
   ],
   "source": [
    "info_set={45,56,67,78}\n",
    "info_set.pop()\n",
    "type(info_set)"
   ]
  },
  {
   "cell_type": "code",
   "execution_count": 2,
   "id": "016d960c-b890-491c-9ed3-22dff2db6053",
   "metadata": {},
   "outputs": [
    {
     "ename": "SyntaxError",
     "evalue": "invalid syntax (332233098.py, line 2)",
     "output_type": "error",
     "traceback": [
      "\u001b[1;36m  Cell \u001b[1;32mIn[2], line 2\u001b[1;36m\u001b[0m\n\u001b[1;33m    info_set.del()\u001b[0m\n\u001b[1;37m             ^\u001b[0m\n\u001b[1;31mSyntaxError\u001b[0m\u001b[1;31m:\u001b[0m invalid syntax\n"
     ]
    }
   ],
   "source": [
    "info_set={45,56,67,78}\n",
    "del info_set()"
   ]
  },
  {
   "cell_type": "code",
   "execution_count": 19,
   "id": "fea1b1cf-9b44-4368-a497-e54175db5b43",
   "metadata": {},
   "outputs": [
    {
     "data": {
      "text/plain": [
       "56"
      ]
     },
     "execution_count": 19,
     "metadata": {},
     "output_type": "execute_result"
    }
   ],
   "source": [
    "info_set={45,56,67,78}\n",
    "info_set.pop()"
   ]
  },
  {
   "cell_type": "code",
   "execution_count": 23,
   "id": "997139fc-857e-4c3a-be20-ef47afd40b9c",
   "metadata": {},
   "outputs": [
    {
     "data": {
      "text/plain": [
       "34"
      ]
     },
     "execution_count": 23,
     "metadata": {},
     "output_type": "execute_result"
    }
   ],
   "source": [
    "entry_set1={12,45,78,998,998,34,12}\n",
    "entry_set1.pop()"
   ]
  },
  {
   "cell_type": "code",
   "execution_count": 3,
   "id": "a1d6bb97-3fc4-466c-921b-2b1e64823f85",
   "metadata": {},
   "outputs": [
    {
     "ename": "AttributeError",
     "evalue": "'list' object has no attribute 'id'",
     "output_type": "error",
     "traceback": [
      "\u001b[1;31m---------------------------------------------------------------------------\u001b[0m",
      "\u001b[1;31mAttributeError\u001b[0m                            Traceback (most recent call last)",
      "Cell \u001b[1;32mIn[3], line 2\u001b[0m\n\u001b[0;32m      1\u001b[0m entry_set1\u001b[38;5;241m=\u001b[39m[\u001b[38;5;241m12\u001b[39m,\u001b[38;5;241m45\u001b[39m,\u001b[38;5;241m78\u001b[39m,\u001b[38;5;241m998\u001b[39m,\u001b[38;5;241m998\u001b[39m,\u001b[38;5;241m34\u001b[39m,\u001b[38;5;241m12\u001b[39m]\n\u001b[1;32m----> 2\u001b[0m entry_set1\u001b[38;5;241m.\u001b[39mid()\n",
      "\u001b[1;31mAttributeError\u001b[0m: 'list' object has no attribute 'id'"
     ]
    }
   ],
   "source": [
    "entry_set1=[12,45,78,998,998,34,12]\n",
    "entry_set1.id()"
   ]
  },
  {
   "cell_type": "code",
   "execution_count": null,
   "id": "38497b5c-ef8f-419f-86e0-46cce847f51e",
   "metadata": {},
   "outputs": [],
   "source": []
  }
 ],
 "metadata": {
  "kernelspec": {
   "display_name": "Python 3 (ipykernel)",
   "language": "python",
   "name": "python3"
  },
  "language_info": {
   "codemirror_mode": {
    "name": "ipython",
    "version": 3
   },
   "file_extension": ".py",
   "mimetype": "text/x-python",
   "name": "python",
   "nbconvert_exporter": "python",
   "pygments_lexer": "ipython3",
   "version": "3.13.5"
  }
 },
 "nbformat": 4,
 "nbformat_minor": 5
}
