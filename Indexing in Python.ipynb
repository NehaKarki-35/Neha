{
 "cells": [
  {
   "cell_type": "markdown",
   "id": "69560004-5027-4cb0-a007-6aa386cb2a16",
   "metadata": {},
   "source": [
    "***Indexing= Assing Eelement of a sequence using [] (indexing opretor )***\n",
    "             ***[start:end: step]***"
   ]
  },
  {
   "cell_type": "markdown",
   "id": "43919f3f-b91f-48cd-a5be-d4be489a02b8",
   "metadata": {},
   "source": [
    " ***example:-***\n",
    "credit_numbers=2123-5678-45678-2345\n"
   ]
  },
  {
   "cell_type": "code",
   "execution_count": 13,
   "id": "321c6ae1-8e39-4504-9cb1-564554a8e9ac",
   "metadata": {},
   "outputs": [
    {
     "name": "stdout",
     "output_type": "stream",
     "text": [
      "2\n",
      "2123-5678-45678-2345\n",
      "123-5678-45678-234\n",
      "5432-87654-8765-3212\n",
      "2123-5678-45678-234\n"
     ]
    }
   ],
   "source": [
    "credit_numbers=\"2123-5678-45678-2345\"\n",
    "print(credit_numbers[0])\n",
    "print(credit_numbers[::1])\n",
    "print(credit_numbers[1:-1])\n",
    "print(credit_numbers[::-1])\n",
    "print(credit_numbers[0:-1])"
   ]
  },
  {
   "cell_type": "code",
   "execution_count": 21,
   "id": "a2c45cf9-6338-44d7-ac5e-b8632757729b",
   "metadata": {},
   "outputs": [
    {
     "name": "stdout",
     "output_type": "stream",
     "text": [
      "['apple', 'mango', 'papaya']\n",
      "['mango', 'papaya']\n",
      "['papaya']\n",
      "['apple', 'mango', 'papaya', 'graphs']\n",
      "graphs\n"
     ]
    }
   ],
   "source": [
    "fruits_name=[\"apple\",\"mango\",\"papaya\",\"graphs\"]\n",
    "print(fruits_name[0:3])\n",
    "print (fruits_name[1:3])\n",
    "print(fruits_name[2:3])\n",
    "print(fruits_name[::1])\n",
    "print(fruits_name[-1])\n"
   ]
  },
  {
   "cell_type": "code",
   "execution_count": null,
   "id": "085a1c66-22a1-4a4c-a2ca-3f5a15d1b201",
   "metadata": {},
   "outputs": [],
   "source": []
  }
 ],
 "metadata": {
  "kernelspec": {
   "display_name": "Python 3 (ipykernel)",
   "language": "python",
   "name": "python3"
  },
  "language_info": {
   "codemirror_mode": {
    "name": "ipython",
    "version": 3
   },
   "file_extension": ".py",
   "mimetype": "text/x-python",
   "name": "python",
   "nbconvert_exporter": "python",
   "pygments_lexer": "ipython3",
   "version": "3.13.5"
  }
 },
 "nbformat": 4,
 "nbformat_minor": 5
}
