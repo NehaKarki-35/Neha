{
 "cells": [
  {
   "cell_type": "code",
   "execution_count": 3,
   "id": "fad63a3c-1464-4b92-a8ca-089b62f8750c",
   "metadata": {},
   "outputs": [
    {
     "name": "stdout",
     "output_type": "stream",
     "text": [
      "<class 'dict'>\n"
     ]
    }
   ],
   "source": [
    "course_1={\"name\":\"neha\",\"course\":\"data_science\",\"duration\":\"on_year\"}\n",
    "print(type(course_1))"
   ]
  },
  {
   "cell_type": "code",
   "execution_count": 8,
   "id": "56291516-1739-4127-bf6e-6c4c34063cc0",
   "metadata": {},
   "outputs": [
    {
     "name": "stdout",
     "output_type": "stream",
     "text": [
      "{'name': 'neha', 'timing': '11am', 'no of standard': 100, 'course': 'data_science'}\n"
     ]
    }
   ],
   "source": [
    "course_2={\"name\":\"mahi\",\"timing\":\"11am\",\"no of standard\":100,\"name\":\"neha\",\"course\":\"data_analetis\"}\n",
    "course={\"course\":\"data_science\",\"course\":\"data_analetis\"}\n",
    "print(course_2)"
   ]
  },
  {
   "cell_type": "raw",
   "id": "0e93a4d2-ea1f-4c78-8830-c87a852d7e2c",
   "metadata": {},
   "source": [
    "std = {1:\"neha\", 2:\"mahi\", 3:\"priyanshu\"}\n",
    "print(std)"
   ]
  },
  {
   "cell_type": "code",
   "execution_count": 9,
   "id": "cf18fd32-8f79-4612-ab4b-1277af8f3a42",
   "metadata": {},
   "outputs": [
    {
     "ename": "TypeError",
     "evalue": "unhashable type: 'list'",
     "output_type": "error",
     "traceback": [
      "\u001b[1;31m---------------------------------------------------------------------------\u001b[0m",
      "\u001b[1;31mTypeError\u001b[0m                                 Traceback (most recent call last)",
      "Cell \u001b[1;32mIn[9], line 1\u001b[0m\n\u001b[1;32m----> 1\u001b[0m inovetors\u001b[38;5;241m=\u001b[39m{[\u001b[38;5;241m1\u001b[39m,\u001b[38;5;241m2\u001b[39m]:\u001b[38;5;124m\"\u001b[39m\u001b[38;5;124melon musk\u001b[39m\u001b[38;5;124m\"\u001b[39m,[\u001b[38;5;241m2\u001b[39m,\u001b[38;5;241m3\u001b[39m]:\u001b[38;5;124m\"\u001b[39m\u001b[38;5;124mravindra\u001b[39m\u001b[38;5;124m\"\u001b[39m,[\u001b[38;5;241m4\u001b[39m,\u001b[38;5;241m5\u001b[39m]:\u001b[38;5;124m\"\u001b[39m\u001b[38;5;124mnatik\u001b[39m\u001b[38;5;124m\"\u001b[39m}\n\u001b[0;32m      2\u001b[0m \u001b[38;5;28mprint\u001b[39m(inovetors)\n",
      "\u001b[1;31mTypeError\u001b[0m: unhashable type: 'list'"
     ]
    }
   ],
   "source": [
    "innovetors={[1,2]:\"elon musk\",[2,3]:\"ravindra\",[4,5]:\"natik\"}\n",
    "print(innovetors)"
   ]
  },
  {
   "cell_type": "code",
   "execution_count": 12,
   "id": "d5ba7f2c-1d76-4e17-8ab6-504373dc6ade",
   "metadata": {},
   "outputs": [
    {
     "ename": "TypeError",
     "evalue": "unhashable type: 'set'",
     "output_type": "error",
     "traceback": [
      "\u001b[1;31m---------------------------------------------------------------------------\u001b[0m",
      "\u001b[1;31mTypeError\u001b[0m                                 Traceback (most recent call last)",
      "Cell \u001b[1;32mIn[12], line 1\u001b[0m\n\u001b[1;32m----> 1\u001b[0m innovetors\u001b[38;5;241m=\u001b[39m{{\u001b[38;5;241m1\u001b[39m,\u001b[38;5;241m2\u001b[39m}:\u001b[38;5;124m\"\u001b[39m\u001b[38;5;124melon musk\u001b[39m\u001b[38;5;124m\"\u001b[39m,(\u001b[38;5;241m2\u001b[39m,\u001b[38;5;241m3\u001b[39m):\u001b[38;5;124m\"\u001b[39m\u001b[38;5;124mravindra\u001b[39m\u001b[38;5;124m\"\u001b[39m,(\u001b[38;5;241m4\u001b[39m,\u001b[38;5;241m5\u001b[39m):\u001b[38;5;124m\"\u001b[39m\u001b[38;5;124mnatik\u001b[39m\u001b[38;5;124m\"\u001b[39m}\n\u001b[0;32m      2\u001b[0m \u001b[38;5;28mprint\u001b[39m(innovetors)\n",
      "\u001b[1;31mTypeError\u001b[0m: unhashable type: 'set'"
     ]
    }
   ],
   "source": [
    "innovetors={(1,2):\"elon musk\",(2,3):\"ravindra\",(4,5):\"natik\"}\n",
    "print(innovetors)"
   ]
  },
  {
   "cell_type": "code",
   "execution_count": 13,
   "id": "dcb0396c-98ae-4a8d-b389-0194ef972eda",
   "metadata": {},
   "outputs": [
    {
     "ename": "TypeError",
     "evalue": "unhashable type: 'set'",
     "output_type": "error",
     "traceback": [
      "\u001b[1;31m---------------------------------------------------------------------------\u001b[0m",
      "\u001b[1;31mTypeError\u001b[0m                                 Traceback (most recent call last)",
      "Cell \u001b[1;32mIn[13], line 1\u001b[0m\n\u001b[1;32m----> 1\u001b[0m innovetors\u001b[38;5;241m=\u001b[39m{{\u001b[38;5;241m1\u001b[39m,\u001b[38;5;241m2\u001b[39m}:\u001b[38;5;124m\"\u001b[39m\u001b[38;5;124melon musk\u001b[39m\u001b[38;5;124m\"\u001b[39m,(\u001b[38;5;241m2\u001b[39m,\u001b[38;5;241m3\u001b[39m):\u001b[38;5;124m\"\u001b[39m\u001b[38;5;124mravindra\u001b[39m\u001b[38;5;124m\"\u001b[39m,(\u001b[38;5;241m4\u001b[39m,\u001b[38;5;241m5\u001b[39m):\u001b[38;5;124m\"\u001b[39m\u001b[38;5;124mnatik\u001b[39m\u001b[38;5;124m\"\u001b[39m}\n\u001b[0;32m      2\u001b[0m \u001b[38;5;28mprint\u001b[39m(innovetors)\n",
      "\u001b[1;31mTypeError\u001b[0m: unhashable type: 'set'"
     ]
    }
   ],
   "source": [
    "innovetors={{1,2}:\"elon musk\",(2,3):\"ravindra\",(4,5):\"natik\"}\n",
    "print(innovetors)"
   ]
  },
  {
   "cell_type": "code",
   "execution_count": 14,
   "id": "122c3e69-be44-4e7f-8d21-b85bfc5da7b0",
   "metadata": {},
   "outputs": [
    {
     "ename": "TypeError",
     "evalue": "unhashable type: 'set'",
     "output_type": "error",
     "traceback": [
      "\u001b[1;31m---------------------------------------------------------------------------\u001b[0m",
      "\u001b[1;31mTypeError\u001b[0m                                 Traceback (most recent call last)",
      "Cell \u001b[1;32mIn[14], line 1\u001b[0m\n\u001b[1;32m----> 1\u001b[0m random_dict\u001b[38;5;241m=\u001b[39m{{\u001b[38;5;241m1\u001b[39m,\u001b[38;5;241m2\u001b[39m}:\u001b[38;5;124m\"\u001b[39m\u001b[38;5;124mshardha\u001b[39m\u001b[38;5;124m\"\u001b[39m,{\u001b[38;5;241m23\u001b[39m,\u001b[38;5;241m34\u001b[39m}:\u001b[38;5;124m\"\u001b[39m\u001b[38;5;124mkhapra\u001b[39m\u001b[38;5;124m\"\u001b[39m}\n\u001b[0;32m      2\u001b[0m \u001b[38;5;28mprint\u001b[39m(random_dict)\n",
      "\u001b[1;31mTypeError\u001b[0m: unhashable type: 'set'"
     ]
    }
   ],
   "source": [
    "random_dict={{1,2}:\"shardha\",{23,34}:\"khapra\"}\n",
    "print(random_dict)"
   ]
  },
  {
   "cell_type": "code",
   "execution_count": 17,
   "id": "34ee9ed4-caee-4c9f-8ffa-d9b430fdcb0b",
   "metadata": {},
   "outputs": [
    {
     "name": "stdout",
     "output_type": "stream",
     "text": [
      "{23: {'tecahers'}, 24: {'principle'}}\n"
     ]
    }
   ],
   "source": [
    "lpu_staff={23:{\"tecahers\"},24:{\"principle\"}}\n",
    "print(lpu_staff)"
   ]
  },
  {
   "cell_type": "code",
   "execution_count": 20,
   "id": "2a47d07e-336a-4c9c-a2cc-920465e7d90c",
   "metadata": {},
   "outputs": [
    {
     "data": {
      "text/plain": [
       "'lpu'"
      ]
     },
     "execution_count": 20,
     "metadata": {},
     "output_type": "execute_result"
    }
   ],
   "source": [
    "value_dic={12:\"lpu\",13:\"graphic\"}\n",
    "value_dic[12]"
   ]
  },
  {
   "cell_type": "code",
   "execution_count": 26,
   "id": "dbe9ee08-8e0c-4bc7-8740-9dc76d9bb4de",
   "metadata": {},
   "outputs": [
    {
     "name": "stdout",
     "output_type": "stream",
     "text": [
      "2799973160576\n",
      "{'course': 'data_science', 'no of student': 200}\n",
      "2799973160576\n"
     ]
    }
   ],
   "source": [
    "course={\"course\":\"data_science\",\"no of student\":100}\n",
    "print(id(course))\n",
    "course[\"no of student\"]=200\n",
    "print(course)\n",
    "print(id(course))"
   ]
  },
  {
   "cell_type": "code",
   "execution_count": 1,
   "id": "5ee7179d-5c0e-4721-ac29-2817616f85e8",
   "metadata": {},
   "outputs": [
    {
     "name": "stdout",
     "output_type": "stream",
     "text": [
      "female\n"
     ]
    }
   ],
   "source": [
    "program_dict={\"gender\" : \"female\", \"age\":29,\"village\":\"almora\"}\n",
    "print(program_dict[\"gender\"])"
   ]
  },
  {
   "cell_type": "code",
   "execution_count": 10,
   "id": "2802652b-20af-4098-8228-bbbfebe44db1",
   "metadata": {},
   "outputs": [
    {
     "name": "stdout",
     "output_type": "stream",
     "text": [
      "450\n",
      "{'higest no': 490, 'second no': 430, 'third': 400}\n"
     ]
    }
   ],
   "source": [
    "school_toper_record_2025 ={\"higest no\": 450,\"second no\":430,\"third\":400}\n",
    "#print(school_toper_record_2025(id))\n",
    "print(school_toper_record_2025[\"higest no\"])\n",
    "school_toper_record_2025[\"higest no\"] = 490\n",
    "print(school_toper_record_2025)"
   ]
  },
  {
   "cell_type": "code",
   "execution_count": 12,
   "id": "415f2abd-9f39-4dce-b4ce-11dcddf0234f",
   "metadata": {},
   "outputs": [
    {
     "name": "stdout",
     "output_type": "stream",
     "text": [
      "{'xyz', 34, 23, 12}\n"
     ]
    }
   ],
   "source": [
    "sales_record={12,23,34,\"niharika\",\"xyz\"}\n",
    "sales_record.discard(\"niharika\")\n",
    "print(sales_record)"
   ]
  },
  {
   "cell_type": "code",
   "execution_count": 1,
   "id": "e1b6a570-bb40-44f6-afe3-226e984555f7",
   "metadata": {},
   "outputs": [
    {
     "name": "stdout",
     "output_type": "stream",
     "text": [
      "name mayank\n"
     ]
    }
   ],
   "source": [
    "d={\"name\":\"mayank\",\"age\":28}\n",
    "print(\"name\",d[\"name\"])"
   ]
  },
  {
   "cell_type": "code",
   "execution_count": 4,
   "id": "25a843d5-1c75-4689-b9cd-9c13c2f81ddf",
   "metadata": {},
   "outputs": [
    {
     "name": "stdout",
     "output_type": "stream",
     "text": [
      "salary with get: None\n"
     ]
    }
   ],
   "source": [
    "print(\"salary with get:\",d.get(\"sallery\"))"
   ]
  },
  {
   "cell_type": "code",
   "execution_count": 5,
   "id": "06668e9a-d2d0-4b20-890a-a003fd24f448",
   "metadata": {},
   "outputs": [
    {
     "name": "stdout",
     "output_type": "stream",
     "text": [
      "age with get: 28\n"
     ]
    }
   ],
   "source": [
    "print(\"age with get:\",d.get(\"age\"))"
   ]
  },
  {
   "cell_type": "code",
   "execution_count": 8,
   "id": "abfa3455-17c6-4b17-88ee-69de0861fb70",
   "metadata": {},
   "outputs": [
    {
     "ename": "KeyError",
     "evalue": "28",
     "output_type": "error",
     "traceback": [
      "\u001b[1;31m---------------------------------------------------------------------------\u001b[0m",
      "\u001b[1;31mKeyError\u001b[0m                                  Traceback (most recent call last)",
      "Cell \u001b[1;32mIn[8], line 1\u001b[0m\n\u001b[1;32m----> 1\u001b[0m \u001b[38;5;28mprint\u001b[39m(d[\u001b[38;5;241m28\u001b[39m])\n",
      "\u001b[1;31mKeyError\u001b[0m: 28"
     ]
    }
   ],
   "source": [
    "print(d[28])"
   ]
  },
  {
   "cell_type": "code",
   "execution_count": 11,
   "id": "81b2f3c5-0765-49ae-8fda-7bd681fe7234",
   "metadata": {},
   "outputs": [
    {
     "ename": "KeyError",
     "evalue": "0",
     "output_type": "error",
     "traceback": [
      "\u001b[1;31m---------------------------------------------------------------------------\u001b[0m",
      "\u001b[1;31mKeyError\u001b[0m                                  Traceback (most recent call last)",
      "Cell \u001b[1;32mIn[11], line 1\u001b[0m\n\u001b[1;32m----> 1\u001b[0m \u001b[38;5;28mprint\u001b[39m(d[\u001b[38;5;241m0\u001b[39m])\n",
      "\u001b[1;31mKeyError\u001b[0m: 0"
     ]
    }
   ],
   "source": [
    "print(d[0])"
   ]
  },
  {
   "cell_type": "code",
   "execution_count": 13,
   "id": "913fde1c-c073-4fc2-a89b-ae7b1b70aa5a",
   "metadata": {},
   "outputs": [
    {
     "ename": "SyntaxError",
     "evalue": "invalid syntax (295240621.py, line 2)",
     "output_type": "error",
     "traceback": [
      "\u001b[1;36m  Cell \u001b[1;32mIn[13], line 2\u001b[1;36m\u001b[0m\n\u001b[1;33m    d.update(\"b\":20, \"c\":34)\u001b[0m\n\u001b[1;37m                ^\u001b[0m\n\u001b[1;31mSyntaxError\u001b[0m\u001b[1;31m:\u001b[0m invalid syntax\n"
     ]
    }
   ],
   "source": [
    "d={\"a\":20,\"b\":3}\n",
    "d.update(\"b\":20, \"c\":34)\n",
    "print(\"after update\",d)"
   ]
  },
  {
   "cell_type": "code",
   "execution_count": 15,
   "id": "7a0d7681-715f-45cf-8480-c87007336722",
   "metadata": {},
   "outputs": [
    {
     "name": "stdout",
     "output_type": "stream",
     "text": [
      "after update {'a': 20, 'b': 20, 'c': 34}\n"
     ]
    }
   ],
   "source": [
    "d={\"a\":20,\"b\":3}\n",
    "d.update({\"b\":20, \"c\":34})\n",
    "print(\"after update\",d)"
   ]
  },
  {
   "cell_type": "code",
   "execution_count": 19,
   "id": "b69fcc1c-bbc4-4b25-b5c8-91a60bc75ac9",
   "metadata": {},
   "outputs": [
    {
     "name": "stdout",
     "output_type": "stream",
     "text": [
      "{'language': 'python', 'age': 26}\n"
     ]
    }
   ],
   "source": [
    "d={} #empty dict\n",
    "d[\"language\"]=\"python\"\n",
    "d[\"age\"]=26\n",
    "print(d)"
   ]
  },
  {
   "cell_type": "markdown",
   "id": "14ff6d68-8975-48ba-99e1-f86c22bd04e6",
   "metadata": {},
   "source": [
    "# pop()"
   ]
  },
  {
   "cell_type": "code",
   "execution_count": 20,
   "id": "7e2d19b2-a35d-483c-8343-d0b8b69711d2",
   "metadata": {},
   "outputs": [
    {
     "ename": "SyntaxError",
     "evalue": "closing parenthesis ']' does not match opening parenthesis '{' (2884293215.py, line 1)",
     "output_type": "error",
     "traceback": [
      "\u001b[1;36m  Cell \u001b[1;32mIn[20], line 1\u001b[1;36m\u001b[0m\n\u001b[1;33m    d={\"a\":12,\"b\":2]\u001b[0m\n\u001b[1;37m                   ^\u001b[0m\n\u001b[1;31mSyntaxError\u001b[0m\u001b[1;31m:\u001b[0m closing parenthesis ']' does not match opening parenthesis '{'\n"
     ]
    }
   ],
   "source": [
    "d={\"a\":12,\"b\":2]\n",
    "val=d.pop(\"a\")\n",
    "print(\"popped a:\",val,\"|d now:\",d)"
   ]
  },
  {
   "cell_type": "code",
   "execution_count": 21,
   "id": "e12a13b5-2da1-489b-aa95-45f7521a281d",
   "metadata": {},
   "outputs": [
    {
     "name": "stdout",
     "output_type": "stream",
     "text": [
      "popped a: 12 |d now: {'b': 2}\n"
     ]
    }
   ],
   "source": [
    "d={\"a\":12,\"b\":2}\n",
    "val=d.pop(\"a\")\n",
    "print(\"popped a:\",val,\"|d now:\",d)"
   ]
  },
  {
   "cell_type": "markdown",
   "id": "95f7d955-2aff-4156-a1e3-a399196ac150",
   "metadata": {},
   "source": [
    "# popitem()"
   ]
  },
  {
   "cell_type": "code",
   "execution_count": 24,
   "id": "9b72eef6-8174-4fe4-ac79-6e1b348b42ce",
   "metadata": {},
   "outputs": [
    {
     "name": "stdout",
     "output_type": "stream",
     "text": [
      "data type of item: <class 'tuple'>\n",
      "popped item: ('z', 3) |d now : {'x': 1, 'y': 23}\n"
     ]
    }
   ],
   "source": [
    "d={\"x\":1,\"y\":23,\"z\":3}\n",
    "item=d.popitem()\n",
    "print(\"data type of item:\", type(item))\n",
    "print(\"popped item:\", item,\"|d now :\", d)"
   ]
  },
  {
   "cell_type": "code",
   "execution_count": 25,
   "id": "da8490e6-8fe8-46ec-9197-a0c9e25fc3a2",
   "metadata": {},
   "outputs": [
    {
     "ename": "AttributeError",
     "evalue": "'dict' object has no attribute 'key'",
     "output_type": "error",
     "traceback": [
      "\u001b[1;31m---------------------------------------------------------------------------\u001b[0m",
      "\u001b[1;31mAttributeError\u001b[0m                            Traceback (most recent call last)",
      "Cell \u001b[1;32mIn[25], line 2\u001b[0m\n\u001b[0;32m      1\u001b[0m d\u001b[38;5;241m=\u001b[39m{\u001b[38;5;124m\"\u001b[39m\u001b[38;5;124mcollege\u001b[39m\u001b[38;5;124m\"\u001b[39m:\u001b[38;5;124m\"\u001b[39m\u001b[38;5;124mmit\u001b[39m\u001b[38;5;124m\"\u001b[39m,\u001b[38;5;124m\"\u001b[39m\u001b[38;5;124mcourse\u001b[39m\u001b[38;5;124m\"\u001b[39m:\u001b[38;5;124m\"\u001b[39m\u001b[38;5;124mb.tech\u001b[39m\u001b[38;5;124m\"\u001b[39m,\u001b[38;5;124m\"\u001b[39m\u001b[38;5;124mduration\u001b[39m\u001b[38;5;124m\"\u001b[39m:\u001b[38;5;241m4\u001b[39m}\n\u001b[1;32m----> 2\u001b[0m d\u001b[38;5;241m.\u001b[39mkey()\n",
      "\u001b[1;31mAttributeError\u001b[0m: 'dict' object has no attribute 'key'"
     ]
    }
   ],
   "source": [
    "d={\"college\":\"mit\",\"course\":\"b.tech\",\"duration\":4}\n",
    "d.key()\n"
   ]
  },
  {
   "cell_type": "code",
   "execution_count": 43,
   "id": "79b34109-61d3-4038-a289-42cf64891c29",
   "metadata": {},
   "outputs": [
    {
     "name": "stdout",
     "output_type": "stream",
     "text": [
      "keys dict_keys(['college', 'course', 'duration'])\n"
     ]
    }
   ],
   "source": [
    "d={\"college\":\"mit\",\"course\":\"b.tech\",\"duration\":4}\n",
    "print(\"keys\",d.keys())\n",
    "\n"
   ]
  },
  {
   "cell_type": "code",
   "execution_count": 55,
   "id": "9f9c1f2a-3277-4659-b999-0045a73dee40",
   "metadata": {},
   "outputs": [
    {
     "name": "stdout",
     "output_type": "stream",
     "text": [
      "dict_keys(['name', 'age'])\n",
      "['name', 'age']\n"
     ]
    }
   ],
   "source": [
    "d_values={\"name\":\"sakshi\",\"age\":34}\n",
    "print(d_values.keys())\n",
    "d_list=list (d_values.keys())\n",
    "print(d_list)"
   ]
  },
  {
   "cell_type": "code",
   "execution_count": 56,
   "id": "968a03ee-ea03-43a8-b4b7-815c8a6046dc",
   "metadata": {},
   "outputs": [
    {
     "name": "stdout",
     "output_type": "stream",
     "text": [
      "dict_values(['sakshi', 34])\n",
      "('sakshi', 34)\n"
     ]
    }
   ],
   "source": [
    "d_values={\"name\":\"sakshi\",\"age\":34}\n",
    "print(d_values.values())\n",
    "d_tuple=tuple (d_values.values())\n",
    "print(d_tuple)\n"
   ]
  },
  {
   "cell_type": "code",
   "execution_count": 58,
   "id": "9b34da28-bca1-424c-bbb9-2a9179c4b942",
   "metadata": {},
   "outputs": [
    {
     "name": "stdout",
     "output_type": "stream",
     "text": [
      "dict_items([('name', 'sakshi'), ('age', 34)])\n",
      "(('name', 'sakshi'), ('age', 34))\n"
     ]
    }
   ],
   "source": [
    "data_values={\"name\":\"sakshi\",\"age\":34}\n",
    "print(data_values.items())\n",
    "data_tuple=tuple (data_values.items())\n",
    "print(data_tuple)\n"
   ]
  },
  {
   "cell_type": "code",
   "execution_count": 62,
   "id": "ad35f2e5-0b96-4eb6-b949-a7626188747d",
   "metadata": {},
   "outputs": [
    {
     "name": "stdout",
     "output_type": "stream",
     "text": [
      "dict_values(['dimand', 3000, 'kolkota'])\n",
      "['highest', 'price', 'place']\n"
     ]
    }
   ],
   "source": [
    "data_values={\"highest\":\"dimand\",\"price\":3000,\"place\":\"kolkota\"}\n",
    "print( data_values.values())\n",
    "data_list=list(data_values)\n",
    "print(data_list)"
   ]
  },
  {
   "cell_type": "markdown",
   "id": "1b512284-67ff-4edf-9241-d3320cd46f99",
   "metadata": {},
   "source": [
    "# Input Function"
   ]
  },
  {
   "cell_type": "code",
   "execution_count": 1,
   "id": "ee258da9-e2bb-444c-9d2b-a192d59a3818",
   "metadata": {},
   "outputs": [
    {
     "name": "stdin",
     "output_type": "stream",
     "text": [
      "enter amount in word one thousand\n"
     ]
    },
    {
     "name": "stdout",
     "output_type": "stream",
     "text": [
      "one thousand\n"
     ]
    }
   ],
   "source": [
    "amount=input(\"enter amount in word:\")\n",
    "print(amount)"
   ]
  },
  {
   "cell_type": "code",
   "execution_count": 6,
   "id": "cfeed376-fdb6-4d1b-bfb4-9654b50e3e1b",
   "metadata": {},
   "outputs": [
    {
     "name": "stdin",
     "output_type": "stream",
     "text": [
      "enter amount in digites: 1222\n"
     ]
    },
    {
     "data": {
      "text/plain": [
       "str"
      ]
     },
     "execution_count": 6,
     "metadata": {},
     "output_type": "execute_result"
    }
   ],
   "source": [
    "amount=input(\"enter amount in digites:\")# the type of data from input functions is always a string\n",
    "type(amount)\n"
   ]
  },
  {
   "cell_type": "code",
   "execution_count": 12,
   "id": "8f1526f1-60a9-43b4-a836-9afd70a01a26",
   "metadata": {},
   "outputs": [
    {
     "name": "stdin",
     "output_type": "stream",
     "text": [
      "enter amount in digites: 23\n",
      "enter amount in digites: 3\n"
     ]
    },
    {
     "name": "stdout",
     "output_type": "stream",
     "text": [
      "233\n"
     ]
    }
   ],
   "source": [
    "amount1=input(\"enter amount in digites:\")\n",
    "amount2=input(\"enter amount in digites:\")\n",
    "print(amount1 + amount2)"
   ]
  },
  {
   "cell_type": "code",
   "execution_count": 11,
   "id": "9b5beb0a-bd92-40b0-9e17-beb65f3ca7d3",
   "metadata": {},
   "outputs": [
    {
     "name": "stdin",
     "output_type": "stream",
     "text": [
      "enter amount in digites: 12\n",
      "enter amount in digites: 23\n"
     ]
    },
    {
     "name": "stdout",
     "output_type": "stream",
     "text": [
      "35\n"
     ]
    }
   ],
   "source": [
    "amount1=int(input(\"enter amount in digites:\"))\n",
    "amount2=int(input(\"enter amount in digites:\"))\n",
    "print(amount1 + amount2)"
   ]
  },
  {
   "cell_type": "markdown",
   "id": "44dd0b60-10ed-4d7e-ba4e-c4551a093819",
   "metadata": {},
   "source": [
    "# Basic calculator"
   ]
  },
  {
   "cell_type": "code",
   "execution_count": 15,
   "id": "b8c1bc2b-37cc-4cf6-bc28-31a73b4f3d8b",
   "metadata": {},
   "outputs": [
    {
     "name": "stdin",
     "output_type": "stream",
     "text": [
      "enter first number: 23\n",
      "enter second number: 23\n"
     ]
    },
    {
     "name": "stdout",
     "output_type": "stream",
     "text": [
      "46.0\n"
     ]
    }
   ],
   "source": [
    "number1=float(input(\"enter first number:\"))\n",
    "number2=float(input(\"enter second number:\"))\n",
    "result=number1 + number2\n",
    "print(result)\n",
    "                         "
   ]
  },
  {
   "cell_type": "code",
   "execution_count": 17,
   "id": "4bd5c6b6-f041-4ff0-a8a2-e179c34ac9fb",
   "metadata": {
    "scrolled": true
   },
   "outputs": [
    {
     "name": "stdin",
     "output_type": "stream",
     "text": [
      "enter first dig1: 23\n",
      "enter second dig2: 23\n"
     ]
    },
    {
     "name": "stdout",
     "output_type": "stream",
     "text": [
      "0.0\n"
     ]
    }
   ],
   "source": [
    "dig1=float(input(\"enter first dig1:\"))\n",
    "dig2=float(input(\"enter second dig2:\"))\n",
    "result=dig1 - dig2\n",
    "print(result\n",
    "     "
   ]
  },
  {
   "cell_type": "code",
   "execution_count": 18,
   "id": "cc05edad-366a-477e-a4ba-d5900e69046a",
   "metadata": {},
   "outputs": [
    {
     "name": "stdin",
     "output_type": "stream",
     "text": [
      "enter first dig1: 23\n",
      "enter second dig2: 34\n"
     ]
    },
    {
     "name": "stdout",
     "output_type": "stream",
     "text": [
      "782.0\n"
     ]
    }
   ],
   "source": [
    "dig1=float(input(\"enter first dig1:\"))\n",
    "dig2=float(input(\"enter second dig2:\"))\n",
    "result=dig1 * dig2\n",
    "print(result)"
   ]
  },
  {
   "cell_type": "markdown",
   "id": "63eebc4e-2ac8-45bc-8124-e7f238f8efbb",
   "metadata": {},
   "source": [
    "#  conditional statement (if else elif)"
   ]
  },
  {
   "cell_type": "markdown",
   "id": "5455f553-002c-465f-b9b9-5959b2356104",
   "metadata": {},
   "source": [
    "# Making  simple Calculator"
   ]
  },
  {
   "cell_type": "code",
   "execution_count": 32,
   "id": "09434d30-d788-4352-82a4-a502985e54e8",
   "metadata": {},
   "outputs": [
    {
     "name": "stdin",
     "output_type": "stream",
     "text": [
      "enter first number: 67\n",
      "enter second number: 9+\n"
     ]
    },
    {
     "ename": "ValueError",
     "evalue": "invalid literal for int() with base 10: '9+'",
     "output_type": "error",
     "traceback": [
      "\u001b[1;31m---------------------------------------------------------------------------\u001b[0m",
      "\u001b[1;31mValueError\u001b[0m                                Traceback (most recent call last)",
      "Cell \u001b[1;32mIn[32], line 2\u001b[0m\n\u001b[0;32m      1\u001b[0m n1\u001b[38;5;241m=\u001b[39m\u001b[38;5;28mint\u001b[39m(\u001b[38;5;28minput\u001b[39m(\u001b[38;5;124m\"\u001b[39m\u001b[38;5;124menter first number:\u001b[39m\u001b[38;5;124m\"\u001b[39m))\n\u001b[1;32m----> 2\u001b[0m n2\u001b[38;5;241m=\u001b[39m\u001b[38;5;28mint\u001b[39m(\u001b[38;5;28minput\u001b[39m(\u001b[38;5;124m\"\u001b[39m\u001b[38;5;124menter second number:\u001b[39m\u001b[38;5;124m\"\u001b[39m))\n\u001b[0;32m      3\u001b[0m opretors\u001b[38;5;241m=\u001b[39m \u001b[38;5;28minput\u001b[39m( \u001b[38;5;124m\"\u001b[39m\u001b[38;5;124menter opretors :\u001b[39m\u001b[38;5;124m'\u001b[39m\u001b[38;5;124m+\u001b[39m\u001b[38;5;124m'\u001b[39m\u001b[38;5;124m , \u001b[39m\u001b[38;5;124m'\u001b[39m\u001b[38;5;124m-\u001b[39m\u001b[38;5;124m'\u001b[39m\u001b[38;5;124m , \u001b[39m\u001b[38;5;124m'\u001b[39m\u001b[38;5;124m/\u001b[39m\u001b[38;5;124m'\u001b[39m\u001b[38;5;124m \u001b[39m\u001b[38;5;124m\"\u001b[39m)\n\u001b[0;32m      4\u001b[0m \u001b[38;5;28;01mif\u001b[39;00m opretors \u001b[38;5;241m==\u001b[39m \u001b[38;5;124m'\u001b[39m\u001b[38;5;124m+ \u001b[39m\u001b[38;5;124m'\u001b[39m:\n",
      "\u001b[1;31mValueError\u001b[0m: invalid literal for int() with base 10: '9+'"
     ]
    }
   ],
   "source": [
    "n1=int(input(\"enter first number:\"))\n",
    "n2=int(input(\"enter second number:\"))\n",
    "opretors= input( \"enter opretors :'+' , '-' , '/' \")\n",
    "if opretors == '+ ':\n",
    "    result=n1 + n2\n",
    "elif opretors == '- ':\n",
    "    result=n1 - n2\n",
    "elif opretors == '*':\n",
    "    result=n1* n2\n",
    "elif opretors =='/':\n",
    "    result=n1/n2\n",
    "else:\n",
    "    print(result)"
   ]
  },
  {
   "cell_type": "code",
   "execution_count": 2,
   "id": "9df5efd0-6ab4-4b0e-a820-51d11eed8f20",
   "metadata": {},
   "outputs": [
    {
     "name": "stdin",
     "output_type": "stream",
     "text": [
      "enter first number: 12\n",
      "enter second number: 12\n",
      "enter opretors (+ , -, * , /): -\n"
     ]
    },
    {
     "name": "stdout",
     "output_type": "stream",
     "text": [
      "result 0\n"
     ]
    }
   ],
   "source": [
    "n1=int(input(\"enter first number:\"))\n",
    "n2=int(input(\"enter second number:\"))\n",
    "opretors= input( \"enter opretors (+ , -, * , /):\")\n",
    "if opretors == '+':\n",
    "    result=n1 + n2\n",
    "elif opretors == '-':\n",
    "    result=n1 - n2\n",
    "elif opretors == '*':\n",
    "    result=n1 * n2\n",
    "elif opretors == '/':\n",
    "    if n2!= 0:\n",
    "        result= n1 / n2\n",
    "    else:\n",
    "        result = \"error! division by zero\"\n",
    "else:\n",
    "    result = \"invalid opretors\"\n",
    "print(\"result\",result)"
   ]
  },
  {
   "cell_type": "code",
   "execution_count": 42,
   "id": "75958086-7803-453c-84e4-8d7729447e63",
   "metadata": {},
   "outputs": [
    {
     "name": "stdin",
     "output_type": "stream",
     "text": [
      "enter d : 1\n",
      "enter d : 1\n",
      "enter opretors(+, -,*,/): %\n"
     ]
    },
    {
     "name": "stdout",
     "output_type": "stream",
     "text": [
      "result invalid oprestors\n"
     ]
    }
   ],
   "source": [
    "d1=int(input(\"enter d :\"))\n",
    "d2=int(input(\"enter d :\"))\n",
    "opretors=input(\"enter opretors(+, -,*,/):\")\n",
    "if opretors == '+':\n",
    "    result= d1 + d2\n",
    "elif opretors == '-':\n",
    "    result=d1 + d2\n",
    "elif opretors == '*':\n",
    "    result=d1 * d2\n",
    "elif opretors == '/':\n",
    "    if d2!= 0:\n",
    "        result=d1 / d2\n",
    "    else:\n",
    "        result=\"error divison\"\n",
    "else:\n",
    "    result=\"invalid oprestors\"\n",
    "print(\"result\",result)"
   ]
  },
  {
   "cell_type": "markdown",
   "id": "aee1fa70-945e-413e-bf6e-5f287b83718a",
   "metadata": {},
   "source": [
    "# Making gest room menu  and charges"
   ]
  },
  {
   "cell_type": "code",
   "execution_count": null,
   "id": "9ab72e62-bef9-4a7a-964a-eb2f6aa75d64",
   "metadata": {},
   "outputs": [],
   "source": [
    "\"\"\"Gest=int(input(\"how many people:\"))\n",
    "#room charges start= 2000 ,3000,5000\n",
    "Room_charges =int(input(\"enter your budget(5000 , 40000,3000):\"))\n",
    "if Room_charges == 5000:\n",
    "    total_charge= Room_charges * Gest\n",
    "elif Room_charges == 4000:\n",
    "    total_charge=Room_charges* Gest\n",
    "elif Room_charges == 3000:\n",
    "    total_charge =Room_charges *Gest\n",
    "else:\n",
    "    print(\"this is not my room charges\")\n",
    "#print(\"Totalbill=\",total_charge)\n",
    "\"\"\"\n",
    "\n"
   ]
  },
  {
   "cell_type": "markdown",
   "id": "40a55cc0-74aa-45c8-a56e-e624a4d36695",
   "metadata": {},
   "source": [
    "# Making Traffic Simulator"
   ]
  },
  {
   "cell_type": "code",
   "execution_count": 11,
   "id": "0889e690-6319-4321-8e4c-c15fce4d4660",
   "metadata": {},
   "outputs": [
    {
     "name": "stdin",
     "output_type": "stream",
     "text": [
      "single: red\n"
     ]
    },
    {
     "name": "stdout",
     "output_type": "stream",
     "text": [
      "stop\n"
     ]
    }
   ],
   "source": [
    "signal=\"red\",\"yellow\",\"red\"\n",
    "signal=input(\"single:\")\n",
    "if signal == \"red\":\n",
    "    print(\"stop\")\n",
    "elif  signal == \"yellow\":\n",
    "    print(\"ready\")\n",
    "elif  signal == \"red\":\n",
    "    print(\"stop\")\n",
    "else:\n",
    "    print(\"wrong input\")\n",
    "    print(signal)"
   ]
  },
  {
   "cell_type": "markdown",
   "id": "fd9c8de7-b7ec-45cd-8476-46277083131f",
   "metadata": {},
   "source": [
    "# Temperature Converter Rules"
   ]
  },
  {
   "cell_type": "code",
   "execution_count": 13,
   "id": "376173d9-a8a9-4f4d-9ba7-a122096f1a67",
   "metadata": {},
   "outputs": [
    {
     "name": "stdin",
     "output_type": "stream",
     "text": [
      "enter temerature : 2\n",
      "enter unit(celsius,fahrenheit,kelvin): celsius\n"
     ]
    },
    {
     "name": "stdout",
     "output_type": "stream",
     "text": [
      "2celsius\n"
     ]
    }
   ],
   "source": [
    "tem=input(\"enter temerature :\")\n",
    "unit=input(\"enter unit(celsius,fahrenheit,kelvin):\")\n",
    "print(tem + unit)\n"
   ]
  },
  {
   "cell_type": "code",
   "execution_count": 3,
   "id": "c02e8f8e-d325-465e-9419-816ccaa68f2f",
   "metadata": {},
   "outputs": [
    {
     "name": "stdin",
     "output_type": "stream",
     "text": [
      "enter mp digest(%): 2\n",
      "enter discount%: 2\n"
     ]
    },
    {
     "name": "stdout",
     "output_type": "stream",
     "text": [
      "da 0.04\n",
      "sd 1.96\n"
     ]
    }
   ],
   "source": [
    "mp= int(input(\"enter mp digest(%):\"))\n",
    "discount=int(input(\"enter discount%:\"))\n",
    "discount=(mp * discount)/100\n",
    "sp=mp - discount\n",
    "print(\"da\" ,discount)\n",
    "print(\"sd\",sp)"
   ]
  },
  {
   "cell_type": "code",
   "execution_count": 39,
   "id": "9cf40f3c-1c13-4464-91db-dc495f9d05bb",
   "metadata": {},
   "outputs": [
    {
     "name": "stdin",
     "output_type": "stream",
     "text": [
      "enter number: 11\n",
      "enter number: 11\n",
      "enter opretors(+,-,*,/,%): %\n"
     ]
    },
    {
     "name": "stdout",
     "output_type": "stream",
     "text": [
      "result= invalid opretors\n"
     ]
    }
   ],
   "source": [
    "digit1=float(input(\"enter number:\"))\n",
    "digit2=float(input(\"enter number:\"))\n",
    "opretors=input(\"enter opretors(+,-,*,/,%):\")\n",
    "if opretors == '+':\n",
    "    result= digit1 + digit2\n",
    "elif opretors == '-':\n",
    "    result= digit1 - digit2\n",
    "elif opretors == '*':\n",
    "    result= digit1 * digit2\n",
    "elif opretors == '/':\n",
    "    if digit2!= 0:\n",
    "        result =digit1 / digit2\n",
    "    else:\n",
    "        result=\"error show\"\n",
    "else:\n",
    "    result=\"invalid opretors\"\n",
    "print(\"result=\",result)"
   ]
  },
  {
   "cell_type": "markdown",
   "id": "d5dfc18b-037b-4bb8-9802-241b237c76bd",
   "metadata": {},
   "source": [
    "# Discount Calculators"
   ]
  },
  {
   "cell_type": "code",
   "execution_count": 7,
   "id": "311dcb6d-3c73-4bdb-a99b-f8cb97d3abb8",
   "metadata": {},
   "outputs": [
    {
     "name": "stdin",
     "output_type": "stream",
     "text": [
      "enter market_price: 10000\n",
      "enter discount: 10\n"
     ]
    },
    {
     "name": "stdout",
     "output_type": "stream",
     "text": [
      "total discount 1000.0\n",
      "selling_price 9000.0\n"
     ]
    }
   ],
   "source": [
    "market_price= int(input(\"enter market_price:\"))\n",
    "discount=int(input(\"enter discount:\"))\n",
    "discount=(market_price * discount)/100\n",
    "selling_price= market_price - discount\n",
    "print(\"total discount\",discount)\n",
    "print(\"selling_price\",selling_price)\n"
   ]
  },
  {
   "cell_type": "code",
   "execution_count": 8,
   "id": "6449a332-a05c-4c8c-95cd-318ece43a42d",
   "metadata": {},
   "outputs": [
    {
     "name": "stdin",
     "output_type": "stream",
     "text": [
      " 100\n"
     ]
    },
    {
     "name": "stdout",
     "output_type": "stream",
     "text": [
      "100\n"
     ]
    }
   ],
   "source": [
    "number=input()\n",
    "print(number)"
   ]
  },
  {
   "cell_type": "code",
   "execution_count": 9,
   "id": "3119359b-1cb2-4b26-bf36-d054872abbc5",
   "metadata": {},
   "outputs": [
    {
     "name": "stdin",
     "output_type": "stream",
     "text": [
      "enter number 10\n"
     ]
    },
    {
     "name": "stdout",
     "output_type": "stream",
     "text": [
      "10\n"
     ]
    }
   ],
   "source": [
    "num1=input(\"enter number\")\n",
    "print(num1)"
   ]
  },
  {
   "cell_type": "code",
   "execution_count": 12,
   "id": "c31451e5-7fa0-43cd-99dc-3fdea728ea1f",
   "metadata": {},
   "outputs": [
    {
     "name": "stdin",
     "output_type": "stream",
     "text": [
      "enter name dd\n"
     ]
    },
    {
     "name": "stdout",
     "output_type": "stream",
     "text": [
      "dd\n"
     ]
    }
   ],
   "source": [
    "your_name=input(\"enter name\")\n",
    "print(your_name)"
   ]
  },
  {
   "cell_type": "code",
   "execution_count": 16,
   "id": "91b9f14f-991b-4c57-9273-eea58cb1adeb",
   "metadata": {},
   "outputs": [
    {
     "name": "stdout",
     "output_type": "stream",
     "text": [
      "10\n"
     ]
    }
   ],
   "source": [
    "x=2\n",
    "y=5\n",
    "result=x*y\n",
    "print(result)"
   ]
  },
  {
   "cell_type": "code",
   "execution_count": 17,
   "id": "15059412-503e-4129-b680-9ab51d7d70cd",
   "metadata": {},
   "outputs": [
    {
     "name": "stdin",
     "output_type": "stream",
     "text": [
      "enter number 12\n"
     ]
    },
    {
     "name": "stdout",
     "output_type": "stream",
     "text": [
      "<class 'float'>\n"
     ]
    }
   ],
   "source": [
    "num1=float(input(\"enter number\"))\n",
    "print(type(num1))"
   ]
  },
  {
   "cell_type": "code",
   "execution_count": 36,
   "id": "98f50184-bbdb-4073-8f31-bac0af387965",
   "metadata": {},
   "outputs": [
    {
     "name": "stdin",
     "output_type": "stream",
     "text": [
      "enter first num: 100\n",
      "enter second num: 1\n"
     ]
    },
    {
     "name": "stdout",
     "output_type": "stream",
     "text": [
      "out of order\n"
     ]
    }
   ],
   "source": [
    "num1=float(input(\"enter first num:\"))\n",
    "num2=float(input(\"enter second num:\"))\n",
    "if num1 * num2 > num1:\n",
    "    print(\"good amount\")\n",
    "elif num1 * num2 < 15:\n",
    "    print(\"nice\")\n",
    "else:\n",
    "    print(\"out of order\")"
   ]
  },
  {
   "cell_type": "code",
   "execution_count": 38,
   "id": "a38a34cc-7cad-40ad-a513-acd4a6bbeee1",
   "metadata": {},
   "outputs": [
    {
     "ename": "IndentationError",
     "evalue": "expected an indented block after 'if' statement on line 3 (4158531351.py, line 4)",
     "output_type": "error",
     "traceback": [
      "\u001b[1;36m  Cell \u001b[1;32mIn[38], line 4\u001b[1;36m\u001b[0m\n\u001b[1;33m    ingrediants= \"lemon\" + \"water\"\u001b[0m\n\u001b[1;37m    ^\u001b[0m\n\u001b[1;31mIndentationError\u001b[0m\u001b[1;31m:\u001b[0m expected an indented block after 'if' statement on line 3\n"
     ]
    }
   ],
   "source": [
    "tea=[\"lemon_tea\",\"milk_tea\",\"masala_tea\"]\n",
    "user_choice=input(\"enter choice:\")\n",
    "if tea == \"lemon_tea\":\n",
    "ingrediants= \"lemon\" + \"water\" \n",
    "elif tea== \"milk_tea\":\n",
    "ingrediants=\"milk\" + \"water\"\n",
    "elif tea == \"masala_tea\":\n",
    "ingrediants=\"milk\",\"water\",\"ginger\",\"tea\"\n",
    "else:\n",
    "print(\"this tea is not valid\")"
   ]
  },
  {
   "cell_type": "code",
   "execution_count": 49,
   "id": "46a096f6-b0bb-4acf-a1dc-58d7e85aa4ec",
   "metadata": {},
   "outputs": [
    {
     "name": "stdin",
     "output_type": "stream",
     "text": [
      "enter choice: lemon_tea\n"
     ]
    },
    {
     "name": "stdout",
     "output_type": "stream",
     "text": [
      "your tea: lemon_tea\n"
     ]
    }
   ],
   "source": [
    "tea=[\"lemon_tea\",\"milk_tea\",\"masala_tea\"]\n",
    "tea_your=input(\"enter choice:\")\n",
    "lemon_tea=[\"lemon\",\"water\",\"tea\",\"leave\"]\n",
    "milk_tea=[\"milk\",\"water\"]\n",
    "masala_tea=[\"leaves\",\"water\",\"ginger\"]\n",
    "if tea_your == \"lemon_tea\":\n",
    "    make=lemon_tea\n",
    "elif tea_your == \"milk_tea\":\n",
    "    make=milk_tea\n",
    "elif tea_your == \"masala_tea\":\n",
    "    make=masala_tea\n",
    "else:\n",
    "    print(\"this tea is not available\")\n",
    "print(\"your tea:\" ,tea_your)"
   ]
  },
  {
   "cell_type": "code",
   "execution_count": 9,
   "id": "d31a0cc9-9809-41e6-8032-a1086a08343a",
   "metadata": {},
   "outputs": [
    {
     "name": "stdin",
     "output_type": "stream",
     "text": [
      "enter ingrediant(lemon,water,tea,leaves,ginger,condmomo): lemon,water,tea,leaves\n"
     ]
    },
    {
     "ename": "NameError",
     "evalue": "name 'lemon' is not defined",
     "output_type": "error",
     "traceback": [
      "\u001b[1;31m---------------------------------------------------------------------------\u001b[0m",
      "\u001b[1;31mNameError\u001b[0m                                 Traceback (most recent call last)",
      "Cell \u001b[1;32mIn[9], line 3\u001b[0m\n\u001b[0;32m      1\u001b[0m Tea\u001b[38;5;241m=\u001b[39m[\u001b[38;5;124m\"\u001b[39m\u001b[38;5;124mlemon tea\u001b[39m\u001b[38;5;124m\"\u001b[39m,\u001b[38;5;124m\"\u001b[39m\u001b[38;5;124mmilk tea\u001b[39m\u001b[38;5;124m\"\u001b[39m,\u001b[38;5;124m\"\u001b[39m\u001b[38;5;124mmasala tea\u001b[39m\u001b[38;5;124m\"\u001b[39m]\n\u001b[0;32m      2\u001b[0m ingreadiant\u001b[38;5;241m=\u001b[39m\u001b[38;5;28minput\u001b[39m(\u001b[38;5;124m\"\u001b[39m\u001b[38;5;124menter ingrediant(lemon,water,tea,leaves,ginger,condmomo):\u001b[39m\u001b[38;5;124m\"\u001b[39m)\n\u001b[1;32m----> 3\u001b[0m \u001b[38;5;28;01mif\u001b[39;00m ingreadiant \u001b[38;5;129;01min\u001b[39;00m [lemon,water,tea,leaves]:\n\u001b[0;32m      4\u001b[0m     make\u001b[38;5;241m=\u001b[39m\u001b[38;5;124m\"\u001b[39m\u001b[38;5;124mlemon tea\u001b[39m\u001b[38;5;124m\"\u001b[39m\n\u001b[0;32m      5\u001b[0m     \u001b[38;5;28mprint\u001b[39m(\u001b[38;5;124m\"\u001b[39m\u001b[38;5;124mlemon tea\u001b[39m\u001b[38;5;124m\"\u001b[39m)\n",
      "\u001b[1;31mNameError\u001b[0m: name 'lemon' is not defined"
     ]
    }
   ],
   "source": [
    "Tea=[\"lemon tea\",\"milk tea\",\"masala tea\"]\n",
    "ingreadiant=input(\"enter ingrediant(lemon,water,tea,leaves,ginger,condmomo):\")\n",
    "if ingreadiant in [lemon,water,tea,leaves]:\n",
    "    make=\"lemon tea\"\n",
    "    print(\"lemon tea\")\n",
    "elif ingreadiant in [milk,water,tea,leaves]:\n",
    "    make=\"milk tea\"\n",
    "    print(\"milk tea\")\n",
    "elif  ingreadiant in [milk,water,tea,leaves,ginger,condmomo]:\n",
    "    make=\"masala tea\"\n",
    "else:\n",
    "    print(\"this ingreadiant is not available our list\")\n"
   ]
  },
  {
   "cell_type": "code",
   "execution_count": 27,
   "id": "07d6db71-0a0b-49d3-b415-0f3dbeb393b3",
   "metadata": {},
   "outputs": [
    {
     "name": "stdin",
     "output_type": "stream",
     "text": [
      "enter ingrediant(lemon,water,tea,leaves,ginger,condmomo): tea\n"
     ]
    },
    {
     "name": "stdout",
     "output_type": "stream",
     "text": [
      "this ingreadiant is not available our list\n",
      "your tea: lemon tea\n"
     ]
    }
   ],
   "source": [
    "Tea=[\"lemon tea\",\"milk tea\",\"masala tea\"]\n",
    "ingreadiant=input(\"enter ingrediant(lemon,water,tea,leaves,ginger,condmomo):\")\n",
    "if ingreadiant in [\"lemon\",\"water\",\"tea\",\"leaves\",\"ginger\",\"condmomo\",\"milk\"]:\n",
    "    if ingreadiant == \"lemon\":\n",
    "        make=\"lemon tea\"\n",
    "        print(\"lemon tea\")\n",
    "    elif ingreadiant == \"milk\":\n",
    "        make=\"milk tea\"\n",
    "        print(\"milk tea\")\n",
    "    elif ingreadiant == \"condmomo\":\n",
    "        make=\"masala tea\"\n",
    "        print(\"our order tea\",make)\n",
    "    else:\n",
    "        print(\"this ingreadiant is not available our list\")\n",
    "print(\"your tea:\" , make)"
   ]
  },
  {
   "cell_type": "code",
   "execution_count": null,
   "id": "3a6fe1d0-5dd7-4626-b0b2-b68230138f9d",
   "metadata": {
    "scrolled": true
   },
   "outputs": [],
   "source": [
    "Tea=[\"lemon tea\",\"milk tea\",\"masala tea\"]\n",
    "ingreadiant=input(\"enter ingrediant(lemon,water,tea,leaves,ginger,condmomo,milk):\")\n",
    "if ingreadiant in [\"lemon\",\"water\",\"tea\",\"leaves\"]:\n",
    "    make=\"lemon tea\",\n",
    "    print(\"lemon tea\")\n",
    "elif ingreadiant in  [\"milk\",\"water\",\"tea\",\"leaves\"]:\n",
    "    make=\"milk tea\"\n",
    "    print(\"milk tea\")\n",
    "elif ingreadiant in [\"water\",\"tea\",\"leaves\",\"ginger\",\"condmomo\",\"milk\"]:\n",
    "    make=\"masala tea\"\n",
    "    print(\"masala tea\")\n",
    "else:\n",
    "    print(\"this ingreadiant is not available our list\")\n",
    "print(\"your tea:\" , make)"
   ]
  },
  {
   "cell_type": "code",
   "execution_count": 29,
   "id": "77cd63b0-d876-4d4a-8455-d049b8352731",
   "metadata": {},
   "outputs": [
    {
     "name": "stdin",
     "output_type": "stream",
     "text": [
      "enter choice: ee\n"
     ]
    },
    {
     "name": "stdout",
     "output_type": "stream",
     "text": [
      "this ingreadiant is not available our list\n"
     ]
    },
    {
     "ename": "NameError",
     "evalue": "name 'make' is not defined",
     "output_type": "error",
     "traceback": [
      "\u001b[1;31m---------------------------------------------------------------------------\u001b[0m",
      "\u001b[1;31mNameError\u001b[0m                                 Traceback (most recent call last)",
      "Cell \u001b[1;32mIn[29], line 11\u001b[0m\n\u001b[0;32m      9\u001b[0m \u001b[38;5;28;01melse\u001b[39;00m:\n\u001b[0;32m     10\u001b[0m     \u001b[38;5;28mprint\u001b[39m(\u001b[38;5;124m\"\u001b[39m\u001b[38;5;124mthis ingreadiant is not available our list\u001b[39m\u001b[38;5;124m\"\u001b[39m)\n\u001b[1;32m---> 11\u001b[0m \u001b[38;5;28mprint\u001b[39m(\u001b[38;5;124m\"\u001b[39m\u001b[38;5;124myour tea:\u001b[39m\u001b[38;5;124m\"\u001b[39m , make)\n",
      "\u001b[1;31mNameError\u001b[0m: name 'make' is not defined"
     ]
    }
   ],
   "source": [
    "Tea=[\"lemon tea\",\"milk tea\",\"masala tea\"]\n",
    "tea=input(\"enter choice:\")\n",
    "if tea == \"lemon tea\":\n",
    "    make=lemon + water + tea \n",
    "elif tea == \"milk tea\":\n",
    "    make=milk + water + tea\n",
    "elif tea == \"masala tea\":\n",
    "    make=milk + water + tea + leaves+ ginger + condmomo + milk\n",
    "else:\n",
    "    print(\"this ingreadiant is not available our list\")\n",
    "print(\"your tea:\" , make)"
   ]
  },
  {
   "cell_type": "code",
   "execution_count": 1,
   "id": "35ab8b8d-3c48-42ad-82a1-1b9524506221",
   "metadata": {},
   "outputs": [
    {
     "name": "stdin",
     "output_type": "stream",
     "text": [
      "enter name: neha ,manisha\n"
     ]
    },
    {
     "name": "stdout",
     "output_type": "stream",
     "text": [
      "<class 'list'>\n"
     ]
    }
   ],
   "source": [
    "name=list(input(\"enter name:\"))\n",
    "print(list)"
   ]
  },
  {
   "cell_type": "code",
   "execution_count": 2,
   "id": "0035d1f8-ce2f-435c-9a04-85d827b70208",
   "metadata": {},
   "outputs": [
    {
     "name": "stdin",
     "output_type": "stream",
     "text": [
      "enter name: {neha}\n"
     ]
    },
    {
     "name": "stdout",
     "output_type": "stream",
     "text": [
      "<class 'set'>\n"
     ]
    }
   ],
   "source": [
    "name=set(input(\"enter name:\"))\n",
    "print(set)"
   ]
  },
  {
   "cell_type": "code",
   "execution_count": 4,
   "id": "2b14dc68-1c80-4650-865d-b1c471fcdf16",
   "metadata": {},
   "outputs": [
    {
     "name": "stdin",
     "output_type": "stream",
     "text": [
      "enter name: {name:\"neha\"}\n"
     ]
    },
    {
     "ename": "ValueError",
     "evalue": "dictionary update sequence element #0 has length 1; 2 is required",
     "output_type": "error",
     "traceback": [
      "\u001b[1;31m---------------------------------------------------------------------------\u001b[0m",
      "\u001b[1;31mValueError\u001b[0m                                Traceback (most recent call last)",
      "Cell \u001b[1;32mIn[4], line 1\u001b[0m\n\u001b[1;32m----> 1\u001b[0m age\u001b[38;5;241m=\u001b[39m\u001b[38;5;28mdict\u001b[39m(\u001b[38;5;28minput\u001b[39m(\u001b[38;5;124m\"\u001b[39m\u001b[38;5;124menter name:\u001b[39m\u001b[38;5;124m\"\u001b[39m))\n\u001b[0;32m      2\u001b[0m \u001b[38;5;28mprint\u001b[39m(age)\n",
      "\u001b[1;31mValueError\u001b[0m: dictionary update sequence element #0 has length 1; 2 is required"
     ]
    }
   ],
   "source": [
    "age=dict(input(\"enter name:\"))\n",
    "print(age)"
   ]
  },
  {
   "cell_type": "code",
   "execution_count": 6,
   "id": "397641a5-31aa-41ec-8f25-53d55d5233aa",
   "metadata": {},
   "outputs": [
    {
     "name": "stdin",
     "output_type": "stream",
     "text": [
      "enter name: uu\n"
     ]
    },
    {
     "name": "stdout",
     "output_type": "stream",
     "text": [
      "('u', 'u')\n"
     ]
    }
   ],
   "source": [
    "age=tuple(input(\"enter name:\"))\n",
    "print(age)"
   ]
  },
  {
   "cell_type": "markdown",
   "id": "537ede7a-3c83-4c3c-ad0f-c7f764871741",
   "metadata": {},
   "source": [
    "# Get Multiple inputs from a user in one line: use of split () function\n"
   ]
  },
  {
   "cell_type": "markdown",
   "id": "02609837-40b9-44ad-91fe-c48ebc74255b",
   "metadata": {},
   "source": [
    "***in python it is possible to get multiple values from the user in one line.we can accepttwo or three values from the user\n",
    "for example in a single exection of the input() function ,we can ask the user his/hername,age\n",
    "and phone  number***"
   ]
  },
  {
   "cell_type": "code",
   "execution_count": 21,
   "id": "5d520f0c-f515-4373-8f78-fba6aba20248",
   "metadata": {},
   "outputs": [
    {
     "name": "stdout",
     "output_type": "stream",
     "text": [
      "<class 'list'>\n",
      "['hello', 'how', 'are', 'you', 'today']\n"
     ]
    }
   ],
   "source": [
    "sentence=\"hello how are you today\"\n",
    "word=sentence.split()\n",
    "print(type(word))\n",
    "print(word)"
   ]
  },
  {
   "cell_type": "code",
   "execution_count": 18,
   "id": "05bcd891-05dc-41e9-b4f2-26a949b4e55f",
   "metadata": {},
   "outputs": [
    {
     "name": "stdout",
     "output_type": "stream",
     "text": [
      "<class 'list'>\n"
     ]
    }
   ],
   "source": [
    "sentence=\"hello how are you today\"\n",
    "word=sentence.split()\n",
    "print(type(word))"
   ]
  },
  {
   "cell_type": "code",
   "execution_count": 16,
   "id": "2dec8867-3940-4a7d-b64a-7650e92d3f7a",
   "metadata": {},
   "outputs": [
    {
     "name": "stdout",
     "output_type": "stream",
     "text": [
      "<class 'list'>\n"
     ]
    }
   ],
   "source": [
    "number=\"10,20,30,40,50\"\n",
    "values= number.split(\",\")\n",
    "print(type(values))"
   ]
  },
  {
   "cell_type": "code",
   "execution_count": 22,
   "id": "3cddaaad-3a89-49b3-a066-09fa46000019",
   "metadata": {},
   "outputs": [
    {
     "ename": "SyntaxError",
     "evalue": "'(' was never closed (1717531461.py, line 2)",
     "output_type": "error",
     "traceback": [
      "\u001b[1;36m  Cell \u001b[1;32mIn[22], line 2\u001b[1;36m\u001b[0m\n\u001b[1;33m    word=sentence.split(#)\u001b[0m\n\u001b[1;37m                       ^\u001b[0m\n\u001b[1;31mSyntaxError\u001b[0m\u001b[1;31m:\u001b[0m '(' was never closed\n"
     ]
    }
   ],
   "source": [
    "sentence=\"hello how are you today\"# splitting by default\n",
    "word=sentence.split(#)\n",
    "print(type(word))\n",
    "print(word)"
   ]
  },
  {
   "cell_type": "code",
   "execution_count": 24,
   "id": "077f7766-a9c6-4a4f-8ea6-c3fe6ff2bb00",
   "metadata": {},
   "outputs": [
    {
     "name": "stdout",
     "output_type": "stream",
     "text": [
      "<class 'list'>\n",
      "['hello how are you today']\n"
     ]
    }
   ],
   "source": [
    "sentence=\"hello how are you today\"\n",
    "word=sentence.split(\"#\")#splitting by comma\n",
    "print(type(word))\n",
    "print(word)"
   ]
  },
  {
   "cell_type": "code",
   "execution_count": 10,
   "id": "2a195082-28cf-4b20-8e7d-53fd35cbfe14",
   "metadata": {
    "scrolled": true
   },
   "outputs": [
    {
     "ename": "ValueError",
     "evalue": "not enough values to unpack (expected 3, got 2)",
     "output_type": "error",
     "traceback": [
      "\u001b[1;31m---------------------------------------------------------------------------\u001b[0m",
      "\u001b[1;31mValueError\u001b[0m                                Traceback (most recent call last)",
      "Cell \u001b[1;32mIn[10], line 2\u001b[0m\n\u001b[0;32m      1\u001b[0m date\u001b[38;5;241m=\u001b[39m\u001b[38;5;124m\"\u001b[39m\u001b[38;5;124m2023*6*\u001b[39m\u001b[38;5;124m\"\u001b[39m\n\u001b[1;32m----> 2\u001b[0m year,month,date\u001b[38;5;241m=\u001b[39mdate\u001b[38;5;241m.\u001b[39msplit(\u001b[38;5;124m\"\u001b[39m\u001b[38;5;124m6\u001b[39m\u001b[38;5;124m\"\u001b[39m)\n\u001b[0;32m      3\u001b[0m \u001b[38;5;28mprint\u001b[39m(year,month,date)\n",
      "\u001b[1;31mValueError\u001b[0m: not enough values to unpack (expected 3, got 2)"
     ]
    }
   ],
   "source": [
    "date=\"2023*6*\"\n",
    "year,month,date=date.split(\"6\")\n",
    "print(year,month,date)"
   ]
  },
  {
   "cell_type": "code",
   "execution_count": 32,
   "id": "e241305a-1b7f-4981-8a13-0fab5d82fbfc",
   "metadata": {},
   "outputs": [
    {
     "ename": "ValueError",
     "evalue": "too many values to unpack (expected 3)",
     "output_type": "error",
     "traceback": [
      "\u001b[1;31m---------------------------------------------------------------------------\u001b[0m",
      "\u001b[1;31mValueError\u001b[0m                                Traceback (most recent call last)",
      "Cell \u001b[1;32mIn[32], line 2\u001b[0m\n\u001b[0;32m      1\u001b[0m date\u001b[38;5;241m=\u001b[39m\u001b[38;5;124m\"\u001b[39m\u001b[38;5;124m2023*6*6$44$$\u001b[39m\u001b[38;5;124m\"\u001b[39m\n\u001b[1;32m----> 2\u001b[0m year,month,date\u001b[38;5;241m=\u001b[39mdate\u001b[38;5;241m.\u001b[39msplit(\u001b[38;5;124m\"\u001b[39m\u001b[38;5;124m$\u001b[39m\u001b[38;5;124m\"\u001b[39m)\n\u001b[0;32m      3\u001b[0m \u001b[38;5;28mprint\u001b[39m(year,month,date)\n",
      "\u001b[1;31mValueError\u001b[0m: too many values to unpack (expected 3)"
     ]
    }
   ],
   "source": [
    "date=\"2023*6*6$44$$\"\n",
    "year,month,date=date.split(\"$\")\n",
    "print(year,month,date)"
   ]
  },
  {
   "cell_type": "code",
   "execution_count": 35,
   "id": "6f5ea016-de82-423c-8d44-fc50aab4c280",
   "metadata": {},
   "outputs": [
    {
     "ename": "AttributeError",
     "evalue": "'list' object has no attribute 'split'",
     "output_type": "error",
     "traceback": [
      "\u001b[1;31m---------------------------------------------------------------------------\u001b[0m",
      "\u001b[1;31mAttributeError\u001b[0m                            Traceback (most recent call last)",
      "Cell \u001b[1;32mIn[35], line 2\u001b[0m\n\u001b[0;32m      1\u001b[0m name_list\u001b[38;5;241m=\u001b[39m[\u001b[38;5;124m\"\u001b[39m\u001b[38;5;124mneha\u001b[39m\u001b[38;5;124m\"\u001b[39m,\u001b[38;5;124m\"\u001b[39m\u001b[38;5;124madtiti\u001b[39m\u001b[38;5;124m\"\u001b[39m,\u001b[38;5;124m\"\u001b[39m\u001b[38;5;124mmahi\u001b[39m\u001b[38;5;124m\"\u001b[39m]\n\u001b[1;32m----> 2\u001b[0m name_list\u001b[38;5;241m.\u001b[39msplit(\u001b[38;5;124m\"\u001b[39m\u001b[38;5;124m,\u001b[39m\u001b[38;5;124m\"\u001b[39m)\n\u001b[0;32m      3\u001b[0m \u001b[38;5;28mprint\u001b[39m(name_list)\n",
      "\u001b[1;31mAttributeError\u001b[0m: 'list' object has no attribute 'split'"
     ]
    }
   ],
   "source": [
    "name_list=[\"neha\",\"adtiti\",\"mahi\"]\n",
    "name_list.split(\",\")\n",
    "print(name_list)"
   ]
  },
  {
   "cell_type": "code",
   "execution_count": 36,
   "id": "0683055b-0721-4e20-b063-ff50750dc815",
   "metadata": {},
   "outputs": [
    {
     "ename": "AttributeError",
     "evalue": "'tuple' object has no attribute 'split'",
     "output_type": "error",
     "traceback": [
      "\u001b[1;31m---------------------------------------------------------------------------\u001b[0m",
      "\u001b[1;31mAttributeError\u001b[0m                            Traceback (most recent call last)",
      "Cell \u001b[1;32mIn[36], line 2\u001b[0m\n\u001b[0;32m      1\u001b[0m name_list\u001b[38;5;241m=\u001b[39m\u001b[38;5;124m\"\u001b[39m\u001b[38;5;124mneha\u001b[39m\u001b[38;5;124m\"\u001b[39m,\u001b[38;5;124m\"\u001b[39m\u001b[38;5;124madtiti\u001b[39m\u001b[38;5;124m\"\u001b[39m,\u001b[38;5;124m\"\u001b[39m\u001b[38;5;124mmahi\u001b[39m\u001b[38;5;124m\"\u001b[39m\n\u001b[1;32m----> 2\u001b[0m name_list\u001b[38;5;241m.\u001b[39msplit(\u001b[38;5;124m\"\u001b[39m\u001b[38;5;124m,\u001b[39m\u001b[38;5;124m\"\u001b[39m)\n\u001b[0;32m      3\u001b[0m \u001b[38;5;28mprint\u001b[39m(name_list)\n",
      "\u001b[1;31mAttributeError\u001b[0m: 'tuple' object has no attribute 'split'"
     ]
    }
   ],
   "source": [
    "name_list=\"neha\",\"adtiti\",\"mahi\"\n",
    "name_list.split(\",\")\n",
    "print(name_list)"
   ]
  },
  {
   "cell_type": "code",
   "execution_count": 37,
   "id": "e51ca57d-83e4-4337-8582-d753d8b086ef",
   "metadata": {},
   "outputs": [
    {
     "name": "stdout",
     "output_type": "stream",
     "text": [
      "neha,adtiti,mahi\n"
     ]
    }
   ],
   "source": [
    "name_list=\"neha,adtiti,mahi\"\n",
    "name_list.split(\",\")\n",
    "print(name_list)"
   ]
  },
  {
   "cell_type": "code",
   "execution_count": 45,
   "id": "3c0fcd36-7447-42e7-83fd-db6f882f0574",
   "metadata": {},
   "outputs": [
    {
     "name": "stdout",
     "output_type": "stream",
     "text": [
      "john 25 8\n"
     ]
    }
   ],
   "source": [
    "data=\"john,25,8\"\n",
    "name , age , marks=data.split(\",\")\n",
    "print(name , age , marks)"
   ]
  },
  {
   "cell_type": "code",
   "execution_count": 49,
   "id": "ae2cbb5d-3095-4fc9-b839-ab4ce277ed38",
   "metadata": {},
   "outputs": [
    {
     "ename": "ValueError",
     "evalue": "not enough values to unpack (expected 3, got 2)",
     "output_type": "error",
     "traceback": [
      "\u001b[1;31m---------------------------------------------------------------------------\u001b[0m",
      "\u001b[1;31mValueError\u001b[0m                                Traceback (most recent call last)",
      "Cell \u001b[1;32mIn[49], line 2\u001b[0m\n\u001b[0;32m      1\u001b[0m data\u001b[38;5;241m=\u001b[39m\u001b[38;5;124m\"\u001b[39m\u001b[38;5;124mjohn,25,8\u001b[39m\u001b[38;5;124m\"\u001b[39m\n\u001b[1;32m----> 2\u001b[0m name , age , marks\u001b[38;5;241m=\u001b[39mdata\u001b[38;5;241m.\u001b[39msplit(\u001b[38;5;124m\"\u001b[39m\u001b[38;5;124mjohn\u001b[39m\u001b[38;5;124m\"\u001b[39m)\n\u001b[0;32m      3\u001b[0m \u001b[38;5;28mprint\u001b[39m(name , age , marks)\n",
      "\u001b[1;31mValueError\u001b[0m: not enough values to unpack (expected 3, got 2)"
     ]
    }
   ],
   "source": [
    "data=\"john,25,8\"\n",
    "name , age , marks=data.split(\"john\")\n",
    "print(name , age , marks)"
   ]
  },
  {
   "cell_type": "code",
   "execution_count": 4,
   "id": "9cef149a-f6a6-4914-8a7e-afa1a29400cf",
   "metadata": {},
   "outputs": [
    {
     "name": "stdout",
     "output_type": "stream",
     "text": [
      "john, ,8, ,7\n"
     ]
    }
   ],
   "source": [
    "data=\"john,25,8,25,7\"\n",
    "name , age , marks=data.split(\"25\")\n",
    "print(name , age , marks)"
   ]
  },
  {
   "cell_type": "code",
   "execution_count": 7,
   "id": "ce5a5224-7092-437e-abe4-608ed9377941",
   "metadata": {},
   "outputs": [
    {
     "name": "stdin",
     "output_type": "stream",
     "text": [
      "enter your name ,age, percentage sepreted by $  uu uu uu\n"
     ]
    },
    {
     "ename": "ValueError",
     "evalue": "not enough values to unpack (expected 3, got 1)",
     "output_type": "error",
     "traceback": [
      "\u001b[1;31m---------------------------------------------------------------------------\u001b[0m",
      "\u001b[1;31mValueError\u001b[0m                                Traceback (most recent call last)",
      "Cell \u001b[1;32mIn[7], line 1\u001b[0m\n\u001b[1;32m----> 1\u001b[0m name,age,mark\u001b[38;5;241m=\u001b[39m\u001b[38;5;28minput\u001b[39m(\u001b[38;5;124m\"\u001b[39m\u001b[38;5;124menter your name ,age, percentage sepreted by $ \u001b[39m\u001b[38;5;124m\"\u001b[39m)\u001b[38;5;241m.\u001b[39msplit(\u001b[38;5;124m\"\u001b[39m\u001b[38;5;124m$\u001b[39m\u001b[38;5;124m\"\u001b[39m)\n\u001b[0;32m      2\u001b[0m \u001b[38;5;28mprint\u001b[39m(\u001b[38;5;124m\"\u001b[39m\u001b[38;5;130;01m\\n\u001b[39;00m\u001b[38;5;124m\"\u001b[39m)\n\u001b[0;32m      3\u001b[0m \u001b[38;5;28mprint\u001b[39m(\u001b[38;5;124m\"\u001b[39m\u001b[38;5;124muser details\u001b[39m\u001b[38;5;124m\"\u001b[39m,name,age,mark)\n",
      "\u001b[1;31mValueError\u001b[0m: not enough values to unpack (expected 3, got 1)"
     ]
    }
   ],
   "source": [
    "name,age,mark=input(\"enter your name ,age, percentage sepreted by $ \").split(\"$\")\n",
    "print(\"\\n\")\n",
    "print(\"user details\",name,age,mark)"
   ]
  },
  {
   "cell_type": "code",
   "execution_count": 64,
   "id": "bb0c3698-0b24-4777-b0e5-9e5b06fafae4",
   "metadata": {},
   "outputs": [
    {
     "name": "stdin",
     "output_type": "stream",
     "text": [
      " 12\n"
     ]
    },
    {
     "ename": "TypeError",
     "evalue": "'list' object is not callable",
     "output_type": "error",
     "traceback": [
      "\u001b[1;31m---------------------------------------------------------------------------\u001b[0m",
      "\u001b[1;31mTypeError\u001b[0m                                 Traceback (most recent call last)",
      "Cell \u001b[1;32mIn[64], line 1\u001b[0m\n\u001b[1;32m----> 1\u001b[0m list_input\u001b[38;5;241m=\u001b[39m\u001b[38;5;28mlist\u001b[39m(\u001b[38;5;28minput\u001b[39m())\n\u001b[0;32m      2\u001b[0m list_input2\u001b[38;5;241m=\u001b[39m\u001b[38;5;28mlist\u001b[39m(\u001b[38;5;28minput\u001b[39m())\n\u001b[0;32m      3\u001b[0m \u001b[38;5;28mprint\u001b[39m(list_input,list_input2)\n",
      "\u001b[1;31mTypeError\u001b[0m: 'list' object is not callable"
     ]
    }
   ],
   "source": [
    "list_input=list(input())\n",
    "list_input2=list(input())\n",
    "print(list_input,list_input2)"
   ]
  },
  {
   "cell_type": "markdown",
   "id": "dbaf9429-3bb5-4cd1-a67f-be92d28fc9f0",
   "metadata": {},
   "source": [
    "# for loop\n",
    "nested for loop\n",
    "pattern in for loop\n",
    "break fast continue"
   ]
  },
  {
   "cell_type": "code",
   "execution_count": 5,
   "id": "c2e3638b-73c6-4cab-aba6-c9d62750f75e",
   "metadata": {},
   "outputs": [
    {
     "ename": "ValueError",
     "evalue": "not enough values to unpack (expected 3, got 2)",
     "output_type": "error",
     "traceback": [
      "\u001b[1;31m---------------------------------------------------------------------------\u001b[0m",
      "\u001b[1;31mValueError\u001b[0m                                Traceback (most recent call last)",
      "Cell \u001b[1;32mIn[5], line 2\u001b[0m\n\u001b[0;32m      1\u001b[0m data\u001b[38;5;241m=\u001b[39m\u001b[38;5;124m\"\u001b[39m\u001b[38;5;124mjohn,1,3\u001b[39m\u001b[38;5;124m\"\u001b[39m\n\u001b[1;32m----> 2\u001b[0m name,clahss,room\u001b[38;5;241m=\u001b[39mdata\u001b[38;5;241m.\u001b[39msplit(\u001b[38;5;124m\"\u001b[39m\u001b[38;5;124m1\u001b[39m\u001b[38;5;124m\"\u001b[39m)\n\u001b[0;32m      3\u001b[0m \u001b[38;5;28mprint\u001b[39m(name,clahss,room)\n",
      "\u001b[1;31mValueError\u001b[0m: not enough values to unpack (expected 3, got 2)"
     ]
    }
   ],
   "source": [
    "data=\"john,1,3\"\n",
    "name,clahss,room=data.split(\"1\")\n",
    "print(name,clahss,room)"
   ]
  },
  {
   "cell_type": "code",
   "execution_count": 2,
   "id": "0f891bda-4565-4aef-bb90-b6d92e5df771",
   "metadata": {},
   "outputs": [
    {
     "ename": "ValueError",
     "evalue": "not enough values to unpack (expected 3, got 2)",
     "output_type": "error",
     "traceback": [
      "\u001b[1;31m---------------------------------------------------------------------------\u001b[0m",
      "\u001b[1;31mValueError\u001b[0m                                Traceback (most recent call last)",
      "Cell \u001b[1;32mIn[2], line 2\u001b[0m\n\u001b[0;32m      1\u001b[0m college_data\u001b[38;5;241m=\u001b[39m\u001b[38;5;124m\"\u001b[39m\u001b[38;5;124mneha&24&34&\u001b[39m\u001b[38;5;124m\"\u001b[39m\n\u001b[1;32m----> 2\u001b[0m name,room,age\u001b[38;5;241m=\u001b[39mcollege_data\u001b[38;5;241m.\u001b[39msplit(\u001b[38;5;124m\"\u001b[39m\u001b[38;5;124m34\u001b[39m\u001b[38;5;124m\"\u001b[39m)\n\u001b[0;32m      3\u001b[0m \u001b[38;5;28mprint\u001b[39m(name,room,age)\n",
      "\u001b[1;31mValueError\u001b[0m: not enough values to unpack (expected 3, got 2)"
     ]
    }
   ],
   "source": [
    "college_data=\"neha&24&34&\"\n",
    "name,room,age=college_data.split(\"34\")\n",
    "print(name,room,age)"
   ]
  },
  {
   "cell_type": "code",
   "execution_count": 4,
   "id": "03dce80e-af41-419e-940c-d9b5c493363b",
   "metadata": {},
   "outputs": [
    {
     "ename": "ValueError",
     "evalue": "not enough values to unpack (expected 3, got 2)",
     "output_type": "error",
     "traceback": [
      "\u001b[1;31m---------------------------------------------------------------------------\u001b[0m",
      "\u001b[1;31mValueError\u001b[0m                                Traceback (most recent call last)",
      "Cell \u001b[1;32mIn[4], line 2\u001b[0m\n\u001b[0;32m      1\u001b[0m college_data\u001b[38;5;241m=\u001b[39m\u001b[38;5;124m\"\u001b[39m\u001b[38;5;124mneha&24&34\u001b[39m\u001b[38;5;124m\"\u001b[39m\n\u001b[1;32m----> 2\u001b[0m name,room,age\u001b[38;5;241m=\u001b[39mcollege_data\u001b[38;5;241m.\u001b[39msplit(\u001b[38;5;124m\"\u001b[39m\u001b[38;5;124m34\u001b[39m\u001b[38;5;124m\"\u001b[39m)\n\u001b[0;32m      3\u001b[0m \u001b[38;5;28mprint\u001b[39m(name,room,age)\n",
      "\u001b[1;31mValueError\u001b[0m: not enough values to unpack (expected 3, got 2)"
     ]
    }
   ],
   "source": [
    "college_data=\"neha&24&34\"\n",
    "name,room,age=college_data.split(\"34\")\n",
    "print(name,room,age)"
   ]
  },
  {
   "cell_type": "code",
   "execution_count": 9,
   "id": "4d2f1314-8ee3-4807-a46d-5bfa81deee4e",
   "metadata": {},
   "outputs": [
    {
     "ename": "ValueError",
     "evalue": "not enough values to unpack (expected 3, got 1)",
     "output_type": "error",
     "traceback": [
      "\u001b[1;31m---------------------------------------------------------------------------\u001b[0m",
      "\u001b[1;31mValueError\u001b[0m                                Traceback (most recent call last)",
      "Cell \u001b[1;32mIn[9], line 2\u001b[0m\n\u001b[0;32m      1\u001b[0m college_data\u001b[38;5;241m=\u001b[39m\u001b[38;5;124m\"\u001b[39m\u001b[38;5;124mneha&24&34&\u001b[39m\u001b[38;5;124m\"\u001b[39m\n\u001b[1;32m----> 2\u001b[0m name,room,age\u001b[38;5;241m=\u001b[39mcollege_data\u001b[38;5;241m.\u001b[39msplit()\n\u001b[0;32m      3\u001b[0m \u001b[38;5;28mprint\u001b[39m(name,room,age)\n",
      "\u001b[1;31mValueError\u001b[0m: not enough values to unpack (expected 3, got 1)"
     ]
    }
   ],
   "source": [
    "college_data=\"neha&24&34&\"\n",
    "name,room,age=college_data.split()\n",
    "print(name,room,age)"
   ]
  },
  {
   "cell_type": "code",
   "execution_count": 11,
   "id": "cc8e81da-fee4-4c90-83ad-f5eb66f5e02e",
   "metadata": {},
   "outputs": [
    {
     "name": "stdout",
     "output_type": "stream",
     "text": [
      "['my name', 'is neha', 'karki']\n"
     ]
    }
   ],
   "source": [
    "line=\"my name:is neha:karki\"\n",
    "val=line.split(\":\")\n",
    "print(val)"
   ]
  },
  {
   "cell_type": "code",
   "execution_count": 1,
   "id": "4bcd2809-a932-4441-8217-889e5f56df24",
   "metadata": {},
   "outputs": [
    {
     "name": "stdin",
     "output_type": "stream",
     "text": [
      "information classes,age,date $ uu jj hh\n"
     ]
    },
    {
     "ename": "ValueError",
     "evalue": "not enough values to unpack (expected 3, got 1)",
     "output_type": "error",
     "traceback": [
      "\u001b[1;31m---------------------------------------------------------------------------\u001b[0m",
      "\u001b[1;31mValueError\u001b[0m                                Traceback (most recent call last)",
      "Cell \u001b[1;32mIn[1], line 1\u001b[0m\n\u001b[1;32m----> 1\u001b[0m classes,age,date\u001b[38;5;241m=\u001b[39m\u001b[38;5;28minput\u001b[39m(\u001b[38;5;124m\"\u001b[39m\u001b[38;5;124minformation classes,age,date $\u001b[39m\u001b[38;5;124m\"\u001b[39m)\u001b[38;5;241m.\u001b[39msplit(\u001b[38;5;124m\"\u001b[39m\u001b[38;5;124m$\u001b[39m\u001b[38;5;124m\"\u001b[39m)\n\u001b[0;32m      2\u001b[0m \u001b[38;5;28mprint\u001b[39m(classes,age,date)\n",
      "\u001b[1;31mValueError\u001b[0m: not enough values to unpack (expected 3, got 1)"
     ]
    }
   ],
   "source": [
    "classes,age,date=input(\"information classes,age,date $\").split(\"$\")\n",
    "print(classes,age,date)"
   ]
  },
  {
   "cell_type": "code",
   "execution_count": 9,
   "id": "fc041446-2b16-448a-8c69-424d8bbc80b8",
   "metadata": {},
   "outputs": [
    {
     "name": "stdin",
     "output_type": "stream",
     "text": [
      "enter your name ,age, percentage sepreted by $  ii tt oo\n"
     ]
    },
    {
     "ename": "ValueError",
     "evalue": "not enough values to unpack (expected 3, got 1)",
     "output_type": "error",
     "traceback": [
      "\u001b[1;31m---------------------------------------------------------------------------\u001b[0m",
      "\u001b[1;31mValueError\u001b[0m                                Traceback (most recent call last)",
      "Cell \u001b[1;32mIn[9], line 1\u001b[0m\n\u001b[1;32m----> 1\u001b[0m name,age,mark\u001b[38;5;241m=\u001b[39m\u001b[38;5;28minput\u001b[39m(\u001b[38;5;124m\"\u001b[39m\u001b[38;5;124menter your name ,age, percentage sepreted by $ \u001b[39m\u001b[38;5;124m\"\u001b[39m)\u001b[38;5;241m.\u001b[39msplit(\u001b[38;5;124m\"\u001b[39m\u001b[38;5;124m$\u001b[39m\u001b[38;5;124m\"\u001b[39m)\n\u001b[0;32m      2\u001b[0m \u001b[38;5;28mprint\u001b[39m(\u001b[38;5;124m\"\u001b[39m\u001b[38;5;130;01m\\n\u001b[39;00m\u001b[38;5;124m\"\u001b[39m)\n\u001b[0;32m      3\u001b[0m \u001b[38;5;28mprint\u001b[39m(\u001b[38;5;124m\"\u001b[39m\u001b[38;5;124muser details\u001b[39m\u001b[38;5;124m\"\u001b[39m,name,age,mark)\n",
      "\u001b[1;31mValueError\u001b[0m: not enough values to unpack (expected 3, got 1)"
     ]
    }
   ],
   "source": [
    "name,age,mark=input(\"enter your name ,age, percentage sepreted by $ \").split(\"$\")\n",
    "print(\"\\n\")\n",
    "print(\"user details\",name,age,mark)"
   ]
  },
  {
   "cell_type": "code",
   "execution_count": null,
   "id": "e07a03a5-e13c-4e35-8198-a53ca982b0c5",
   "metadata": {},
   "outputs": [],
   "source": []
  }
 ],
 "metadata": {
  "kernelspec": {
   "display_name": "Python 3 (ipykernel)",
   "language": "python",
   "name": "python3"
  },
  "language_info": {
   "codemirror_mode": {
    "name": "ipython",
    "version": 3
   },
   "file_extension": ".py",
   "mimetype": "text/x-python",
   "name": "python",
   "nbconvert_exporter": "python",
   "pygments_lexer": "ipython3",
   "version": "3.13.5"
  }
 },
 "nbformat": 4,
 "nbformat_minor": 5
}
