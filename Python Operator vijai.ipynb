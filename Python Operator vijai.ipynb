{
 "cells": [
  {
   "cell_type": "markdown",
   "id": "a9cdb879-8c1d-4564-aa22-985d671e6cac",
   "metadata": {},
   "source": [
    " # TYPES OF OPERATOR\n",
    "# 1:- ARTHMATIC OPREATOR - There are 6 opretor named as + , - , * , /, %, //"
   ]
  },
  {
   "cell_type": "code",
   "execution_count": 1,
   "id": "f626408f-9d21-4e29-b95f-881cb46fda01",
   "metadata": {},
   "outputs": [
    {
     "name": "stdout",
     "output_type": "stream",
     "text": [
      "45\n"
     ]
    }
   ],
   "source": [
    "class_1 =15\n",
    "class_2=30\n",
    "total_student=class_1 + class_2\n",
    "print(total_student)"
   ]
  },
  {
   "cell_type": "code",
   "execution_count": 3,
   "id": "994d11f6-33e4-493f-9bf4-611399032730",
   "metadata": {},
   "outputs": [
    {
     "name": "stdout",
     "output_type": "stream",
     "text": [
      "-200\n"
     ]
    }
   ],
   "source": [
    "school_staff=100\n",
    "student=300\n",
    "print(school_staff - student)"
   ]
  },
  {
   "cell_type": "markdown",
   "id": "e65dfe64-35a5-468f-a4be-8160d34cfb06",
   "metadata": {},
   "source": [
    " # Float Divison Opretor"
   ]
  },
  {
   "cell_type": "code",
   "execution_count": 7,
   "id": "1d0d5cc2-7106-4eaf-a56a-99a9bb7ba728",
   "metadata": {},
   "outputs": [
    {
     "name": "stdout",
     "output_type": "stream",
     "text": [
      "3\n"
     ]
    }
   ],
   "source": [
    "total_marks=6\n",
    "subject=2\n",
    "print( total_marks//subject)\n"
   ]
  },
  {
   "cell_type": "code",
   "execution_count": 8,
   "id": "a8b76f04-42fc-468b-9173-24624796775b",
   "metadata": {},
   "outputs": [
    {
     "name": "stdout",
     "output_type": "stream",
     "text": [
      "3.0\n"
     ]
    }
   ],
   "source": [
    "total_marks=6.00\n",
    "subject=2\n",
    "print( total_marks//subject)\n"
   ]
  },
  {
   "cell_type": "code",
   "execution_count": 9,
   "id": "f5f8ba2b-79ff-470d-b093-f0d767a365d9",
   "metadata": {},
   "outputs": [
    {
     "name": "stdout",
     "output_type": "stream",
     "text": [
      "3.0\n"
     ]
    }
   ],
   "source": [
    "total_marks=6\n",
    "subject=2\n",
    "print( total_marks/subject)\n"
   ]
  },
  {
   "cell_type": "code",
   "execution_count": 10,
   "id": "84466b83-6086-41e9-8f1c-0e3243941ad7",
   "metadata": {},
   "outputs": [
    {
     "name": "stdout",
     "output_type": "stream",
     "text": [
      "0\n"
     ]
    }
   ],
   "source": [
    "total_marks=6\n",
    "subject=2\n",
    "print( total_marks % subject)\n"
   ]
  },
  {
   "cell_type": "code",
   "execution_count": 11,
   "id": "1cf774a2-b65d-4a34-80c7-e54b41f0b374",
   "metadata": {},
   "outputs": [
    {
     "name": "stdout",
     "output_type": "stream",
     "text": [
      "1\n"
     ]
    }
   ],
   "source": [
    "print(5 % 2)"
   ]
  },
  {
   "cell_type": "code",
   "execution_count": 13,
   "id": "0a4b015c-2cd3-48d8-acc6-11483e3a7bdf",
   "metadata": {},
   "outputs": [
    {
     "name": "stdout",
     "output_type": "stream",
     "text": [
      "22\n"
     ]
    }
   ],
   "source": [
    "print(122 % 25)\n"
   ]
  },
  {
   "cell_type": "markdown",
   "id": "ff774a82-c798-4ca4-b77b-c19f1867b46f",
   "metadata": {},
   "source": [
    "# Relation or compression opretor"
   ]
  },
  {
   "cell_type": "markdown",
   "id": "965b68af-c181-4bff-8003-e620b0c293c8",
   "metadata": {
    "jupyter": {
     "source_hidden": true
    }
   },
   "source": [
    "> ,  < , >= ,<= ,==, !="
   ]
  },
  {
   "cell_type": "code",
   "execution_count": 16,
   "id": "dc923c33-c033-4dbb-a379-c24d94f941e7",
   "metadata": {
    "jupyter": {
     "source_hidden": true
    }
   },
   "outputs": [
    {
     "data": {
      "text/plain": [
       "True"
      ]
     },
     "execution_count": 16,
     "metadata": {},
     "output_type": "execute_result"
    }
   ],
   "source": [
    "14 > 12\n"
   ]
  },
  {
   "cell_type": "code",
   "execution_count": 17,
   "id": "6440c5ab-7f63-41bb-8dbc-abc379fe53f7",
   "metadata": {
    "jupyter": {
     "source_hidden": true
    }
   },
   "outputs": [
    {
     "data": {
      "text/plain": [
       "False"
      ]
     },
     "execution_count": 17,
     "metadata": {},
     "output_type": "execute_result"
    }
   ],
   "source": [
    "14 < 12\n"
   ]
  },
  {
   "cell_type": "code",
   "execution_count": 18,
   "id": "64a6fdb7-f7ff-4774-af5c-9f9b30b27dcf",
   "metadata": {},
   "outputs": [
    {
     "data": {
      "text/plain": [
       "False"
      ]
     },
     "execution_count": 18,
     "metadata": {},
     "output_type": "execute_result"
    }
   ],
   "source": [
    "14 <= 12\n"
   ]
  },
  {
   "cell_type": "code",
   "execution_count": 19,
   "id": "534c6f20-d2ba-43dc-b6f3-03c230582f97",
   "metadata": {},
   "outputs": [
    {
     "data": {
      "text/plain": [
       "True"
      ]
     },
     "execution_count": 19,
     "metadata": {},
     "output_type": "execute_result"
    }
   ],
   "source": [
    "14 >= 12\n"
   ]
  },
  {
   "cell_type": "code",
   "execution_count": 20,
   "id": "1df8fc20-46e7-4eba-a1a8-cbe06e534cd9",
   "metadata": {},
   "outputs": [
    {
     "data": {
      "text/plain": [
       "False"
      ]
     },
     "execution_count": 20,
     "metadata": {},
     "output_type": "execute_result"
    }
   ],
   "source": [
    "14 == 12\n"
   ]
  },
  {
   "cell_type": "code",
   "execution_count": 21,
   "id": "1c1aaecc-2515-4207-81a1-d64bcf79ba0d",
   "metadata": {},
   "outputs": [
    {
     "data": {
      "text/plain": [
       "True"
      ]
     },
     "execution_count": 21,
     "metadata": {},
     "output_type": "execute_result"
    }
   ],
   "source": [
    "14 != 12\n"
   ]
  },
  {
   "cell_type": "code",
   "execution_count": 4,
   "id": "78944fba-d1de-4f72-a901-2c9192b2dd6b",
   "metadata": {},
   "outputs": [
    {
     "name": "stdout",
     "output_type": "stream",
     "text": [
      "False\n"
     ]
    }
   ],
   "source": [
    "a=13\n",
    "b=15\n",
    "print(a > b)"
   ]
  },
  {
   "cell_type": "code",
   "execution_count": 5,
   "id": "954769b3-22fd-4cad-9fdf-a053488ccc0d",
   "metadata": {},
   "outputs": [
    {
     "name": "stdout",
     "output_type": "stream",
     "text": [
      "False\n"
     ]
    }
   ],
   "source": [
    "a=13\n",
    "b=13\n",
    "print(a > b)"
   ]
  },
  {
   "cell_type": "code",
   "execution_count": 6,
   "id": "2156dfcf-d2db-49f9-b531-b1f89791264f",
   "metadata": {},
   "outputs": [
    {
     "name": "stdout",
     "output_type": "stream",
     "text": [
      "True\n"
     ]
    }
   ],
   "source": [
    "a=13\n",
    "b=13\n",
    "print(a == b)"
   ]
  },
  {
   "cell_type": "code",
   "execution_count": 7,
   "id": "332cfd43-4c44-48ec-b6c3-3cabfac13c5d",
   "metadata": {},
   "outputs": [
    {
     "name": "stdout",
     "output_type": "stream",
     "text": [
      "True\n"
     ]
    }
   ],
   "source": [
    "a=13\n",
    "b=15\n",
    "print(a != b)"
   ]
  },
  {
   "cell_type": "code",
   "execution_count": 8,
   "id": "7ba4dbfe-ff83-4c76-808a-b03a9dd9212c",
   "metadata": {},
   "outputs": [
    {
     "name": "stdout",
     "output_type": "stream",
     "text": [
      "False\n"
     ]
    }
   ],
   "source": [
    "a=13\n",
    "b=13\n",
    "print(a != b)"
   ]
  },
  {
   "cell_type": "code",
   "execution_count": 9,
   "id": "e17ab341-8533-4046-8550-832e079ec4b7",
   "metadata": {},
   "outputs": [
    {
     "name": "stdout",
     "output_type": "stream",
     "text": [
      "1.0\n"
     ]
    }
   ],
   "source": [
    "a=13\n",
    "b=13\n",
    "print(a / b)"
   ]
  },
  {
   "cell_type": "code",
   "execution_count": 10,
   "id": "54049028-08ba-4c92-aa58-f648a7cd875d",
   "metadata": {},
   "outputs": [
    {
     "name": "stdout",
     "output_type": "stream",
     "text": [
      "1\n"
     ]
    }
   ],
   "source": [
    "a=13\n",
    "b=13\n",
    "print(a //  b)"
   ]
  },
  {
   "cell_type": "code",
   "execution_count": 11,
   "id": "10379803-fb2c-404d-8d93-710ad9a7940c",
   "metadata": {},
   "outputs": [
    {
     "name": "stdout",
     "output_type": "stream",
     "text": [
      "True\n"
     ]
    }
   ],
   "source": [
    "a=13\n",
    "b=13\n",
    "print(a <= b)"
   ]
  },
  {
   "cell_type": "code",
   "execution_count": 13,
   "id": "e436d7d5-2472-4082-b20d-a81445695820",
   "metadata": {},
   "outputs": [
    {
     "name": "stdout",
     "output_type": "stream",
     "text": [
      "True\n"
     ]
    }
   ],
   "source": [
    "a=13\n",
    "b=13\n",
    "print(a >= b)"
   ]
  },
  {
   "cell_type": "code",
   "execution_count": 14,
   "id": "44001ad7-b13d-4e68-9055-9245b90e1e92",
   "metadata": {},
   "outputs": [
    {
     "name": "stdout",
     "output_type": "stream",
     "text": [
      "False\n"
     ]
    }
   ],
   "source": [
    "rohan_total_marks=450\n",
    "nitin_total_marks=480\n",
    "print(rohan_total_marks > nitin_total_marks)"
   ]
  },
  {
   "cell_type": "code",
   "execution_count": 15,
   "id": "2d330e7a-c680-4c3d-a631-63f696a5c7a0",
   "metadata": {},
   "outputs": [
    {
     "name": "stdout",
     "output_type": "stream",
     "text": [
      "True\n"
     ]
    }
   ],
   "source": [
    "rohan_total_marks=450\n",
    "nitin_total_marks=480\n",
    "print(rohan_total_marks < nitin_total_marks)"
   ]
  },
  {
   "cell_type": "code",
   "execution_count": 16,
   "id": "cb240d2c-178a-4945-9e24-945bb3aedc44",
   "metadata": {},
   "outputs": [
    {
     "name": "stdout",
     "output_type": "stream",
     "text": [
      "False\n"
     ]
    }
   ],
   "source": [
    "rohan_total_marks=450\n",
    "nitin_total_marks=480\n",
    "print(rohan_total_marks >= nitin_total_marks)"
   ]
  },
  {
   "cell_type": "code",
   "execution_count": 17,
   "id": "287b59cd-0734-46d4-ad5c-5ad6b2e12468",
   "metadata": {},
   "outputs": [
    {
     "name": "stdout",
     "output_type": "stream",
     "text": [
      "True\n"
     ]
    }
   ],
   "source": [
    "rohan_total_marks=450\n",
    "nitin_total_marks=480\n",
    "print(rohan_total_marks <= nitin_total_marks)"
   ]
  },
  {
   "cell_type": "code",
   "execution_count": 18,
   "id": "23509893-f15c-4d46-ab86-01111031ac49",
   "metadata": {},
   "outputs": [
    {
     "name": "stdout",
     "output_type": "stream",
     "text": [
      "False\n"
     ]
    }
   ],
   "source": [
    "rohan_total_marks=450\n",
    "nitin_total_marks=480\n",
    "print(rohan_total_marks == nitin_total_marks)"
   ]
  },
  {
   "cell_type": "code",
   "execution_count": 19,
   "id": "cb29b35b-855f-493d-802e-b1026db8083f",
   "metadata": {},
   "outputs": [
    {
     "name": "stdout",
     "output_type": "stream",
     "text": [
      "True\n"
     ]
    }
   ],
   "source": [
    "rohan_total_marks=450\n",
    "nitin_total_marks=480\n",
    "print(rohan_total_marks != nitin_total_marks)"
   ]
  },
  {
   "cell_type": "code",
   "execution_count": 20,
   "id": "8b2bd5af-45c7-4fd1-8869-5f306f397410",
   "metadata": {},
   "outputs": [
    {
     "name": "stdout",
     "output_type": "stream",
     "text": [
      "0.9375\n"
     ]
    }
   ],
   "source": [
    "rohan_total_marks=450\n",
    "nitin_total_marks=480\n",
    "print(rohan_total_marks / nitin_total_marks)"
   ]
  },
  {
   "cell_type": "code",
   "execution_count": 21,
   "id": "ede14c87-704e-4613-9200-083e82622f78",
   "metadata": {},
   "outputs": [
    {
     "name": "stdout",
     "output_type": "stream",
     "text": [
      "0\n"
     ]
    }
   ],
   "source": [
    "rohan_total_marks=450\n",
    "nitin_total_marks=480\n",
    "print(rohan_total_marks // nitin_total_marks)"
   ]
  },
  {
   "cell_type": "code",
   "execution_count": 22,
   "id": "3b33cfb3-24ed-4c74-9c62-9e9a7b95973a",
   "metadata": {},
   "outputs": [
    {
     "name": "stdout",
     "output_type": "stream",
     "text": [
      "True\n"
     ]
    }
   ],
   "source": [
    "rohan_age=19\n",
    "sahil_age=18\n",
    "print(rohan_age > sahil_age)"
   ]
  },
  {
   "cell_type": "code",
   "execution_count": 23,
   "id": "5d95a903-23d5-47bd-bd8e-7884b3a783f5",
   "metadata": {},
   "outputs": [
    {
     "name": "stdout",
     "output_type": "stream",
     "text": [
      "False\n"
     ]
    }
   ],
   "source": [
    "rohan_age=19\n",
    "sahil_age=18\n",
    "print(rohan_age < sahil_age)"
   ]
  },
  {
   "cell_type": "code",
   "execution_count": 24,
   "id": "da5e0390-039b-4ee1-80f2-af4e8ef45c99",
   "metadata": {},
   "outputs": [
    {
     "name": "stdout",
     "output_type": "stream",
     "text": [
      "True\n"
     ]
    }
   ],
   "source": [
    "rohan_age=19\n",
    "sahil_age=18\n",
    "print(rohan_age >= sahil_age)"
   ]
  },
  {
   "cell_type": "code",
   "execution_count": 25,
   "id": "d16149e0-fd37-432e-bb56-d707e7bce85a",
   "metadata": {},
   "outputs": [
    {
     "name": "stdout",
     "output_type": "stream",
     "text": [
      "False\n"
     ]
    }
   ],
   "source": [
    "rohan_age=19\n",
    "sahil_age=18\n",
    "print(rohan_age <= sahil_age)"
   ]
  },
  {
   "cell_type": "code",
   "execution_count": 26,
   "id": "10aa3f8b-9da7-4423-a93e-1482e10a6493",
   "metadata": {},
   "outputs": [
    {
     "name": "stdout",
     "output_type": "stream",
     "text": [
      "False\n"
     ]
    }
   ],
   "source": [
    "rohan_age=19\n",
    "sahil_age=18\n",
    "print(rohan_age == sahil_age)"
   ]
  },
  {
   "cell_type": "code",
   "execution_count": 27,
   "id": "572a8a78-608b-40a0-abe7-f7710d485665",
   "metadata": {},
   "outputs": [
    {
     "name": "stdout",
     "output_type": "stream",
     "text": [
      "True\n"
     ]
    }
   ],
   "source": [
    "rohan_age=19\n",
    "sahil_age=18\n",
    "print(rohan_age != sahil_age)"
   ]
  },
  {
   "cell_type": "code",
   "execution_count": 28,
   "id": "6c827fb4-7a7d-4379-b353-63f6202f2f0c",
   "metadata": {},
   "outputs": [
    {
     "name": "stdout",
     "output_type": "stream",
     "text": [
      "False\n"
     ]
    }
   ],
   "source": [
    "nitin_total_marks=490\n",
    "sahil_total_marks=250\n",
    "mahi_tolat_marks=370\n",
    "sagrika_total_marks=450\n",
    "print(sagrika_total_marks > nitin_total_marks)"
   ]
  },
  {
   "cell_type": "code",
   "execution_count": 29,
   "id": "1ddaead2-cdd6-4505-82e2-d2ef2264750d",
   "metadata": {},
   "outputs": [
    {
     "name": "stdout",
     "output_type": "stream",
     "text": [
      "True\n"
     ]
    }
   ],
   "source": [
    "nitin_total_marks=490\n",
    "sahil_total_marks=250\n",
    "mahi_tolat_marks=370\n",
    "sagrika_total_marks=450\n",
    "print(sagrika_total_marks < nitin_total_marks)"
   ]
  },
  {
   "cell_type": "code",
   "execution_count": 30,
   "id": "968cf7ee-919c-4cea-af07-fb8857a61569",
   "metadata": {},
   "outputs": [
    {
     "name": "stdout",
     "output_type": "stream",
     "text": [
      "True\n"
     ]
    }
   ],
   "source": [
    "nitin_total_marks=490\n",
    "sahil_total_marks=250\n",
    "mahi_tolat_marks=370\n",
    "sagrika_total_marks=450\n",
    "print(sagrika_total_marks > sahil_total_marks)"
   ]
  },
  {
   "cell_type": "code",
   "execution_count": 31,
   "id": "c8422ebc-9112-46fa-9e97-7689fbbd9f03",
   "metadata": {},
   "outputs": [
    {
     "name": "stdout",
     "output_type": "stream",
     "text": [
      "True\n"
     ]
    }
   ],
   "source": [
    "nitin_total_marks=490\n",
    "sahil_total_marks=250\n",
    "mahi_tolat_marks=370\n",
    "sagrika_total_marks=450\n",
    "print(mahi_tolat_marks < nitin_total_marks)"
   ]
  },
  {
   "cell_type": "code",
   "execution_count": 32,
   "id": "ba3a65c0-c3f1-4ece-a62e-d0066760e353",
   "metadata": {},
   "outputs": [
    {
     "name": "stdout",
     "output_type": "stream",
     "text": [
      "False\n"
     ]
    }
   ],
   "source": [
    "nitin_total_marks=490\n",
    "sahil_total_marks=250\n",
    "mahi_tolat_marks=370\n",
    "sagrika_total_marks=450\n",
    "print(sagrika_total_marks  >= nitin_total_marks)"
   ]
  },
  {
   "cell_type": "code",
   "execution_count": 33,
   "id": "2f0e688b-9556-4190-9550-d057e537840e",
   "metadata": {},
   "outputs": [
    {
     "name": "stdout",
     "output_type": "stream",
     "text": [
      "True\n"
     ]
    }
   ],
   "source": [
    "nitin_total_marks=490\n",
    "sahil_total_marks=250\n",
    "mahi_tolat_marks=370\n",
    "sagrika_total_marks=450\n",
    "print(sagrika_total_marks <= nitin_total_marks)"
   ]
  },
  {
   "cell_type": "code",
   "execution_count": 1,
   "id": "54e86c30-db4e-42dd-aaf0-417065dd9ed4",
   "metadata": {},
   "outputs": [
    {
     "name": "stdout",
     "output_type": "stream",
     "text": [
      "nice\n"
     ]
    }
   ],
   "source": [
    "x = 25\n",
    "if x == 25:\n",
    "    print(\"nice\")\n",
    "else:\n",
    "    print(\"bed\")"
   ]
  },
  {
   "cell_type": "code",
   "execution_count": 2,
   "id": "2a0039d2-364c-41c1-b1e6-1def94568bc5",
   "metadata": {},
   "outputs": [
    {
     "name": "stdout",
     "output_type": "stream",
     "text": [
      "nice\n"
     ]
    }
   ],
   "source": [
    "x = 25\n",
    "if x >= 25:\n",
    "    print(\"nice\")\n",
    "else:\n",
    "    print(\"bed\")"
   ]
  },
  {
   "cell_type": "code",
   "execution_count": 3,
   "id": "ec227216-cd6f-4da8-a184-694b8ce87bb5",
   "metadata": {},
   "outputs": [
    {
     "name": "stdout",
     "output_type": "stream",
     "text": [
      "nice\n"
     ]
    }
   ],
   "source": [
    "x = 25\n",
    "if x <= 25:\n",
    "    print(\"nice\")\n",
    "else:\n",
    "    print(\"bed\")"
   ]
  },
  {
   "cell_type": "code",
   "execution_count": 4,
   "id": "6e6befcd-0029-425a-93bd-513f5826ba1f",
   "metadata": {},
   "outputs": [
    {
     "name": "stdout",
     "output_type": "stream",
     "text": [
      "bed\n"
     ]
    }
   ],
   "source": [
    "x = 25\n",
    "if x != 25:\n",
    "    print(\"nice\")\n",
    "else:\n",
    "    print(\"bed\")"
   ]
  },
  {
   "cell_type": "markdown",
   "id": "1d933ab8-2daa-4922-bd03-87d032e0e588",
   "metadata": {},
   "source": [
    " # Python logical opretor"
   ]
  },
  {
   "cell_type": "markdown",
   "id": "d6d17103-a4a1-4d83-bdb1-ac84a19a60ae",
   "metadata": {},
   "source": [
    "  # Python logical opretor Are use Conditional Statment there are 3 logical opretor named and or not"
   ]
  },
  {
   "cell_type": "code",
   "execution_count": 1,
   "id": "c9f1da8f-8d5d-4d63-b396-e02005ce8ebe",
   "metadata": {},
   "outputs": [
    {
     "name": "stdout",
     "output_type": "stream",
     "text": [
      "True\n"
     ]
    }
   ],
   "source": [
    "a = True\n",
    "b = True\n",
    "print(a and b)"
   ]
  },
  {
   "cell_type": "code",
   "execution_count": 2,
   "id": "e07ef315-b220-41c5-a140-5f7b2f5ea83e",
   "metadata": {},
   "outputs": [
    {
     "name": "stdout",
     "output_type": "stream",
     "text": [
      "True\n"
     ]
    }
   ],
   "source": [
    "a = True\n",
    "b = True\n",
    "print(a or b)"
   ]
  },
  {
   "cell_type": "code",
   "execution_count": 3,
   "id": "3b4d7506-4449-4660-a5f5-e87b78abf1dc",
   "metadata": {},
   "outputs": [
    {
     "name": "stdout",
     "output_type": "stream",
     "text": [
      "False\n"
     ]
    }
   ],
   "source": [
    "a = True\n",
    "b = False\n",
    "print(a or b)"
   ]
  },
  {
   "cell_type": "code",
   "execution_count": 4,
   "id": "27f50da6-7c46-4f8c-914c-bef61cd17575",
   "metadata": {},
   "outputs": [
    {
     "name": "stdout",
     "output_type": "stream",
     "text": [
      "True\n"
     ]
    }
   ],
   "source": [
    "a = False\n",
    "b = True\n",
    "print(a or b)"
   ]
  },
  {
   "cell_type": "code",
   "execution_count": 5,
   "id": "63ec4106-85f4-4864-ad8e-240ccb13c524",
   "metadata": {},
   "outputs": [
    {
     "name": "stdout",
     "output_type": "stream",
     "text": [
      "False\n"
     ]
    }
   ],
   "source": [
    "a = False\n",
    "b = False\n",
    "print(a or b)"
   ]
  },
  {
   "cell_type": "code",
   "execution_count": 6,
   "id": "8264a4f3-64dc-41ed-9916-f22e6cc07f3d",
   "metadata": {},
   "outputs": [
    {
     "name": "stdout",
     "output_type": "stream",
     "text": [
      "False\n"
     ]
    }
   ],
   "source": [
    "a =10\n",
    "print(not a)"
   ]
  },
  {
   "cell_type": "code",
   "execution_count": 8,
   "id": "9c502e60-a211-4872-af72-ce68376c0583",
   "metadata": {},
   "outputs": [
    {
     "name": "stdout",
     "output_type": "stream",
     "text": [
      "True\n"
     ]
    }
   ],
   "source": [
    "a = False\n",
    "print(not a)"
   ]
  },
  {
   "cell_type": "markdown",
   "id": "261866ce-20b5-458f-8b2d-a742a8efaaac",
   "metadata": {},
   "source": [
    " # ASSIGNMENT OPERTOR(=)"
   ]
  },
  {
   "cell_type": "markdown",
   "id": "e10c40bd-c5a1-4878-a1ed-d12e0ddb97cb",
   "metadata": {},
   "source": [
    " # IDIENTY OPERATOR IN PYTHON IS AND NOT ELSE ARE THE IDENTY OPERATOR BOTH ARE USED TO CHECK IF 2 VALUES ARE LOCATED IN SAME MEMORY IF ARE 2 "
   ]
  },
  {
   "cell_type": "code",
   "execution_count": 11,
   "id": "b52c349b-494c-4d69-92c8-147e59db17a6",
   "metadata": {},
   "outputs": [
    {
     "name": "stdout",
     "output_type": "stream",
     "text": [
      "140709015500136\n",
      "140709015500136\n",
      "True\n"
     ]
    }
   ],
   "source": [
    "a = 15\n",
    "print(id (a))\n",
    "b =15\n",
    "print(id (b))\n",
    "print(a is b)\n"
   ]
  },
  {
   "cell_type": "code",
   "execution_count": 12,
   "id": "8cd1dc74-6276-4801-8013-7b84ad7c0c3f",
   "metadata": {},
   "outputs": [
    {
     "name": "stdout",
     "output_type": "stream",
     "text": [
      "140709015500136\n",
      "140709015502536\n",
      "False\n"
     ]
    }
   ],
   "source": [
    "x = 15\n",
    "print(id (x))\n",
    "y = 90\n",
    "print(id (y))\n",
    "print(x is y)\n"
   ]
  },
  {
   "cell_type": "code",
   "execution_count": 13,
   "id": "b14ae3a3-6213-4491-9980-3a5a14836ab5",
   "metadata": {},
   "outputs": [
    {
     "name": "stdout",
     "output_type": "stream",
     "text": [
      "140709015500136\n",
      "140709015502536\n",
      "True\n"
     ]
    }
   ],
   "source": [
    "x = 15\n",
    "print(id (x))\n",
    "y = 90\n",
    "print(id (y))\n",
    "print(x is not y)\n"
   ]
  },
  {
   "cell_type": "code",
   "execution_count": 14,
   "id": "04fe7348-e96d-4b81-8823-2a65defe69aa",
   "metadata": {},
   "outputs": [
    {
     "name": "stdout",
     "output_type": "stream",
     "text": [
      "2103011323792\n",
      "140709015502536\n",
      "True\n"
     ]
    }
   ],
   "source": [
    "x = 15.08\n",
    "print(id (x))\n",
    "y = 90\n",
    "print(id (y))\n",
    "print(x is not y)\n"
   ]
  },
  {
   "cell_type": "code",
   "execution_count": 15,
   "id": "a4b01334-8a13-4d8c-8b1c-aa31f1c95840",
   "metadata": {},
   "outputs": [
    {
     "name": "stdout",
     "output_type": "stream",
     "text": [
      "2103048270384\n",
      "2103034761360\n",
      "True\n"
     ]
    }
   ],
   "source": [
    "x = 15.099\n",
    "print(id (x))\n",
    "y = 90.89\n",
    "print(id (y))\n",
    "print(x is not y)\n"
   ]
  },
  {
   "cell_type": "markdown",
   "id": "2e4dfd6c-b329-48fc-bb12-6283b94c20a7",
   "metadata": {},
   "source": [
    "# a *= 10                               a = a * 10\n",
    " # a += 10                              a = a+10\n",
    "# a -= 10                               a = a-10\n"
   ]
  },
  {
   "cell_type": "code",
   "execution_count": 2,
   "id": "c6dce12a-daaf-4b25-a297-52e2a6bdee78",
   "metadata": {},
   "outputs": [
    {
     "name": "stdout",
     "output_type": "stream",
     "text": [
      "140708238046472\n",
      "140708238048936\n"
     ]
    }
   ],
   "source": [
    "a = 12\n",
    "b=89\n",
    "print(id(a))\n",
    "print(id(b))"
   ]
  },
  {
   "cell_type": "code",
   "execution_count": 5,
   "id": "e4456e30-a94d-4c0d-9c34-f425ceab10c3",
   "metadata": {},
   "outputs": [
    {
     "name": "stdout",
     "output_type": "stream",
     "text": [
      "140708478957384\n",
      "1464880265008\n"
     ]
    }
   ],
   "source": [
    "a=3.40\n",
    "b=30\n",
    "print(id(b))\n",
    "print(id(a))"
   ]
  },
  {
   "cell_type": "code",
   "execution_count": 12,
   "id": "66ed16af-64e5-4775-bdb1-a7f274ad28c6",
   "metadata": {},
   "outputs": [
    {
     "name": "stdout",
     "output_type": "stream",
     "text": [
      "1464881762288\n",
      "1464895336976\n"
     ]
    }
   ],
   "source": [
    "x=12.12\n",
    "y=23.90\n",
    "print(id(x))\n",
    "print(id(y))"
   ]
  },
  {
   "cell_type": "code",
   "execution_count": 13,
   "id": "312ee164-83af-453d-9089-4e9d9d75f271",
   "metadata": {},
   "outputs": [
    {
     "name": "stdout",
     "output_type": "stream",
     "text": [
      "False\n"
     ]
    }
   ],
   "source": [
    "a = 12\n",
    "b= 13\n",
    "print(a > b)"
   ]
  },
  {
   "cell_type": "code",
   "execution_count": 14,
   "id": "2b682f58-6a33-4b51-a9f6-13e8d4215c24",
   "metadata": {},
   "outputs": [
    {
     "name": "stdout",
     "output_type": "stream",
     "text": [
      "True\n"
     ]
    }
   ],
   "source": [
    "x=12.12\n",
    "y=23.90\n",
    "print( x < y)"
   ]
  },
  {
   "cell_type": "code",
   "execution_count": 16,
   "id": "623fb593-9015-49f5-b37f-39d3e1043091",
   "metadata": {},
   "outputs": [
    {
     "name": "stdout",
     "output_type": "stream",
     "text": [
      "False\n"
     ]
    }
   ],
   "source": [
    "x=12.12\n",
    "y=23.90\n",
    "print( x == y )"
   ]
  },
  {
   "cell_type": "code",
   "execution_count": 17,
   "id": "fd5cfc47-9c24-4d81-ae99-f35a8878fe2b",
   "metadata": {},
   "outputs": [
    {
     "name": "stdout",
     "output_type": "stream",
     "text": [
      "True\n"
     ]
    }
   ],
   "source": [
    "x=12.12\n",
    "y=23.90\n",
    "print( x != y)"
   ]
  },
  {
   "cell_type": "code",
   "execution_count": 18,
   "id": "74965a38-dea5-4cb9-a7a7-b4b896cf16ee",
   "metadata": {},
   "outputs": [
    {
     "name": "stdout",
     "output_type": "stream",
     "text": [
      "0.507112970711297\n"
     ]
    }
   ],
   "source": [
    "x=12.12\n",
    "y=23.90\n",
    "print( x / y)"
   ]
  },
  {
   "cell_type": "code",
   "execution_count": 19,
   "id": "b2d816ec-d49d-4d12-b3dc-52047c738d99",
   "metadata": {},
   "outputs": [
    {
     "name": "stdout",
     "output_type": "stream",
     "text": [
      "0.0\n"
     ]
    }
   ],
   "source": [
    "x=12.12\n",
    "y=23.90\n",
    "print(x // y)"
   ]
  },
  {
   "cell_type": "code",
   "execution_count": 20,
   "id": "fdefa975-65bf-4df2-96e1-2e948c4cf182",
   "metadata": {},
   "outputs": [
    {
     "name": "stdout",
     "output_type": "stream",
     "text": [
      "140708478956808\n"
     ]
    }
   ],
   "source": [
    "x=12.12\n",
    "y=23.90\n",
    "print(id(a))"
   ]
  },
  {
   "cell_type": "code",
   "execution_count": 21,
   "id": "8918b4eb-83a3-4538-ba23-609da78ff949",
   "metadata": {},
   "outputs": [
    {
     "name": "stdout",
     "output_type": "stream",
     "text": [
      "1464900568208\n"
     ]
    }
   ],
   "source": [
    "x=12.12\n",
    "y=23.90\n",
    "print(id(y))"
   ]
  },
  {
   "cell_type": "code",
   "execution_count": 22,
   "id": "909630af-50d0-4fae-bf89-7a7b1eb96785",
   "metadata": {},
   "outputs": [
    {
     "name": "stdout",
     "output_type": "stream",
     "text": [
      "True\n"
     ]
    }
   ],
   "source": [
    "nitin_total_marks=490\n",
    "sahil_total_marks=250\n",
    "mahi_tolat_marks=370\n",
    "sagrika_total_marks=450\n",
    "print(sagrika_total_marks  != nitin_total_marks)"
   ]
  },
  {
   "cell_type": "code",
   "execution_count": 23,
   "id": "f315917b-a45e-4f92-87da-fe21d5d31b9c",
   "metadata": {},
   "outputs": [
    {
     "name": "stdout",
     "output_type": "stream",
     "text": [
      "0\n"
     ]
    }
   ],
   "source": [
    "nitin_total_marks=490\n",
    "sahil_total_marks=250\n",
    "mahi_tolat_marks=370\n",
    "sagrika_total_marks=450\n",
    "print(sagrika_total_marks  //  nitin_total_marks)"
   ]
  },
  {
   "cell_type": "code",
   "execution_count": null,
   "id": "0ca69f78-d82a-4a16-a806-4111f3fe7012",
   "metadata": {},
   "outputs": [],
   "source": []
  }
 ],
 "metadata": {
  "kernelspec": {
   "display_name": "Python 3 (ipykernel)",
   "language": "python",
   "name": "python3"
  },
  "language_info": {
   "codemirror_mode": {
    "name": "ipython",
    "version": 3
   },
   "file_extension": ".py",
   "mimetype": "text/x-python",
   "name": "python",
   "nbconvert_exporter": "python",
   "pygments_lexer": "ipython3",
   "version": "3.13.5"
  }
 },
 "nbformat": 4,
 "nbformat_minor": 5
}
