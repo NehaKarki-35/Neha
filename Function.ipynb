{
 "cells": [
  {
   "cell_type": "markdown",
   "id": "439bfa77-bb7f-401f-ac7e-747f35123a00",
   "metadata": {},
   "source": [
    "***def function_name( parameter1 , parameter2 , parameter3)***"
   ]
  },
  {
   "cell_type": "code",
   "execution_count": 10,
   "id": "415230e7-f86d-4bb4-8c73-69e9715718f0",
   "metadata": {},
   "outputs": [
    {
     "name": "stdin",
     "output_type": "stream",
     "text": [
      "enter name: neha\n"
     ]
    },
    {
     "name": "stdout",
     "output_type": "stream",
     "text": [
      "helloneha\n"
     ]
    }
   ],
   "source": [
    "def greet():\n",
    "    name=input(\"enter name:\")\n",
    "    print(\"hello\"+ name)\n",
    "greet()"
   ]
  },
  {
   "cell_type": "code",
   "execution_count": 16,
   "id": "7a76e4d1-27e1-4c04-baf5-de15baa663bd",
   "metadata": {},
   "outputs": [
    {
     "name": "stdout",
     "output_type": "stream",
     "text": [
      "124\n"
     ]
    }
   ],
   "source": [
    "def sum(a,b):\n",
    "    print(a + b)\n",
    "sum(34,90)"
   ]
  },
  {
   "cell_type": "code",
   "execution_count": 17,
   "id": "c7a93b3e-c299-4d21-a7f1-824f20c37e00",
   "metadata": {},
   "outputs": [
    {
     "name": "stdout",
     "output_type": "stream",
     "text": [
      "even\n"
     ]
    }
   ],
   "source": [
    "def even_odd(x):\n",
    "    if x%2==0:\n",
    "        print(\"even\")\n",
    "    else:\n",
    "        print(\"odd\")\n",
    "even_odd(8)\n",
    "    "
   ]
  },
  {
   "cell_type": "code",
   "execution_count": 23,
   "id": "c8827d08-68cc-4692-991e-9360a71a4077",
   "metadata": {},
   "outputs": [
    {
     "name": "stdout",
     "output_type": "stream",
     "text": [
      "data science data analiyst finacial analiyst\n"
     ]
    }
   ],
   "source": [
    "def course():\n",
    "    course1=\"data science\"\n",
    "    course2=\"data analiyst\"\n",
    "    course3=\"finacial analiyst\"\n",
    "    print(course1,course2,course3)\n",
    "course()"
   ]
  },
  {
   "cell_type": "code",
   "execution_count": 31,
   "id": "6262b92a-954a-4934-a893-7d2b952b183f",
   "metadata": {},
   "outputs": [
    {
     "name": "stdout",
     "output_type": "stream",
     "text": [
      "{'student_name': 'mayank', 'marks': 300}\n"
     ]
    }
   ],
   "source": [
    "def marksheet():\n",
    "    student={\"student_name\": \"rohit\",\"marks\":200,\n",
    "             \"student_name\":\"mohit\",\"marks\":400,\n",
    "             \"student_name\":\"siya\" ,\"marks\":300,\n",
    "             \"student_name\":\"riya\",\"marks\":450,\n",
    "             \"student_name\":\"mayank\",\"marks\":300\n",
    "            }\n",
    "    print(student)\n",
    "marksheet()   \n",
    "    "
   ]
  },
  {
   "cell_type": "code",
   "execution_count": 32,
   "id": "6ef51bc3-65d0-45fe-af0a-57bc618b6d70",
   "metadata": {},
   "outputs": [
    {
     "data": {
      "text/plain": [
       "9"
      ]
     },
     "execution_count": 32,
     "metadata": {},
     "output_type": "execute_result"
    }
   ],
   "source": [
    "def square(x):\n",
    "    return x*x\n",
    "square(3)"
   ]
  },
  {
   "cell_type": "code",
   "execution_count": 33,
   "id": "2d2c6b71-8240-4574-959f-9098db2423bb",
   "metadata": {},
   "outputs": [
    {
     "data": {
      "text/plain": [
       "1024"
      ]
     },
     "execution_count": 33,
     "metadata": {},
     "output_type": "execute_result"
    }
   ],
   "source": [
    "def cube(x):\n",
    "    return x*x*x\n",
    "square(32)"
   ]
  },
  {
   "cell_type": "code",
   "execution_count": 39,
   "id": "5417231c-ee84-4df4-b560-0c0ceb010e12",
   "metadata": {},
   "outputs": [
    {
     "name": "stdout",
     "output_type": "stream",
     "text": [
      "1\n",
      "4\n",
      "7\n"
     ]
    }
   ],
   "source": [
    "def num(x):\n",
    "    for x in range(x,x*10,x+2):\n",
    "        print(x)\n",
    "num(1)"
   ]
  },
  {
   "cell_type": "code",
   "execution_count": 41,
   "id": "5a120cf4-168b-4cc6-8d92-64d639c765c1",
   "metadata": {},
   "outputs": [
    {
     "name": "stdout",
     "output_type": "stream",
     "text": [
      "1\n",
      "2\n",
      "3\n",
      "4\n",
      "5\n",
      "6\n",
      "7\n",
      "8\n",
      "9\n",
      "10\n",
      "11\n",
      "12\n",
      "13\n",
      "14\n",
      "15\n",
      "16\n",
      "17\n",
      "18\n",
      "19\n",
      "20\n",
      "21\n",
      "22\n",
      "23\n",
      "24\n",
      "25\n",
      "26\n",
      "27\n",
      "28\n",
      "29\n",
      "30\n",
      "31\n",
      "32\n",
      "33\n",
      "34\n",
      "35\n",
      "36\n",
      "37\n",
      "38\n",
      "39\n",
      "40\n",
      "41\n",
      "42\n",
      "43\n",
      "44\n",
      "45\n",
      "46\n",
      "47\n",
      "48\n",
      "49\n",
      "50\n",
      "51\n",
      "52\n",
      "53\n",
      "54\n",
      "55\n",
      "56\n",
      "57\n",
      "58\n",
      "59\n",
      "60\n",
      "61\n",
      "62\n",
      "63\n",
      "64\n",
      "65\n",
      "66\n",
      "67\n",
      "68\n",
      "69\n",
      "70\n",
      "71\n",
      "72\n",
      "73\n",
      "74\n",
      "75\n",
      "76\n",
      "77\n",
      "78\n",
      "79\n",
      "80\n",
      "81\n",
      "82\n",
      "83\n",
      "84\n",
      "85\n",
      "86\n",
      "87\n",
      "88\n",
      "89\n",
      "90\n",
      "91\n",
      "92\n",
      "93\n",
      "94\n",
      "95\n",
      "96\n",
      "97\n",
      "98\n",
      "99\n",
      "100\n"
     ]
    }
   ],
   "source": [
    "def num(x):\n",
    "    for x in range(x,101):\n",
    "        print(x)\n",
    "num(1)"
   ]
  },
  {
   "cell_type": "code",
   "execution_count": 42,
   "id": "de079eb2-7d29-41f0-a776-2eb95ac39841",
   "metadata": {},
   "outputs": [
    {
     "name": "stdout",
     "output_type": "stream",
     "text": [
      "welcome to vij ai\n"
     ]
    }
   ],
   "source": [
    "def welcome():\n",
    "    print(\"welcome to vij ai\")\n",
    "welcome()"
   ]
  },
  {
   "cell_type": "code",
   "execution_count": 48,
   "id": "aff3f860-39db-4d07-afdc-288bd9029c3c",
   "metadata": {},
   "outputs": [
    {
     "name": "stdout",
     "output_type": "stream",
     "text": [
      "weldone\n"
     ]
    }
   ],
   "source": [
    "def marks():\n",
    "    marks=800\n",
    "    if marks > 500:\n",
    "        print(\"weldone\")\n",
    "    elif marks > 400:\n",
    "        print(\"good\")\n",
    "    elif marks > 300:\n",
    "        print(\"not bed\")\n",
    "    else: \n",
    "        print(\"fail\")\n",
    "marks()"
   ]
  },
  {
   "cell_type": "code",
   "execution_count": 54,
   "id": "dad32292-e35c-4471-8a2b-ddc73476d8df",
   "metadata": {},
   "outputs": [],
   "source": [
    "def name():\n",
    "    name=[\"rohit\",\"mohit\"]\n",
    "    \"rohit\" in name\n",
    "name()"
   ]
  },
  {
   "cell_type": "code",
   "execution_count": 56,
   "id": "01589ac4-5f35-4107-a70a-5b7da81a57a7",
   "metadata": {},
   "outputs": [
    {
     "name": "stdout",
     "output_type": "stream",
     "text": [
      "(15, 5, 50, 2.0)\n"
     ]
    }
   ],
   "source": [
    "def arithmetic_ops(a, b):\n",
    "    sum_ab = a + b\n",
    "    sub_ab = a - b\n",
    "    multi_ab = a * b\n",
    "    divide_ab = a / b\n",
    "    return (sum_ab, sub_ab, multi_ab, divide_ab)\n",
    "result = arithmetic_ops(10, 5)\n",
    "print(result)  \n"
   ]
  },
  {
   "cell_type": "code",
   "execution_count": 59,
   "id": "8e94b884-ce88-414e-b933-2ff9267b0965",
   "metadata": {},
   "outputs": [
    {
     "name": "stdout",
     "output_type": "stream",
     "text": [
      "{'greater': False, 'equal': False, 'less': True}\n"
     ]
    }
   ],
   "source": [
    "def compare_numbers(a, b):\n",
    "    return {\n",
    "        \"greater\": a > b,\n",
    "        \"equal\": a == b,\n",
    "        \"less\": a < b\n",
    "    }\n",
    "result = compare_numbers(7, 10)\n",
    "print(result)  \n"
   ]
  },
  {
   "cell_type": "raw",
   "id": "f9f61129-f4c6-410f-bb9f-485253907124",
   "metadata": {},
   "source": []
  }
 ],
 "metadata": {
  "kernelspec": {
   "display_name": "Python 3 (ipykernel)",
   "language": "python",
   "name": "python3"
  },
  "language_info": {
   "codemirror_mode": {
    "name": "ipython",
    "version": 3
   },
   "file_extension": ".py",
   "mimetype": "text/x-python",
   "name": "python",
   "nbconvert_exporter": "python",
   "pygments_lexer": "ipython3",
   "version": "3.13.5"
  }
 },
 "nbformat": 4,
 "nbformat_minor": 5
}
