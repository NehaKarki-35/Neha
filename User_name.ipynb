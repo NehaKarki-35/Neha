{
 "cells": [
  {
   "cell_type": "code",
   "execution_count": 1,
   "id": "a5b87f4c-aaf1-4884-8dec-80bf01520de0",
   "metadata": {},
   "outputs": [],
   "source": [
    "# Validate user input exercise\n",
    "# username is no more than 12 char\n",
    "# username must not contains space\n",
    "# username must not contains digits"
   ]
  },
  {
   "cell_type": "code",
   "execution_count": 11,
   "id": "5632ddde-9b26-4cc0-b14e-eeca8daf4a0b",
   "metadata": {},
   "outputs": [
    {
     "name": "stdin",
     "output_type": "stream",
     "text": [
      "enter your full name: N KARKI\n"
     ]
    },
    {
     "name": "stdout",
     "output_type": "stream",
     "text": [
      "your username can not be contains digits\n"
     ]
    }
   ],
   "source": [
    "User_name=input(\"enter your full name:\")\n",
    "if len(User_name) > 12:\n",
    "    print(\"your username can not be more than 12 char\")\n",
    "elif not User_name.find(\" \"):\n",
    "    print(\"your username can not be contains space\")\n",
    "elif not User_name.isalpha():\n",
    "    print(\"your username can not be contains digits\")\n",
    "else:\n",
    "    print(f\"Welcome {User_name}\")"
   ]
  },
  {
   "cell_type": "code",
   "execution_count": null,
   "id": "56d5c14e-bc86-478f-aec8-1884a51fbda2",
   "metadata": {},
   "outputs": [],
   "source": []
  },
  {
   "cell_type": "code",
   "execution_count": null,
   "id": "b1772276-3957-4725-8c17-ca7264b84d32",
   "metadata": {},
   "outputs": [],
   "source": []
  }
 ],
 "metadata": {
  "kernelspec": {
   "display_name": "Python 3 (ipykernel)",
   "language": "python",
   "name": "python3"
  },
  "language_info": {
   "codemirror_mode": {
    "name": "ipython",
    "version": 3
   },
   "file_extension": ".py",
   "mimetype": "text/x-python",
   "name": "python",
   "nbconvert_exporter": "python",
   "pygments_lexer": "ipython3",
   "version": "3.13.5"
  }
 },
 "nbformat": 4,
 "nbformat_minor": 5
}
