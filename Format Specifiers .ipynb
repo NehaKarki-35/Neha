{
 "cells": [
  {
   "cell_type": "markdown",
   "id": "a8336ef2-9ba7-48e3-8d9f-b82d87033269",
   "metadata": {},
   "source": [
    "# format secifiers = {value:flags} format a value based on what flags are inserted"
   ]
  },
  {
   "cell_type": "code",
   "execution_count": 6,
   "id": "2394fdaa-94d9-45c1-902e-3d727f7866ec",
   "metadata": {},
   "outputs": [
    {
     "name": "stdout",
     "output_type": "stream",
     "text": [
      "price 1 is 45.46\n",
      "price 2 is  783.346\n",
      "price 3 is  7.3457\n"
     ]
    }
   ],
   "source": [
    "price1= 45.4555678\n",
    "price2=783.3456789\n",
    "price3=7.34567890\n",
    "print(f\"price 1 is {price1:.2f}\")\n",
    "print(f\"price 2 is {price2: .3f}\")\n",
    "print(f\"price 3 is {price3: .4f}\")"
   ]
  },
  {
   "cell_type": "code",
   "execution_count": null,
   "id": "172fee44-86fe-4e5d-a4c9-2ae808f82c56",
   "metadata": {},
   "outputs": [],
   "source": []
  }
 ],
 "metadata": {
  "kernelspec": {
   "display_name": "Python 3 (ipykernel)",
   "language": "python",
   "name": "python3"
  },
  "language_info": {
   "codemirror_mode": {
    "name": "ipython",
    "version": 3
   },
   "file_extension": ".py",
   "mimetype": "text/x-python",
   "name": "python",
   "nbconvert_exporter": "python",
   "pygments_lexer": "ipython3",
   "version": "3.13.5"
  }
 },
 "nbformat": 4,
 "nbformat_minor": 5
}
